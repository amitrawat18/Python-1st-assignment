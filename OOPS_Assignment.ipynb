{
  "nbformat": 4,
  "nbformat_minor": 0,
  "metadata": {
    "colab": {
      "provenance": []
    },
    "kernelspec": {
      "name": "python3",
      "display_name": "Python 3"
    },
    "language_info": {
      "name": "python"
    }
  },
  "cells": [
    {
      "cell_type": "markdown",
      "source": [
        "##**Question-1) What are the five key concepts of Object-Oriented Programming (OOP)?**\n",
        "\n",
        "**Answer-1)** Five key concepts of OOP are:-\n",
        "1. **Inheritance:**\n",
        "\n",
        "Inheritance is the mechanism by which one class (child or subclass) can acquire the properties and behaviors (methods) of another class (parent or superclass). It allows for code reuse and the creation of a hierarchical relationship between classes. For example, a Dog class might inherit from an Animal class, gaining its attributes and methods while also adding its own specific features.\n",
        "\n",
        "2. **Abstraction:**\n",
        "\n",
        "Abstraction involves simplifying complex systems by hiding the unnecessary details and exposing only the essential features. It allows a programmer to focus on a simplified interface for interacting with objects, without worrying about the underlying implementation. For example, in a car object, we might only need to know how to drive the car, without needing to understand how the engine works internally.\n",
        "\n",
        "3. **Polymorphism:**\n",
        "\n",
        "Polymorphism allows objects of different classes to be treated as objects of a common superclass. It enables a single method or function to work with different types of objects. Polymorphism can be achieved through method overriding (where a subclass provides its own implementation of a method defined in the superclass) and method overloading (where the same method name can be used with different parameters). This promotes flexibility and the ability to extend systems without changing existing code.\n",
        "\n",
        "4. **Encapsulation:**\n",
        "\n",
        "Encapsulation is the concept of bundling the data (attributes) and methods (functions) that operate on the data into a single unit called a class. It also involves restricting direct access to some of the object's components, which is usually done by making some attributes or methods private and only providing access through public methods (getters and setters). This helps protect the integrity of the data and prevents unintended interference from outside the\n",
        "class.\n",
        "\n",
        "5. **Objects and Classes:**\n",
        "\n",
        "Class:\n",
        "\n",
        " A class in OOP is a blueprint or a template for creating objects. It defines a data structure that encapsulates both the attributes (data) and behaviors (methods) that operate on the data. A class serves as the foundation for creating instances (objects) that share the same structure but can have unique data.\n",
        "\n",
        "Object:\n",
        "\n",
        "An object is an instance of a class. When a class is defined, no memory is allocated until an object of that class is created. Each object created from the same class can have different values for its attributes, but all objects share the same structure and behaviors (methods) as defined by the class.\n",
        "\n",
        "\n"
      ],
      "metadata": {
        "id": "FOVvahkA3GI1"
      }
    },
    {
      "cell_type": "markdown",
      "source": [
        "##**Question-2) Write a Python class for a `Car` with attributes for `make`, `model`, and `year`. Include a method to display the car's information.**\n",
        "\n",
        "**Answer-2)**\n",
        "\n",
        "\n"
      ],
      "metadata": {
        "id": "UEJrqBPI5Wwh"
      }
    },
    {
      "cell_type": "code",
      "execution_count": null,
      "metadata": {
        "id": "TgavVfdL3AXa"
      },
      "outputs": [],
      "source": [
        "class Car:              # first we introduced a class \"Car\"\n",
        "  def __init__(self, make, model, year):    #now we will use __init__ function\n",
        "    self.make = make                        #to initialize the method\n",
        "    self.model = model\n",
        "    self.year = year\n",
        "    print(self.make, self.model, self.year)"
      ]
    },
    {
      "cell_type": "code",
      "source": [
        "car_info= Car(\"Mahindra\", \"BE-6\", \"2024\")  # here we defined a object car_info\n",
        "info.make"
      ],
      "metadata": {
        "colab": {
          "base_uri": "https://localhost:8080/",
          "height": 53
        },
        "id": "jQohg2wP6uwg",
        "outputId": "f61ee7c4-8915-4ff6-9063-36e50c394d3f"
      },
      "execution_count": null,
      "outputs": [
        {
          "output_type": "stream",
          "name": "stdout",
          "text": [
            "Mahindra BE-6 2024\n"
          ]
        },
        {
          "output_type": "execute_result",
          "data": {
            "text/plain": [
              "'Mahindra'"
            ],
            "application/vnd.google.colaboratory.intrinsic+json": {
              "type": "string"
            }
          },
          "metadata": {},
          "execution_count": 5
        }
      ]
    },
    {
      "cell_type": "code",
      "source": [
        "car_info.model"
      ],
      "metadata": {
        "colab": {
          "base_uri": "https://localhost:8080/",
          "height": 36
        },
        "id": "pAEugxEP7Dzx",
        "outputId": "31d8aa68-00b4-4d1e-f8b5-4de7a9c5ab7c"
      },
      "execution_count": null,
      "outputs": [
        {
          "output_type": "execute_result",
          "data": {
            "text/plain": [
              "'BE-6'"
            ],
            "application/vnd.google.colaboratory.intrinsic+json": {
              "type": "string"
            }
          },
          "metadata": {},
          "execution_count": 6
        }
      ]
    },
    {
      "cell_type": "code",
      "source": [
        "car_info.year"
      ],
      "metadata": {
        "colab": {
          "base_uri": "https://localhost:8080/",
          "height": 36
        },
        "id": "xuFfS0JX7HS1",
        "outputId": "820ac0f5-96f3-499c-dd1f-51f7d342e517"
      },
      "execution_count": null,
      "outputs": [
        {
          "output_type": "execute_result",
          "data": {
            "text/plain": [
              "'2024'"
            ],
            "application/vnd.google.colaboratory.intrinsic+json": {
              "type": "string"
            }
          },
          "metadata": {},
          "execution_count": 7
        }
      ]
    },
    {
      "cell_type": "markdown",
      "source": [
        "##**Question-3) Explain the difference between instance methods and class methods. Provide an example of each.**\n",
        "\n",
        "**Answer-3)**  In Python, both instance methods and class methods are types of methods that are defined within a class. However, they differ in how they are called and how they access class or instance data. Here's a detailed explanation of both, along with examples:\n",
        "## Instance Methods:\n",
        "Instance methods are the most common type of methods in Python classes. They are tied to an instance (object) of the class and can access and modify the object's attributes. These methods are called on an object and receive the object as the first argument (self), which allows them to access and modify the object's data\n",
        "\n",
        "* Instance methods work with instance attributes (i.e., data unique to each object).\n",
        "* They are defined by including self as the first parameter, which refers to the instance of the class.\n",
        "\n",
        "\n"
      ],
      "metadata": {
        "id": "PBrSHhu_3E5y"
      }
    },
    {
      "cell_type": "code",
      "source": [
        "class Car:\n",
        "    def __init__(self, make, model, year):\n",
        "        self.make = make\n",
        "        self.model = model\n",
        "        self.year = year\n",
        "\n",
        "    # Instance method\n",
        "    def display_info(self):\n",
        "        print(f\"Car Information: {self.make} {self.model} {self.year}\")\n",
        "\n",
        "# Creating an instance of Car\n",
        "my_car = Car(\"TATA-\", \"CURVV-\", 2024)\n",
        "\n",
        "# Calling the instance method\n",
        "my_car.display_info()\n"
      ],
      "metadata": {
        "colab": {
          "base_uri": "https://localhost:8080/"
        },
        "id": "dTZR6B2L8_YH",
        "outputId": "30f33ff5-fbd5-48b5-e889-465747a1b8c3"
      },
      "execution_count": null,
      "outputs": [
        {
          "output_type": "stream",
          "name": "stdout",
          "text": [
            "Car Information: TATA- CURVV- 2024\n"
          ]
        }
      ]
    },
    {
      "cell_type": "markdown",
      "source": [
        "## Class Methods:\n",
        "Class methods, on the other hand, are bound to the class itself, not to instances (objects). They are used for operations that involve the class as a whole, rather than individual instances. A class method takes a reference to the class (cls) as its first parameter, rather than the instance (self). This allows class methods to access and modify class-level attributes (shared by all instances).\n",
        "\n",
        "* Class methods work with class attributes (i.e., data shared by all instances of the class).\n",
        "* They are defined using the @classmethod decorator, and the first parameter is cls, which refers to the class itself."
      ],
      "metadata": {
        "id": "adSMffGe9i8P"
      }
    },
    {
      "cell_type": "code",
      "source": [
        "class Car:\n",
        "    brand = \"TATA\"\n",
        "    model = \"Safari\"\n",
        "\n",
        "    @classmethod\n",
        "    def get_car_details(cls):\n",
        "        print(f\"Brand: {cls.brand}\")\n",
        "        print(f\"Model: {cls.model}\")\n",
        "\n",
        "Car.get_car_details()\n"
      ],
      "metadata": {
        "colab": {
          "base_uri": "https://localhost:8080/"
        },
        "id": "vbLoFTHU9N8N",
        "outputId": "22b10d6b-b8e2-4380-dbbe-85416c83a479"
      },
      "execution_count": null,
      "outputs": [
        {
          "output_type": "stream",
          "name": "stdout",
          "text": [
            "Brand: TATA\n",
            "Model: Safari\n"
          ]
        }
      ]
    },
    {
      "cell_type": "markdown",
      "source": [
        "##**Question-4)How does Python implement method overloading? Give an example.**\n",
        "\n",
        "**Answer_4)** Python does not directly support method overloading like some other languages like Java or C++. However, it provides a mechanism to achieve similar functionality through a technique called method overriding.\n",
        "\n",
        "While Python does not directly support method overloading by function signature (e.g., methods with the same name but different parameters), it achieves a form of method overloading by using default arguments or variable-length argument lists."
      ],
      "metadata": {
        "id": "B4ybefBEADE4"
      }
    },
    {
      "cell_type": "code",
      "source": [
        "class Student:\n",
        "    def student(self):\n",
        "        prnt(\"Welcome to PWSKILLS\")\n",
        "    def student(self, name=\"\"):\n",
        "        print(\"Welcome to PWSKILLS\", name)\n",
        "    def student(self, name=\"\", course=\"\"):\n",
        "        print(\"Welcome to PWSKILLS\", name, course)\n",
        "\n",
        "# this is a simple example to get any particular info\n",
        "# in this we have to seperately write the insatnces to call information"
      ],
      "metadata": {
        "id": "cx7SS5JO_0QN"
      },
      "execution_count": null,
      "outputs": []
    },
    {
      "cell_type": "code",
      "source": [
        "std_info=Student()\n",
        "std_info.student()"
      ],
      "metadata": {
        "colab": {
          "base_uri": "https://localhost:8080/"
        },
        "id": "qODUCB60A3Fx",
        "outputId": "47a5c44e-4c27-4d81-9387-08f8da29d064"
      },
      "execution_count": null,
      "outputs": [
        {
          "output_type": "stream",
          "name": "stdout",
          "text": [
            "Welcome to PWSKILLS  \n"
          ]
        }
      ]
    },
    {
      "cell_type": "code",
      "source": [
        "std_info.student(\"Amit\")"
      ],
      "metadata": {
        "colab": {
          "base_uri": "https://localhost:8080/"
        },
        "id": "Bq4AP82YBNrI",
        "outputId": "3c9003e8-f52b-4271-f9e9-6140f2cae87e"
      },
      "execution_count": null,
      "outputs": [
        {
          "output_type": "stream",
          "name": "stdout",
          "text": [
            "Welcome to PWSKILLS Amit \n"
          ]
        }
      ]
    },
    {
      "cell_type": "code",
      "source": [
        "std_info.student(\"Amit\"\" , Data Science\")"
      ],
      "metadata": {
        "colab": {
          "base_uri": "https://localhost:8080/"
        },
        "id": "GznzL02mBb_j",
        "outputId": "d09520a1-8e8b-4170-ffc6-6d9c460389df"
      },
      "execution_count": null,
      "outputs": [
        {
          "output_type": "stream",
          "name": "stdout",
          "text": [
            "Welcome to PWSKILLS Amit , Data Science \n"
          ]
        }
      ]
    },
    {
      "cell_type": "code",
      "source": [
        "# here we will see method overriding for the above example only\n",
        "\n",
        "class Students:\n",
        "    def student_info(self, name=\"\", course=\"\"):\n",
        "        print(\"Welcome to PWSKILLS\", name, course)\n",
        "data=Students()"
      ],
      "metadata": {
        "id": "eGGj_oYrBre6"
      },
      "execution_count": null,
      "outputs": []
    },
    {
      "cell_type": "code",
      "source": [
        "data.student_info()"
      ],
      "metadata": {
        "colab": {
          "base_uri": "https://localhost:8080/"
        },
        "id": "JEcOt15xCvzV",
        "outputId": "e5c5abf7-17ba-4713-e6f9-c422cbc039ce"
      },
      "execution_count": null,
      "outputs": [
        {
          "output_type": "stream",
          "name": "stdout",
          "text": [
            "Welcome to PWSKILLS  \n"
          ]
        }
      ]
    },
    {
      "cell_type": "code",
      "source": [
        "data.student_info(\"Amit\")"
      ],
      "metadata": {
        "colab": {
          "base_uri": "https://localhost:8080/"
        },
        "id": "ci7iSOs_C8_1",
        "outputId": "71b7ee76-9aab-46b0-98c5-7c103a6ea86c"
      },
      "execution_count": null,
      "outputs": [
        {
          "output_type": "stream",
          "name": "stdout",
          "text": [
            "Welcome to PWSKILLS Amit \n"
          ]
        }
      ]
    },
    {
      "cell_type": "code",
      "source": [
        "data.student_info(\"Amit\" \" Data Science\")\n",
        "\n",
        "# here we defined the data in a single instance this\n",
        "# is method overlading"
      ],
      "metadata": {
        "colab": {
          "base_uri": "https://localhost:8080/"
        },
        "id": "fPMBrBuBDDmH",
        "outputId": "d6f18074-b146-4f69-e30a-32218d5c03bf"
      },
      "execution_count": null,
      "outputs": [
        {
          "output_type": "stream",
          "name": "stdout",
          "text": [
            "Welcome to PWSKILLS Amit Data Science \n"
          ]
        }
      ]
    },
    {
      "cell_type": "markdown",
      "source": [
        "##**Question-5)What are the three types of access modifiers in Python? How are they denoted.**\n",
        "\n",
        "**Answer-5)** In Python, there are three types of access modifiers that control the visibility of variables and methods within a class. These access modifiers help in defining the level of access to attributes and methods, both within the class itself and from outside.\n",
        "\n",
        "##  **1. Public Access:-**\n",
        "* Denoted by: No underscore prefix (default).\n",
        "* Description: Public members (variables or methods) are accessible from anywhere, both within the class and outside the class.\n",
        "\n",
        "## **2.Protected Access:-**\n",
        "\n",
        "* Denoted by: A single underscore (_).\n",
        "* Description: Protected members are intended to be used within the class and its subclasses. They are not strictly private but should be treated as protected (i.e., they are not meant for direct access from outside the class). However, they are still technically accessible.\n",
        "\n",
        "## **3.Private Access:-**\n",
        "\n",
        "* Denoted by: A double underscore (__).\n",
        "* Description: Private members are intended to be used only within the class. These members are name-mangled by Python, which makes them harder to access directly from outside the class. While they can still be accessed using a special name-mangled form, it is not recommended."
      ],
      "metadata": {
        "id": "U5RsqK7UEyAh"
      }
    },
    {
      "cell_type": "markdown",
      "source": [
        "##**Question-6)Describe the five types of inheritance in Python. Provide a simple example of multiple inheritance.**\n",
        "**Answer-6)** In Python, inheritance is a mechanism that allows a class (child or subclass) to inherit attributes and methods from another class (parent or superclass). Python supports several types of inheritance, each having its own characteristics and use cases. Here are the five main types of inheritance in Python:\n",
        "\n",
        "## **Single Inheritance:-**\n",
        "In single inheritance, a subclass inherits from a single parent class.\n",
        "In this there is a parent class which has it's own method and then we have a\n",
        "child class which also has it's own method but we can allow childclass to have\n",
        "both the methods that of parent class and it's own.\n",
        "\n",
        "## **Multilevel Inheritance:-**\n",
        "In multilevel inheritance, a class inherits from a parent class, and another class inherits from that class, forming a chain of inheritance.\n",
        "\n",
        "In simple terms like how father inherits from grandfather and we inherit from our father and our child will inherit from us this is what happens in a multilevel inheritance.\n",
        "\n",
        "\n",
        "## **Multiple Inheritance:-**\n",
        "In multiple inheritance, a subclass inherits from more than one parent class. The subclass can access the attributes and methods of all parent classes.\n",
        "\n",
        "It is like how a child inherits from both the father and mother."
      ],
      "metadata": {
        "id": "hIX20VVkGhjI"
      }
    },
    {
      "cell_type": "code",
      "source": [
        "class Defence:          #This is the first parent class\n",
        "    def forces(self):\n",
        "        print(\"These are Indian Armed Forces\")\n",
        "\n",
        "class Discipline:      #This is the second parent class\n",
        "    def quality(self):\n",
        "        print(\"Discipline is the base of Armed Forces\")\n",
        "\n",
        "class Navy(Discipline, Defence):  #This is the child class\n",
        "    def Serve(self):\n",
        "        print(\"Indian Navy serves with Discipline\")\n",
        "\n",
        "aspirant=Navy()    # child class will have access to both the parent classes\n",
        "aspirant.forces()\n",
        "aspirant.quality()\n",
        "aspirant.Serve()\n"
      ],
      "metadata": {
        "colab": {
          "base_uri": "https://localhost:8080/"
        },
        "id": "SgZXdoWTHP2u",
        "outputId": "18950c70-a81c-429a-8564-677078458840"
      },
      "execution_count": null,
      "outputs": [
        {
          "output_type": "stream",
          "name": "stdout",
          "text": [
            "These are Indian Armed Forces\n",
            "Discipline is the base of Armed Forces\n",
            "Indian Navy serves with Discipline\n"
          ]
        }
      ]
    },
    {
      "cell_type": "markdown",
      "source": [
        "##**Hierarchical Inheritance:-**\n",
        "\n",
        "In hierarchical inheritance, multiple classes inherit from a single parent class. All subclasses share the same parent but may have different implementations of methods.\n",
        "\n",
        "Now let us consider we are two siblings then we both will be inheriting from our parents this is what hierarchial inheritance refers to.\n",
        "\n",
        "\n",
        "##**Hybrid Inheritance:-**\n",
        "\n",
        "Hybrid inheritance is a combination of two or more types of inheritance. It can involve single, multiple, multilevel, and hierarchical inheritance combined within a single program."
      ],
      "metadata": {
        "id": "e8CPnffwNlC6"
      }
    },
    {
      "cell_type": "markdown",
      "source": [
        "##**Question-7)What is the Method Resolution Order (MRO) in Python? How can you retrieve it programmatically?**\n",
        "\n",
        "**Answer-7)** The Method Resolution Order (MRO) in Python is the order in which methods are inherited from base classes when a method is called on an instance of a class. It is important in the context of multiple inheritance, where a class inherits from more than one parent class. The MRO ensures that methods and attributes are resolved in a consistent and predictable way.\n",
        "\n",
        "When you call a method or access an attribute on an object, Python needs to figure out in which class the method or attribute is defined. The MRO defines the order in which the base classes are searched. Python uses the C3 linearization algorithm to compute the MRO.\n",
        "\n",
        "* Depth-First Search: Python uses a depth-first search algorithm to traverse the inheritance hierarchy.\n",
        "* Linearization: The algorithm linearizes the class hierarchy into a single linear sequence of classes.\n",
        "* Method Lookup: When a method is called on an instance, Python searches for the method in the linearization order, starting from the instance's class and moving up the hierarchy."
      ],
      "metadata": {
        "id": "ogeb93WCOHIa"
      }
    },
    {
      "cell_type": "code",
      "source": [
        "class A:\n",
        "    pass\n",
        "\n",
        "class B(A):\n",
        "    pass\n",
        "\n",
        "class C(A):\n",
        "    pass\n",
        "\n",
        "class D(B, C):\n",
        "    pass\n",
        "\n",
        "print(D.__mro__)"
      ],
      "metadata": {
        "id": "tqYd6wyWNGDP",
        "colab": {
          "base_uri": "https://localhost:8080/"
        },
        "outputId": "1753becb-6c00-4d91-defe-c56f501ec65f"
      },
      "execution_count": 1,
      "outputs": [
        {
          "output_type": "stream",
          "name": "stdout",
          "text": [
            "(<class '__main__.D'>, <class '__main__.B'>, <class '__main__.C'>, <class '__main__.A'>, <class 'object'>)\n"
          ]
        }
      ]
    },
    {
      "cell_type": "markdown",
      "source": [
        "Explanation of the Output:\n",
        "\n",
        "* D: The class itself.\n",
        "* B: The first parent class in the inheritance list.\n",
        "* C: The second parent class.\n",
        "* A: The common parent class of B and C.\n",
        "* object: The base class of all Python objects.\n",
        "\n",
        "Key Points to Remember:\n",
        "\n",
        "MRO is essential for understanding how method calls are resolved in Python.\n",
        "Python's MRO algorithm ensures that method resolution is unambiguous.\n",
        "Multiple inheritance can lead to complex MRO scenarios, so it's important to be aware of how MRO works.\n",
        "By understanding MRO, you can write more efficient and predictable Python code."
      ],
      "metadata": {
        "id": "7cV9WOJFAz00"
      }
    },
    {
      "cell_type": "markdown",
      "source": [
        "##**Quetion-8)Create an abstract base class `Shape` with an abstract method `area()`. Then create two subclasses `Circle` and `Rectangle` that implement the `area()` method.**\n",
        "\n",
        "**Answer-8)**  \n",
        "To create an abstract base class Shape with an abstract method area(), you need to use Python's abc (Abstract Base Classes) module. This module allows you to define abstract methods that must be implemented by subclasses.\n",
        "\n",
        "Steps:\n",
        "* Define the Shape class as an abstract base class.\n",
        "* Declare the abstract method area() in the Shape class.\n",
        "* Create the subclasses Circle and Rectangle, each implementing the area() method."
      ],
      "metadata": {
        "id": "nYlPX9rdBIDC"
      }
    },
    {
      "cell_type": "code",
      "source": [
        "from abc import ABC, abstractmethod\n",
        "import math\n",
        "\n",
        "# Abstract base class Shape\n",
        "class Shape(ABC):\n",
        "    @abstractmethod\n",
        "    def area(self):\n",
        "        pass\n",
        "\n",
        "# Subclass Circle implementing area method\n",
        "class Circle(Shape):\n",
        "    def __init__(self, radius):\n",
        "        self.radius = radius\n",
        "\n",
        "    def area(self):\n",
        "        return math.pi * (self.radius ** 2)\n",
        "\n",
        "# Subclass Rectangle implementing area method\n",
        "class Rectangle(Shape):\n",
        "    def __init__(self, width, height):\n",
        "        self.width = width\n",
        "        self.height = height\n",
        "\n",
        "    def area(self):\n",
        "        return self.width * self.height\n",
        "\n",
        "# Create instances of Circle and Rectangle\n",
        "circle = Circle(7)\n",
        "rectangle = Rectangle(10, 20)\n",
        "\n",
        "print(f\"Area of Circle: {circle.area()}\")\n",
        "print(f\"Area of Rectangle: {rectangle.area()}\")\n"
      ],
      "metadata": {
        "colab": {
          "base_uri": "https://localhost:8080/"
        },
        "id": "_NY7QQYCAhcg",
        "outputId": "fb1a1379-7b64-4323-e7a6-43939d887934"
      },
      "execution_count": 4,
      "outputs": [
        {
          "output_type": "stream",
          "name": "stdout",
          "text": [
            "Area of Circle: 153.93804002589985\n",
            "Area of Rectangle: 200\n"
          ]
        }
      ]
    },
    {
      "cell_type": "markdown",
      "source": [
        "**Shape class** (Abstract Base Class):\n",
        "\n",
        "* It inherits from ABC (the base class for all abstract classes in Python).\n",
        "* The area() method is declared as abstract using the @abstractmethod decorator, meaning any subclass must implement this method.\n",
        "\n",
        "**Circle class:**\n",
        "\n",
        "* This class takes a radius as an argument during initialization.\n",
        "* The area() method is implemented using the formula for the area of a circle: πr\n",
        "2\n",
        "\n",
        "**Rectangle class:**\n",
        "\n",
        "* This class takes width and height as arguments during initialization.\n",
        "* The area() method is implemented using the formula for the area of a rectangle:\n",
        "width\n",
        "×\n",
        "height\n",
        "width×height.\n",
        "\n",
        "**Creating Instances:**\n",
        "\n",
        "* We create an instance of Circle with a radius of 5 and an instance of Rectangle with width 4 and height 6.\n",
        "* We then print the area of both shapes using the respective area() method."
      ],
      "metadata": {
        "id": "4_KuQytTCLem"
      }
    },
    {
      "cell_type": "markdown",
      "source": [
        "##**Question-9)Demonstrate polymorphism by creating a function that can work with different shape objects to calculate and print their areas.**\n",
        "\n",
        "**Answer-9)**Polymorphism in Python allows us to use a single function to work with objects of different types (classes). This can be achieved by having the objects implement the same method (e.g., area()), and then using those objects interchangeably in a function.\n",
        "\n",
        "In the context of your Shape, Circle, and Rectangle classes, we can create a function print_area() that accepts different shape objects and calculates and prints their areas. Since both Circle and Rectangle have an area() method, the function can work with any shape object, demonstrating polymorphism."
      ],
      "metadata": {
        "id": "meMS15R3C7_Y"
      }
    },
    {
      "cell_type": "code",
      "source": [
        "from abc import ABC, abstractmethod\n",
        "import math\n",
        "\n",
        "# Abstract base class Shape\n",
        "class Shape(ABC):\n",
        "    @abstractmethod\n",
        "    def area(self):\n",
        "        pass\n",
        "\n",
        "# Subclass Circle implementing area method\n",
        "class Circle(Shape):\n",
        "    def __init__(self, radius):\n",
        "        self.radius = radius\n",
        "\n",
        "    def area(self):\n",
        "        return math.pi * (self.radius ** 2)\n",
        "\n",
        "# Subclass Rectangle implementing area method\n",
        "class Rectangle(Shape):\n",
        "    def __init__(self, width, height):\n",
        "        self.width = width\n",
        "        self.height = height\n",
        "\n",
        "    def area(self):\n",
        "        return self.width * self.height\n",
        "\n",
        "# Function to print area of different shapes (demonstrating polymorphism)\n",
        "def print_area(shape: Shape):\n",
        "    print(f\"Area of {shape.__class__.__name__}: {shape.area()}\")\n",
        "\n",
        "# Create instances of Circle and Rectangle\n",
        "circle = Circle(14)\n",
        "rectangle = Rectangle(12, 18)\n",
        "\n",
        "# Using polymorphism to print areas of different shapes\n",
        "print_area(circle)\n",
        "print_area(rectangle)\n"
      ],
      "metadata": {
        "colab": {
          "base_uri": "https://localhost:8080/"
        },
        "id": "1ETqiIE7B-So",
        "outputId": "e4785bf1-7f77-4ff1-efbd-006b964f0fe7"
      },
      "execution_count": 6,
      "outputs": [
        {
          "output_type": "stream",
          "name": "stdout",
          "text": [
            "Area of Circle: 615.7521601035994\n",
            "Area of Rectangle: 216\n"
          ]
        }
      ]
    },
    {
      "cell_type": "markdown",
      "source": [
        "**Shape Class (Abstract Base Class):**\n",
        "\n",
        "The Shape class is abstract with an abstract method area(), which must be implemented by subclasses.\n",
        "\n",
        "**Circle and Rectangle Classes:**\n",
        "\n",
        "Both the Circle and Rectangle classes implement the area() method in their respective ways.\n",
        "\n",
        "**Polymorphism with print_area():**\n",
        "\n",
        "The function print_area() accepts a Shape object as a parameter.\n",
        "Thanks to polymorphism, this function can accept any object that is a subclass of Shape, whether it is a Circle or a Rectangle.\n",
        "The function calls shape.area() on the object, and Python will automatically call the correct area() method for the specific type of shape (circle or rectangle).\n",
        "\n",
        "**Polymorphic Behavior:**\n",
        "\n",
        "When we pass an object of type Circle or Rectangle to the print_area() function, it works seamlessly with both types of objects, demonstrating polymorphism.\n",
        "\n",
        "This is a simple demonstration of polymorphism in Python, where the same function print_area() can be used to handle different objects (shapes in this case) and produce the correct result for each, depending on the class of the object passed."
      ],
      "metadata": {
        "id": "TXk1gMHpDs4q"
      }
    },
    {
      "cell_type": "markdown",
      "source": [
        "##**Question-10)Implement encapsulation in a `BankAccount` class with private attributes for `balance` and `account_number`. Include methods for deposit, withdrawal, and balance inquiry.**\n",
        "\n",
        "**Answer_10)**Encapsulation is a fundamental concept of object-oriented programming (OOP) with many programming benefits. It is one of four OOP concepts with a unique purpose, the other three being inheritance, polymorphism, and abstraction. Continue reading to learn what encapsulation in OOP is, how it works, the different types of encapsulation, its benefits, and how it differs from other OOP concepts.\n",
        "\n",
        "Here is an implementation of the BankAccount class that encapsulates the balance and account_number attributes by making them private. It also includes methods for deposit, withdrawal, and balance inquiry."
      ],
      "metadata": {
        "id": "rzrubFvfEKWQ"
      }
    },
    {
      "cell_type": "code",
      "source": [
        "class BankAccount:\n",
        "    def __init__(self, account_number, initial_balance=0):\n",
        "        self.__account_number = account_number  # private attribute for acc. no.\n",
        "        self.__balance = initial_balance        # private attribute for balance\n",
        "\n",
        "    # Method to deposit money\n",
        "    def deposit(self, amount):\n",
        "        if amount > 0:\n",
        "            self.__balance += amount\n",
        "            print(f\"Deposited {amount}. New balance: {self.__balance}\")\n",
        "        else:\n",
        "            print(\"Deposit amount must be positive.\")\n",
        "\n",
        "    # Method to withdraw money\n",
        "    def withdraw(self, amount):\n",
        "        if amount > 0 and amount <= self.__balance:\n",
        "            self.__balance -= amount\n",
        "            print(f\"Withdrew {amount}. New balance: {self.__balance}\")\n",
        "        else:\n",
        "            print(\"Invalid withdrawal amount or insufficient funds.\")\n",
        "\n",
        "    # Method to get the current balance\n",
        "    def get_balance(self):\n",
        "        return self.__balance\n",
        "\n",
        "    # Method to get the acc. no. (though it is private, this provides access)\n",
        "    def get_account_number(self):\n",
        "        return self.__account_number\n",
        "\n",
        "# Example usage\n",
        "account = BankAccount(123456789, 6000)  # Create a BankAccount object\n",
        "account.deposit(2500)                    # Deposit money\n",
        "account.withdraw(1000)                   # Withdraw money\n",
        "print(\"Current balance:\", account.get_balance())  # Check balance\n"
      ],
      "metadata": {
        "colab": {
          "base_uri": "https://localhost:8080/"
        },
        "id": "80IDC6UmDiam",
        "outputId": "3e73d706-4b60-45ad-e66c-0b76b90f9052"
      },
      "execution_count": 11,
      "outputs": [
        {
          "output_type": "stream",
          "name": "stdout",
          "text": [
            "Deposited 2500. New balance: 8500\n",
            "Withdrew 1000. New balance: 7500\n",
            "Current balance: 7500\n"
          ]
        }
      ]
    },
    {
      "cell_type": "markdown",
      "source": [
        "* Private Attributes: The account_number and balance are private attributes, indicated by the double underscore prefix (__). These cannot be directly accessed outside the class.\n",
        "* Deposit Method: Adds a specified amount to the balance, ensuring the amount is positive.\n",
        "* Withdraw Method: Subtracts a specified amount from the balance, ensuring the withdrawal does not exceed the current balance and that the amount is positive.\n",
        "* Balance Inquiry: The get_balance method provides access to the private balance.\n",
        "* Account Number: The get_account_number method allows the retrieval of the account number for purposes like printing or verification, even though it is stored privately.\n"
      ],
      "metadata": {
        "id": "74sYCIwVFiEz"
      }
    },
    {
      "cell_type": "markdown",
      "source": [
        "##**Question-11) Write a class that overrides the `__str__` and `__add__` magic methods. What will these methods allow you to do?**\n",
        "**Answer-11)**Magic methods, also known as dunder methods, are special methods that allow you to customize the behavior of your classes in Python. They are often used to implement operator overloading, string representation, and other operations.\n",
        "\n",
        "Overriding __str__:\n",
        "\n",
        "The __str__ method is used to control how objects of your class are represented as strings. By overriding this method, you can define a custom string representation that is more informative or user-friendly than the default one.\n",
        "\n",
        "Overriding __add__:\n",
        "\n",
        "The __add__ method allows you to define how the + operator behaves for objects of your class. This enables you to perform custom addition operations on your objects."
      ],
      "metadata": {
        "id": "umBaLkpHF2O1"
      }
    },
    {
      "cell_type": "code",
      "source": [
        "class Person:\n",
        "    def __init__(self, name, age):\n",
        "        self.name = name\n",
        "        self.age = age\n",
        "\n",
        "    def __str__(self):\n",
        "        return f\"Person({self.name}, {self.age})\"\n",
        "\n",
        "    def __add__(self, other):\n",
        "        return Person(self.name + \" & \" + other.name, self.age + other.age)\n",
        "\n",
        "# Example usage:\n",
        "person1 = Person(\"Akash\", 24)\n",
        "person2 = Person(\"Sagar\", 25)\n",
        "\n",
        "# Custom string representation\n",
        "print(person1)\n",
        "\n",
        "# Custom addition operation\n",
        "combined_person = person1 + person2\n",
        "print(combined_person)\n"
      ],
      "metadata": {
        "colab": {
          "base_uri": "https://localhost:8080/"
        },
        "id": "pW-fhSesFFv9",
        "outputId": "e666acad-e2ca-4785-cd41-448291508203"
      },
      "execution_count": 12,
      "outputs": [
        {
          "output_type": "stream",
          "name": "stdout",
          "text": [
            "Person(Akash, 24)\n",
            "Person(Akash & Sagar, 49)\n"
          ]
        }
      ]
    },
    {
      "cell_type": "markdown",
      "source": [
        "__str__ Method:\n",
        "\n",
        "* This method is called when we try to print an object or convert it to a string.\n",
        "* By overriding it, we can define how the object should be represented as a string.\n",
        "* In the Person class, we've defined it to return a string containing the person's name and age.\n",
        "\n",
        "__add__ Method:\n",
        "\n",
        "* This method is called when we use the + operator on two objects of the same class.\n",
        "* By overriding it, we can customize the behavior of the addition operation.\n",
        "* In the Person class, we've defined it to create a newPerson` object with the combined names and ages of the two input objects."
      ],
      "metadata": {
        "id": "bF3sb3LQGuod"
      }
    },
    {
      "cell_type": "markdown",
      "source": [
        "##**Question-12)Create a decorator that measures and prints the execution time of a function.**\n",
        "**Answer-12)** Decorator Definition: are a very powerful and useful tool in Python since it allows programmers to modify the behaviour of a function or class. Decorators allow us to wrap another function in order to extend the behaviour of the wrapped function, without permanently modifying it. But before diving deep into decorators let us understand some concepts that will come in handy in learning the decorators.\n",
        "\n",
        "The measure_time function is a decorator that takes another function func as input.\n",
        "It defines a wrapper function that will be called instead of the original function."
      ],
      "metadata": {
        "id": "-aqEn2yOHECt"
      }
    },
    {
      "cell_type": "code",
      "source": [
        "import time\n",
        "\n",
        "# Define the decorator\n",
        "def measure_time(func):\n",
        "    def wrapper(*args, **kwargs):\n",
        "        start_time = time.time()  # Record the start time\n",
        "        result = func(*args, **kwargs)  # Call the original function\n",
        "        end_time = time.time()  # Record the end time\n",
        "        execution_time = end_time - start_time  # Calculate the execution time\n",
        "        print(f\"Execution time of '{func.__name__}': {execution_time:.4f} seconds\")\n",
        "        return result\n",
        "    return wrapper\n",
        "\n",
        "@measure_time\n",
        "def slow_function():\n",
        "    time.sleep(2)\n",
        "    print(\"Function executed!\")\n",
        "\n",
        "slow_function()\n"
      ],
      "metadata": {
        "colab": {
          "base_uri": "https://localhost:8080/"
        },
        "id": "vXY9K0k4GcNu",
        "outputId": "929e06f8-d1c5-4ede-b4c7-0ed011582dde"
      },
      "execution_count": 13,
      "outputs": [
        {
          "output_type": "stream",
          "name": "stdout",
          "text": [
            "Function executed!\n",
            "Execution time of 'slow_function': 2.0025 seconds\n"
          ]
        }
      ]
    },
    {
      "cell_type": "markdown",
      "source": [
        "**Decorator measure_time:**\n",
        "\n",
        "The decorator measure_time takes a function (func) as an argument.\n",
        "Inside the decorator, we define a wrapper function that will wrap the original function.\n",
        "\n",
        "The wrapper function records the current time before and after calling the original function (func).\n",
        "The difference between the start time and end time is calculated to measure the execution time.\n",
        "The execution time is printed out, and the result of the original function is returned.\n",
        "\n",
        "**@measure_time Syntax:**\n",
        "\n",
        "The @measure_time syntax is a shorthand for slow_function = measure_time(slow_function), which applies the decorator to the slow_function.\n",
        "\n",
        "**time.sleep(2)**:\n",
        "\n",
        "In this example, the function slow_function simulates a slow operation by pausing for 2 seconds using time.sleep(2).\n",
        "\n",
        "This output shows the message from the function (\"Function executed!\"), and the decorator prints the execution time of the function, which in this case is approximately 2 seconds due to the sleep.\n",
        "\n",
        "This decorator can be applied to any function, and it will print the execution time of that function when it's called.\n",
        "\n",
        "**Key points:**\n",
        "* The decorator provides a non-invasive way to measure function execution time.\n",
        "* The wrapper function ensures that the original function's behavior remains unchanged.\n",
        "* The time.time() function is used to accurately measure time in seconds.\n",
        "* The f-string formatting is used to create a clear and concise output message.\n",
        "\n",
        "\n"
      ],
      "metadata": {
        "id": "KG8GfoSaJl3R"
      }
    },
    {
      "cell_type": "markdown",
      "source": [
        "##**Question-13) Explain the concept of the Diamond Problem in multiple inheritance. How does Python resolve it?**\n",
        "\n",
        "**Answer-13)** Diamond Problem in Multiple Inheritance\n",
        "The Diamond Problem (also known as the \"Deadly Diamond of Death\") arises in object-oriented programming when a class inherits from two classes that both inherit from a common superclass. This can lead to ambiguity about which path of the inheritance tree should be followed, particularly when there is a conflict in method resolution.\n",
        "Diamond problem looks like:-\n",
        "\n",
        "        A\n",
        "       / \\\n",
        "      B   C\n",
        "       \\ /\n",
        "        D\n",
        "\n",
        "* Class A is the base class.\n",
        "* Class B and C are subclasses of A.\n",
        "* Class D inherits from both B and C.\n",
        "\n",
        "In this situation, if class D tries to call a method defined in class A, it could encounter ambiguity because both B and C have inherited from A. If B and C override a method from A, it is unclear which one D should use. This is the Diamond Problem: two or more paths from D to A that lead to potential conflicts.\n"
      ],
      "metadata": {
        "id": "Wpv2fUaeKYA_"
      }
    },
    {
      "cell_type": "code",
      "source": [
        "class A:\n",
        "    def method(self):\n",
        "        print(\"Method in A\")\n",
        "\n",
        "class B(A):\n",
        "    def method(self):\n",
        "        print(\"Method in B\")\n",
        "\n",
        "class C(A):\n",
        "    def method(self):\n",
        "        print(\"Method in C\")\n",
        "\n",
        "class D(B, C):\n",
        "    pass\n",
        "\n",
        "# Create an object of D\n",
        "d = D()\n",
        "d.method()\n"
      ],
      "metadata": {
        "colab": {
          "base_uri": "https://localhost:8080/"
        },
        "id": "aJa7XtXSHjGt",
        "outputId": "cea2e3f9-3a17-4216-ef3b-e8a6a3bb7202"
      },
      "execution_count": 14,
      "outputs": [
        {
          "output_type": "stream",
          "name": "stdout",
          "text": [
            "Method in B\n"
          ]
        }
      ]
    },
    {
      "cell_type": "markdown",
      "source": [
        "\n",
        "Python resolves the Diamond Problem using the Method Resolution Order (MRO). The MRO defines the order in which classes are searched when calling methods or attributes.\n",
        "\n",
        "Python uses an algorithm called C3 Linearization to determine the MRO. This algorithm ensures a consistent and predictable order in which classes are considered for method lookup. The key principles of the MRO are:\n",
        "\n",
        "* Depth-first search: Classes are searched depth-first from the current class, then its parents, and so on.\n",
        "* Left-to-right order: If there are multiple base classes, the leftmost base class is considered first.\n",
        "\n",
        "In Python, the Diamond Problem is resolved by the Method Resolution Order (MRO), which is governed by the C3 Linearization algorithm. This ensures that when multiple inheritance is used, Python can unambiguously determine the order in which base classes are searched for methods or attributes. This approach provides a consistent and predictable method lookup, avoiding the ambiguity inherent in the Diamond Problem."
      ],
      "metadata": {
        "id": "gMGVcSCYLXan"
      }
    },
    {
      "cell_type": "markdown",
      "source": [
        "##**Question-14)Write a class method that keeps track of the number of instances created from a class.**\n",
        "**Answer-14)** To keep track of the number of instances created from a class, we can define a class variable (shared across all instances) that is incremented each time a new instance is created. We can implement this logic in the class's init constructor method and also create a class method that returns the current count of instances."
      ],
      "metadata": {
        "id": "Rz4TzODCMKBX"
      }
    },
    {
      "cell_type": "code",
      "source": [
        "class InstanceCounter:\n",
        "    # Class variable to keep track of the number of instances\n",
        "    instance_count = 0\n",
        "\n",
        "    def __init__(self):\n",
        "        # Increment the count each time a new instance is created\n",
        "        InstanceCounter.instance_count += 1\n",
        "\n",
        "    @classmethod\n",
        "    def get_instance_count(cls):\n",
        "        # Class method to return the current instance count\n",
        "        return cls.instance_count\n",
        "\n",
        "# Example usage:\n",
        "# Creating instances of the class\n",
        "obj1 = InstanceCounter()\n",
        "obj2 = InstanceCounter()\n",
        "obj3 = InstanceCounter()\n",
        "print(\"Number of instances created:\", InstanceCounter.get_instance_count())\n"
      ],
      "metadata": {
        "colab": {
          "base_uri": "https://localhost:8080/"
        },
        "id": "dFY3p5QKLQvk",
        "outputId": "e2e77c2f-5cb6-4f10-d4a7-bb8de8173a33"
      },
      "execution_count": 15,
      "outputs": [
        {
          "output_type": "stream",
          "name": "stdout",
          "text": [
            "Number of instances created: 3\n"
          ]
        }
      ]
    },
    {
      "cell_type": "markdown",
      "source": [
        "Explanation:\n",
        "\n",
        "**Class Variable instance_count:**\n",
        "\n",
        "The variable instance_count is defined at the class level, and it is shared by all instances of the class. This variable keeps track of how many times the __init__ constructor is called (i.e., how many instances are created).\n",
        "\n",
        "**__init__ Constructor:**\n",
        "\n",
        "The constructor (__init__) is called each time a new instance of the class is created. Inside the constructor, we increment the instance_count variable by 1.\n",
        "\n",
        "**Class Method get_instance_count:**\n",
        "\n",
        "The get_instance_count method is defined as a class method, which means it is bound to the class rather than an instance of the class. It uses the cls parameter to refer to the class itself and returns the current value of instance_count.\n",
        "\n",
        "Key points:-\n",
        "\n",
        "* Every time a new InstanceCounter object is created, the instance_count variable is incremented.\n",
        "* The get_instance_count class method allows you to retrieve the total number of instances created at any time, without needing to access individual objects."
      ],
      "metadata": {
        "id": "t61PZmWFMjXf"
      }
    },
    {
      "cell_type": "markdown",
      "source": [
        "##**Question-15)Implement a static method in a class that checks if a given year is a leap year**\n",
        "**Answer-15)**\n",
        "Static Method:There can be some functionality that relates to the class, but does not require any instance(s) to do some work, static methods can be used in such cases. A static method is a method which is bound to the class and not the object of the class. It can’t access or modify class state. It is present in a class because it makes sense for the method to be present in class. A static method does not receive an implicit first argument.\n",
        "\n",
        "A static method is defined within a class but doesn't require an instance of the class to be called.\n",
        "It's declared using the @staticmethod decorator.\n",
        "\n",
        "To implement a static method in a class that checks if a given year is a leap year, you can follow the rules for determining leap years:\n",
        "\n",
        "A year is a leap year if it is divisible by 4.\n",
        "\n",
        "However, if it is divisible by 100, it is not a leap year unless:\n",
        "\n",
        "It is also divisible by 400, in which case it is a leap year."
      ],
      "metadata": {
        "id": "vf-ReqVaNC2S"
      }
    },
    {
      "cell_type": "code",
      "source": [
        "class YearChecker:\n",
        "    @staticmethod\n",
        "    def is_leap_year(year):\n",
        "        \"\"\"\n",
        "        Checks if a given year is a leap year.\n",
        "\n",
        "        Args:\n",
        "            year (int): The year to check.\n",
        "\n",
        "        Returns:\n",
        "            bool: True if the year is a leap year, False otherwise.\n",
        "        \"\"\"\n",
        "\n",
        "        if year % 4 == 0:\n",
        "            if year % 100 == 0:\n",
        "                if year % 400 == 0:\n",
        "                    return True\n",
        "                else:\n",
        "                    return False\n",
        "            else:\n",
        "                return True\n",
        "        else:\n",
        "            return False\n",
        "\n",
        "# Example usage:\n",
        "year = 2100\n",
        "if YearChecker.is_leap_year(year):\n",
        "    print(year, \"is a leap year.\")\n",
        "else:\n",
        "    print(year, \"is not a leap year.\")"
      ],
      "metadata": {
        "colab": {
          "base_uri": "https://localhost:8080/"
        },
        "id": "uzvYVWMDMcm_",
        "outputId": "f3253b33-31bf-4ad3-9935-b40693550699"
      },
      "execution_count": 18,
      "outputs": [
        {
          "output_type": "stream",
          "name": "stdout",
          "text": [
            "2100 is not a leap year.\n"
          ]
        }
      ]
    },
    {
      "cell_type": "markdown",
      "source": [
        "Key Points:\n",
        "\n",
        "* Static methods are used when the method does not need to access or modify instance-specific data but still logically belongs to the class.\n",
        "* The is_leap_year method can be called directly on the class (YearUtils.is_leap_year(year)) without needing an instance of the class."
      ],
      "metadata": {
        "id": "f7QGTr7SN3nz"
      }
    },
    {
      "cell_type": "code",
      "source": [],
      "metadata": {
        "id": "avCviXTsNtUJ"
      },
      "execution_count": null,
      "outputs": []
    }
  ]
}