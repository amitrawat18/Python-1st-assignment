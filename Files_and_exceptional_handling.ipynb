{
  "nbformat": 4,
  "nbformat_minor": 0,
  "metadata": {
    "colab": {
      "provenance": []
    },
    "kernelspec": {
      "name": "python3",
      "display_name": "Python 3"
    },
    "language_info": {
      "name": "python"
    }
  },
  "cells": [
    {
      "cell_type": "markdown",
      "source": [
        "##**Question-1)What is the difference between interpreted and compiled languages?**\n",
        "\n",
        "##Answer-1)  **Interpreted Languages**\n",
        "##Execution Process:\n",
        "\n",
        "* Code is executed directly line-by-line by an interpreter.\n",
        "* The source code is not converted into a standalone machine code file; instead, it is processed at runtime.\n",
        "\n",
        "##Speed:\n",
        "\n",
        "Slower than compiled languages because the interpreter translates code on the fly.\n",
        "\n",
        "##Examples:\n",
        "\n",
        "Python, JavaScript, Ruby, PHP.\n",
        "\n",
        "##Advantages:\n",
        "\n",
        "* Easier to debug and test, as errors can be caught and corrected during execution.\n",
        "* Cross-platform by default since the interpreter can be implemented on multiple systems.\n",
        "\n",
        "##Disadvantages:\n",
        "\n",
        "* Typically slower execution compared to compiled languages.\n",
        "* Requires an interpreter to run.\n",
        "\n",
        "\n",
        "##**Compiled Languages**\n",
        "\n",
        "## Execution Process:\n",
        "\n",
        "* Here source code is translated into machine code (binary executable) by a compiler before it is run.\n",
        "* The compiled binary is directly executed by the computer's hardware.\n",
        "\n",
        "##Speed:\n",
        "\n",
        "Faster than interpreted languages because the program is already in machine code form.\n",
        "Examples:\n",
        "\n",
        "C, C++, Rust, Go.\n",
        "\n",
        "##Advantages:\n",
        "\n",
        "* High performance due to precompiled machine code.\n",
        "* Does not need the source code or compiler at runtime.\n",
        "\n",
        "##Disadvantages:\n",
        "\n",
        "* Slower development cycle since compilation takes time.\n",
        "* Platform-dependent unless cross-compilation or portable binaries are used."
      ],
      "metadata": {
        "id": "TqMBA6LyHn8l"
      }
    },
    {
      "cell_type": "markdown",
      "source": [
        "##**Question-2)  What is exception handling in Python?**\n",
        "##Answer-2)\n",
        " Exception handling in Python is a mechanism to handle runtime errors or exceptions that may occur during program execution. It allows developers to anticipate, catch, and handle potential errors gracefully, preventing the program from crashing and enabling more robust and user-friendly software.\n",
        "\n",
        " **Key Components of Exception Handling in Python**\n",
        "\n",
        "Exceptions:\n",
        "\n",
        "* An exception is an event that disrupts the normal flow of the program.\n",
        "* Examples include ZeroDivisionError, FileNotFoundError, TypeError, etc.\n",
        "\n",
        "Try-Except Block:\n",
        "\n",
        "* Used to handle exceptions.\n",
        "* Code that might raise an exception is placed inside a try block, and the error-handling code is written in the except block.\n",
        "\n",
        "Else Clause:\n",
        "\n",
        "An optional clause that executes if no exceptions are raised in the try block.\n",
        "\n",
        "Finally Block:\n",
        "\n",
        "* A block of code that always executes, regardless of whether an exception occurred or not.\n",
        "* Typically used for cleanup tasks.\n",
        "\n",
        "Raising Exceptions:\n",
        "\n",
        "You can manually raise exceptions using the raise keyword.\n",
        "\n",
        "**Use of eception handling:-**\n",
        "\n",
        "* Prevents Crashes: Ensures that programs handle unexpected scenarios without crashing.\n",
        "* Improves Readability: Clearly separates error-handling logic from normal logic.\n",
        "* Enhances Debugging: Makes it easier to diagnose and resolve issues.\n",
        "* Enables Clean Resource Management: Ensures resources like files or database connections are properly closed.\n",
        "\n",
        "\n",
        "##**Question-3) What is the purpose of the finally block in exception handling?**\n",
        "\n",
        "## Answer-3)  \n",
        "The finally block in Python is a crucial component of exception handling. Its primary purpose is to ensure that certain code, often related to resource cleanup, is executed regardless of whether an exception occurs or not. This guarantees that resources like file handles, network connections, or database connections are properly released, preventing potential issues such as resource leaks.\n",
        "\n",
        "**Key Characteristics of the finally Block:**\n",
        "\n",
        "**Always Executes:**\n",
        "\n",
        "The code inside the finally block runs whether an exception occurs, is handled, or no exception occurs at all.\n",
        "\n",
        "**Runs After Return or Exit:**\n",
        "\n",
        "Even if a return, break, or continue is encountered in the try or except block, the finally block will execute before the method or program exits.\n",
        "\n",
        "**Handles Cleanup:**\n",
        "\n",
        "It's commonly used for releasing resources such as closing files, network connections, or database cursors.\n",
        "\n",
        "##**Question-4)What is logging in Python?**\n",
        "\n",
        "##Answer-4)\n",
        "Logging in Python refers to the process of recording information about a program's execution, typically for debugging, monitoring, or auditing purposes. The Python logging module provides a flexible framework for generating and managing log messages.\n",
        "\n",
        "**use of logging**\n",
        "\n",
        "* Debugging: Helps identify issues in code during development.\n",
        "* Monitoring: Tracks application behavior in production environments.\n",
        "* Auditing: Keeps a record of operations, user actions, or errors for future reference.\n",
        "* Better than print Statements: Logging allows for controlled and configurable output with varying levels of importance, unlike basic print.\n",
        "\n",
        "\n",
        "**Key Components of Logging**\n",
        "* Loggers:\n",
        "The entry point for the logging system.\n",
        "Used to generate log messages.\n",
        "* Handlers:\n",
        "Define where the log messages should go (console, file, etc.).\n",
        "* Formatters:\n",
        "Specify the layout and content of log messages (e.g., timestamp, log level).\n",
        "* Levels:\n",
        "\n",
        "Indicatethe severity of the message. Common levels include:\n",
        "1. DEBUG: Detailed information for debugging.\n",
        "2. INFO: General informational messages.\n",
        "3. WARNING: An indication of something unexpected but not critical.\n",
        "4. ERROR: A serious issue that prevents part of the program from functioning.\n",
        "5. CRITICAL: A severe error that may cause the application to terminate.\n",
        "\n",
        "Basic Usage of Logging:-\n",
        "\n",
        "The logging module is simple to use and can be configured for both basic and advanced scenarios.\n",
        "\n",
        "**Benefits of Logging**\n",
        "\n",
        "* Configurable: Adjust log levels and destinations easily.\n",
        "* Extensible: Supports multiple handlers, custom loggers, and formats.\n",
        "* Thread-Safe: Suitable for multi-threaded applications.\n",
        "\n",
        "\n",
        "\n",
        "##**Question-5)What is the significance of the __del__ method in Python?**\n",
        "##Answer-5)\n",
        "The __del__ method in Python is a special method known as the destructor. It is called when an object is about to be destroyed, providing an opportunity to clean up resources (e.g., closing files, releasing network connections) or perform any necessary finalization before the object is removed from memory.\n",
        "\n",
        "**Key Points:**\n",
        "\n",
        "* Garbage Collection: Python employs a garbage collector to automatically reclaim memory used by objects that are no longer referenced.\n",
        "* Timing Uncertainty: The exact timing of __del__ execution is unpredictable, as it depends on the garbage collector's internal mechanisms.\n",
        "* Limited Reliability: Due to the uncertain timing and potential circular references, relying solely on __del__ for critical cleanup tasks is not recommended.\n",
        "\n",
        "**Common Use Cases:**\n",
        "\n",
        "While __del__ is not as widely used as it once was, it can still be useful in certain scenarios:\n",
        "\n",
        "* Resource Deallocation:\n",
        "\n",
        "Releasing external resources like file handles, network connections, or database connections.\n",
        "However, using context managers (with statement) is often a more reliable and preferred approach for resource management.\n",
        "* Logging and Debugging:\n",
        "\n",
        "Logging messages to indicate object destruction or performing debugging actions.\n",
        "\n",
        "\n",
        "\n",
        "##**Question-6) What is the difference between import and from ... import in Python?**\n",
        "##Answer-6)\n",
        "In Python, import and from ... import are both used to access external modules and their components, but they differ in usage and scope.\n",
        "\n",
        "##**import Statement**\n",
        "\n",
        "The import statement is used to import an entire module. To access any object (function, class, variable, etc.) from the module, you must use the module's name as a prefix.\n",
        "\n",
        "Syntax:\n",
        "\n",
        "import module_name\n",
        "\n",
        "**Advantages:**\n",
        "\n",
        "Avoids potential name conflicts because all imported components are accessed with the module name as a prefix.\n",
        "Makes it clear where a function or variable is coming from.\n",
        "\n",
        "**Disadvantages:**\n",
        "\n",
        "Slightly verbose since you need to prefix every access with the module name.\n",
        "\n",
        "##**from ... import Statement**\n",
        "The from ... import statement is used to import specific objects (e.g., functions, classes, or variables) directly from a module. This allows you to use these objects without the module name prefix.\n",
        "\n",
        "Syntax:\n",
        "\n",
        "from module_name import object_name\n",
        "\n",
        "\n",
        "**Advantages:**\n",
        "\n",
        "* Reduces verbosity when accessing frequently used objects.\n",
        "* Useful when you only need a subset of the module's functionality.\n",
        "\n",
        "**Disadvantages:**\n",
        "\n",
        "* Can lead to name conflicts if the imported object has the same name as an existing one in your code.\n",
        "* Makes it less clear where the imported objects are coming from\n",
        "\n",
        "\n",
        "##**Question-7) How can you handle multiple exceptions in Python?**\n",
        "##Answer-7)\n",
        "Python allows us to handle multiple exceptions within a single try-except block. This is achieved by using multiple except blocks, each specifying a different exception type to handle.\n",
        "\n",
        "**1. Using Multiple except Blocks:-**\n",
        "\n",
        "You can specify separate except blocks to handle different types of exceptions.\n",
        "\n",
        "Syntax:-\n",
        "\n",
        "try:\n",
        "    # Code that may raise exceptions\n",
        "except ExceptionType1:\n",
        "    # Handle ExceptionType1\n",
        "except ExceptionType2:\n",
        "    # Handle ExceptionType2\n",
        "\n",
        "\n",
        "\n",
        "**2. Catching Multiple Exceptions in a Single except Block**\n",
        "\n",
        "You can handle multiple exceptions using a tuple in a single except block.\n",
        "\n",
        "Syntax:-\n",
        "\n",
        "try:\n",
        "    # Code that may raise exceptions\n",
        "except (ExceptionType1, ExceptionType2):\n",
        "    # Handle both ExceptionType1 and ExceptionType2\n",
        "\n",
        "**3. Using a Generic Exception**\n",
        "\n",
        "You can catch all exceptions by using the base Exception class. However, this approach is generally discouraged unless you re-raise or log the exception, as it can hide programming errors.\n",
        "\n",
        "Syntax:\n",
        "\n",
        "try:\n",
        "    # Code that may raise exceptions\n",
        "except Exception:\n",
        "    # Handle all exceptions\n",
        "\n",
        "**4. Using the else Block**\n",
        "\n",
        "The else block executes if no exceptions occur in the try block.\n",
        "\n",
        "**5. Using the finally Block**\n",
        "\n",
        "The finally block executes regardless of whether an exception occurs or not. It’s useful for cleanup tasks.\n",
        "\n",
        "**Key Points:**\n",
        "\n",
        "* Specific Exceptions First: It's generally a good practice to handle specific exceptions first, before using a generic except block.\n",
        "* Generic except Block: A generic except block can catch any exception that isn't handled by the specific exception blocks. However, it's often better to avoid using it excessively, as it can mask underlying issues.\n",
        "* Exception Hierarchy: Python has an exception hierarchy, and a specific exception can be caught by a more general exception block. For example, a ZeroDivisionError is a subclass of ArithmeticError, so a except ArithmeticError block would also catch ZeroDivisionError.\n",
        "* Raising Exceptions: You can raise custom exceptions using the raise keyword. This can be useful for signaling specific error conditions in your code.\n",
        "By effectively handling multiple exceptions, you can make your Python code more robust, user-friendly, and able to recover gracefully from errors.\n",
        "\n",
        "\n",
        "\n",
        "\n",
        "\n",
        "##**Question-8)  What is the purpose of the with statement when handling files in Python?**\n",
        "\n",
        "##Answer-8)\n",
        "The with statement in Python is used to simplify and streamline the management of resources, such as files, by ensuring proper acquisition and release. When handling files, the with statement automatically manages the opening and closing of the file, even if an exception occurs during file operations. This eliminates the need to explicitly close the file, reducing the risk of resource leaks.\n",
        "\n",
        "##**Use Of with Statement in File Handling**\n",
        "\n",
        "**Automatic Resource Management:**\n",
        "\n",
        "The with statement ensures the file is properly closed after its block of code is executed, regardless of whether an exception occurs.\n",
        "\n",
        "**Improved Readability:**\n",
        "\n",
        "Code written with the with statement is more concise and easier to understand.\n",
        "\n",
        "**Error Handling:**\n",
        "\n",
        "Ensures the program does not leave resources open in case of an error, helping prevent issues like file locks or memory leaks.\n",
        "\n",
        "**Syntax:-**\n",
        "\n",
        "with open(filename, mode) as file:\n",
        "    # Perform file operations\n",
        "\n",
        "* filename: The name of the file to open.\n",
        "* mode: Specifies the mode in which to open the file (e.g., 'r' for reading, 'w' for writing).\n",
        "* file: A file object that you can use to perform operations (e.g., read, write).\n",
        "\n",
        "\n",
        "\n",
        "##**Question-9)  What is the difference between multithreading and multiprocessing?**\n",
        "\n",
        "##Answer-9)\n",
        "Multithreading and multiprocessing are two approaches to achieve parallelism in programming. While both aim to improve performance by executing multiple tasks simultaneously, they differ in their execution model, use cases, and how they handle resources.\n",
        "\n",
        "##1. Multithreading\n",
        "Multithreading involves running multiple threads within the same process. Threads share the same memory space but can execute different parts of a program simultaneously.\n",
        "\n",
        "**Key Characteristics:**\n",
        "\n",
        "* Shared Memory: Threads share the same memory and resources of the parent process.\n",
        "* Lightweight: Threads are smaller and quicker to create than processes.\n",
        "* Global Interpreter Lock (GIL): In Python, the GIL restricts true parallel execution of threads, as only one thread can execute Python bytecode at a time in a single process. This limits the effectiveness of multithreading for CPU-bound tasks.\n",
        "\n",
        "**Use Cases:**\n",
        "\n",
        "* Ideal for I/O-bound tasks, such as reading/writing files, network operations, or database queries.\n",
        "* Examples: Web scraping, handling multiple client requests in a server.\n",
        "\n",
        "##2. Multiprocessing\n",
        "Multiprocessing involves running multiple processes, each with its own memory space. Each process runs independently and can execute on different CPU cores.\n",
        "\n",
        "**Key Characteristics:**\n",
        "\n",
        "* Separate Memory: Processes do not share memory; communication between processes requires mechanisms like pipes, queues, or shared memory.\n",
        "* True Parallelism: Multiprocessing achieves true parallelism because each process runs independently. It is unaffected by Python's GIL.\n",
        "* Resource-Intensive: Processes are heavier than threads and consume more memory and resources.\n",
        "\n",
        "**Use Cases:**\n",
        "\n",
        "* Ideal for CPU-bound tasks, such as computations, simulations, and data processing.\n",
        "* Examples: Image processing, machine learning model training, scientific computations.\n",
        "\n",
        "\n",
        "\n",
        "\n",
        "\n",
        "##**Question-10)  What are the advantages of using logging in a program?**\n",
        "##Answer-10)\n",
        "Logging is a powerful technique that offers numerous benefits for program development, debugging, and maintenance.\n",
        "\n",
        "##**Advantages:**\n",
        "\n",
        "**1. Debugging and Troubleshooting:**\n",
        "\n",
        "* Pinpointing Issues: Logs provide detailed information about the program's execution, making it easier to identify the root cause of errors or unexpected behavior.\n",
        "* Reproducing Errors: Logs can capture the exact state of the program at the time of an error, helping to reproduce the issue and fix it.\n",
        "\n",
        "**2. Monitoring and Auditing:**\n",
        "\n",
        "* Tracking Behavior: Logs can record important events, such as user actions, system errors, and performance metrics.\n",
        "* Security Auditing: Logs can be used to track security-related events, such as failed login attempts or unauthorized access.\n",
        "* Compliance: Logs can help organizations comply with regulatory requirements by providing a detailed record of system activities.\n",
        "\n",
        "**3. Performance Analysis:**\n",
        "\n",
        "* Identifying Bottlenecks: By logging timing information, you can identify performance bottlenecks and optimize your code.\n",
        "* Monitoring Resource Usage: Logs can track resource usage, such as memory consumption and CPU utilization, to identify potential issues.\n",
        "\n",
        "**4. Facilitating Collaboration:**\n",
        "\n",
        "* Shared Understanding: Logs can help developers understand the behavior of a program, especially when working in teams.\n",
        "* Knowledge Transfer: Logs can serve as a valuable resource for knowledge transfer and onboarding new team members.\n",
        "\n",
        "**5. Error Handling and Recovery:**\n",
        "\n",
        "* Graceful Error Handling: Logs can help you implement graceful error handling mechanisms, such as sending error notifications or triggering automated recovery procedures.\n",
        "* Incident Response: Logs can provide crucial information for incident response teams to quickly identify and resolve issues.\n",
        "* By effectively using logging, you can improve the quality, reliability, and maintainability of your programs.\n",
        "\n",
        "\n",
        "\n",
        "##**Question-11) What is memory management in Python?**\n",
        "##Answer-11)\n",
        "Memory management in Python is primarily handled automatically by a garbage collector. This means that the programmer doesn't need to manually allocate and deallocate memory for variables.\n",
        "\n",
        "Steps of Python's Garbage Collector Work:\n",
        "\n",
        "* Reference Counting:\n",
        "Python keeps track of the number of references to each object.\n",
        "When an object's reference count reaches1 zero, it's considered garbage and is eligible for collection.\n",
        "\n",
        "* Garbage Collection:\n",
        "The garbage collector periodically scans the memory to identify and reclaim unused objects.\n",
        "\n",
        "##**Key Points to Remember:**\n",
        "\n",
        "**Automatic Memory Management:**\n",
        " Python's garbage collector simplifies memory management for developers.\n",
        "\n",
        "**Circular References:**\n",
        " In some cases, circular references can prevent objects from being garbage collected. However, Python's garbage collector is designed to handle most circular references.\n",
        "**Memory Leaks:**\n",
        " While rare, memory leaks can occur in Python if objects are not properly released. This can be caused by circular references or unintended long-lived references.\n",
        "\n",
        "**Best Practices:**\n",
        "* Use del to explicitly delete references to objects when necessary.\n",
        "* Be mindful of circular references and break them when appropriate.\n",
        "* Use context managers (with statement) for resource management, especially when working with files or network connections.\n",
        "Profile your code to identify potential memory leaks or performance bottlenecks.\n",
        "\n",
        "**Additional Considerations:**\n",
        "\n",
        "* Third-party Libraries: Some third-party libraries may have their own memory management mechanisms, so it's important to consult their documentation.\n",
        "* Large Data Structures: For large data structures, consider using memory-efficient data structures and algorithms.\n",
        "* Memory Profiling Tools: Tools like memory_profiler can help you identify memory usage patterns and potential leaks.\n",
        "\n",
        "\n",
        "\n",
        "##**Question-12)What are the basic steps involved in exception handling in Python?**\n",
        "\n",
        "##Answer-12)\n",
        " Exception handling in Python involves a structured approach to managing errors and unexpected events that may occur during program execution.\n",
        "\n",
        "## Basic steps:\n",
        "\n",
        "**1. Identify Potential Exceptions:**\n",
        "\n",
        "Analyze your code to determine where exceptions might arise.\n",
        "Consider common errors like division by zero, file not found, invalid input, etc.\n",
        "\n",
        "**2. Use try-except Blocks:**\n",
        "\n",
        "Enclose the code that might raise exceptions within a try block.\n",
        "Follow the try block with one or more except blocks, each specifying the exception type it handles.\n",
        "\n",
        "**3.Handle Specific Exceptions:**\n",
        "\n",
        "* Each except block should target a specific exception type.\n",
        "* This allows you to handle different exceptions in different ways, providing tailored error messages or recovery actions.\n",
        "\n",
        "**4.Use a Generic except Block (Optional):**\n",
        "\n",
        "* A generic except block can catch any exception that isn't explicitly handled by the specific exception blocks.\n",
        "* However, it's generally recommended to avoid using generic except blocks, as they can mask underlying issues.\n",
        "\n",
        "**5.Include an else Block (Optional):**\n",
        "\n",
        "An else block can be added after the except blocks to execute code when no exceptions occur.\n",
        "\n",
        "**6.Use a finally Block (Optional):**\n",
        "* A finally block is executed regardless of whether an exception occurs or not.\n",
        "* It's commonly used for cleanup tasks, such as closing files or releasing resources.\n",
        "\n",
        "\n",
        "##**Question-13) Why is memory management important in Python?**\n",
        "\n",
        "##Answer-13)\n",
        " Memory Managewment in Python is necessary for following reasons:-\n",
        "**1. Efficient Resource Usage**\n",
        "\n",
        "Memory management ensures that the program uses the system’s memory efficiently. Proper management avoids memory leaks (where memory that is no longer needed isn't released) and helps keep the program's memory footprint as low as possible, which is essential for optimal performance, especially in memory-constrained environments.\n",
        "\n",
        "**2. Performance Optimization**\n",
        "\n",
        "Efficient memory use can lead to faster program execution. When memory is well-managed, the Python interpreter can handle larger data structures and more complex operations without slowing down. Proper memory management also helps in avoiding excessive paging and swapping that could occur if the system runs out of RAM.\n",
        "\n",
        "**3. Automatic Garbage Collection**\n",
        "\n",
        "Python has built-in garbage collection, which helps manage memory by automatically reclaiming unused memory. The Python Garbage Collector (GC) uses a technique called reference counting combined with a cyclic garbage collector to manage the lifecycle of objects. This means Python can automatically detect and clean up objects that are no longer in use, thus preventing memory leaks.\n",
        "\n",
        "**4. Avoiding Memory Leaks**\n",
        "\n",
        "A memory leak occurs when a program allocates memory but does not release it when it is no longer needed, leading to gradual memory consumption and potentially slowing down the system or causing it to crash. Python's garbage collector helps mitigate this risk by tracking object references and freeing memory when there are no more references to an object.\n",
        "\n",
        "**5. Improved Scalability**\n",
        "\n",
        "For large-scale applications, managing memory well can be the difference between a program that runs efficiently and one that becomes sluggish as it scales. Memory management allows Python programs to handle more data and more simultaneous operations, supporting growth and scalability.\n",
        "\n",
        "**6. Managing Complex Data Structures**\n",
        "\n",
        "Python applications often deal with complex data structures like lists, dictionaries, and custom objects. Proper memory management helps in allocating and deallocating memory as these structures grow or shrink, which keeps the application responsive and minimizes potential slowdowns.\n",
        "\n",
        "\n",
        "\n",
        "##**Question-14) What is the role of try and except in exception handling?**\n",
        "##Answer-14)\n",
        "The Role of try and except in Exception Handling\n",
        "\n",
        "In Python, the try and except blocks are fundamental constructs for handling exceptions gracefully. They provide a mechanism to anticipate and manage errors that might occur during program execution.\n",
        "\n",
        "\n",
        "**try Block:**\n",
        "\n",
        "* Encloses Susceptible Code: It contains the code that might potentially raise an exception.\n",
        "* Execution Flow: The code within the try block is executed first.\n",
        "* Exception Trigger: If an exception occurs within the try block, the control is immediately transferred to the corresponding except block.\n",
        "\n",
        "**except Block:**\n",
        "\n",
        "* Handles Exceptions: It defines how to handle specific types of exceptions that might arise in the try block.\n",
        "* Exception Matching: The except block is executed only if the type of exception raised matches the exception type specified in the except clause.\n",
        "* Error Handling: The code within the except block can be used to:\n",
        "1. Print error messages\n",
        "2. Log the error\n",
        "3. Attempt to recover from the error\n",
        "4. Re-raise the exception for further handling\n",
        "\n",
        "\n",
        "\n",
        "\n",
        "\n",
        "##**Question-15) How does Python's garbage collection system work?**\n",
        "##Answer-15)\n",
        "Python employs a garbage collection system to automatically manage memory allocation and deallocation, relieving the programmer from manual memory management tasks. This system operates primarily based on reference counting.\n",
        "\n",
        "**1. Reference Counting:**\n",
        "\n",
        "* Each object in Python has a reference count, which keeps track of the number of references to that object.\n",
        "* When an object is created, its reference count is initialized to 1.\n",
        "* Every time a reference is assigned to the object, the reference count is incremented.\n",
        "* When a reference is removed, the reference count is decremented.\n",
        "\n",
        "**2. Garbage Collection Trigger:**\n",
        "\n",
        "The garbage collector is triggered periodically or when the number of objects reaches a certain threshold.\n",
        "\n",
        "**3. Object Identification:**\n",
        "\n",
        "The garbage collector identifies objects with a reference count of zero. These objects are considered garbage, as they are no longer reachable.\n",
        "\n",
        "**4. Memory Reclamation:**\n",
        "\n",
        "The garbage collector reclaims the memory occupied by garbage objects, making it available for future allocations.\n",
        "\n",
        "\n",
        "\n",
        "\n",
        "##**Question-16)What is the purpose of the else block in exception handling?**\n",
        "##Answer-16)\n",
        "The else block in exception handling in Python is used to define a block of code that runs only if no exceptions were raised in the try block. It acts as an \"if no exception occurred\" clause, allowing you to specify code that should execute when the try block is successful. This helps separate the code that handles exceptions from the code that should execute if no exception occurs, improving code readability and logic flow.\n",
        "\n",
        "**Usepurpose**\n",
        "\n",
        "* Executing Code on Successful Execution:You can place code that should only run when the try block completes without errors in the else block.\n",
        "This helps in organizing your code and making it more readable.\n",
        "\n",
        "* Avoiding Unnecessary Exception Handling:If you have code that should only execute under certain conditions and doesn't inherently raise exceptions, placing it in the else block avoids cluttering the try block with unnecessary exception handling.\n",
        "\n",
        "* Separation of Normal Code and Exception Handling: It separates the code that runs in the normal case (when no exceptions occur) from the code that handles exceptions, making the code easier to read and maintain.\n",
        "* Avoids Duplication: If you have code that should only run when no exceptions are raised, placing it in an else block avoids repeating the same code after every except block.\n",
        "* Control Flow Clarity: It clarifies the control flow by explicitly defining what happens if the try block succeeds, making it easier to understand the program's behavior.\n",
        "\n",
        "\n",
        "\n",
        "##**Question-17) What are the common logging levels in Python?**\n",
        "##Answer-17)\n",
        "Python’s built-in logging module provides a way to log messages with different levels of severity. Each level indicates the importance of the event being logged. Here are the common logging levels, from the most to the least severe:\n",
        "\n",
        "**1. DEBUG**\n",
        "* Purpose: Used for detailed information, typically useful for diagnosing problems and debugging code.\n",
        "* Use Case: Detailed trace of the program's execution, such as variable values or detailed process steps.\n",
        "* Severity: Lowest level (most verbose).\n",
        "\n",
        "**2. INFO**\n",
        "* Purpose: Used for general information about the program’s operation. It’s less detailed than DEBUG but more informative than WARNING.\n",
        "* Use Case: Useful for confirming that things are working as expected, such as user actions or successful operations.\n",
        "* Severity: Slightly higher than DEBUG.\n",
        "\n",
        "**3. WARNING**\n",
        "* Purpose: Used to indicate that something unexpected happened or that there is a potential problem. This level is meant for warnings that may need attention but do not stop the program.\n",
        "* Use Case: Issues that don’t cause the program to fail but should be noticed, such as deprecated functions or potential data issues.\n",
        "* Severity: Higher than INFO but lower than ERROR.\n",
        "\n",
        "\n",
        "**4. ERROR**\n",
        "* Purpose: Used for logging error events that prevent a part of the program from functioning properly. This level indicates that an issue has occurred that should be addressed.\n",
        "* Use Case: Code errors, such as catching an exception or failed operations that could impact program functionality.\n",
        "* Severity: Higher than WARNING but lower than CRITICAL.\n",
        "\n",
        "**5. CRITICAL**\n",
        "* Purpose: Used for severe error conditions that require immediate attention. This level is for issues that might cause the program to stop running or behave unpredictably.\n",
        "* Use Case: Major failures such as system crashes, unhandled exceptions that stop the program, or serious issues that need urgent attention.\n",
        "* Severity: Highest level (most severe).\n",
        "\n",
        "\n",
        "\n",
        "##**Question-18) What is the difference between os.fork() and multiprocessing in Python?**\n",
        "##Answer-18)\n",
        "Both os.fork() and the multiprocessing module are used for creating parallel processes in Python, they have distinct characteristics and use cases:\n",
        "\n",
        "##**os.fork()**\n",
        "\n",
        "* Direct System Call: Directly invokes the operating system's fork system call.\n",
        "* Child Process: Creates a child process that is an almost exact copy of the parent process, including memory space, open files, and signal handlers.\n",
        "* Platform-Specific: Primarily used on Unix-like systems.\n",
        "* Limited Functionality: Offers basic process creation and control.\n",
        "\n",
        "**Potential Issues:**\n",
        "\n",
        "* Can lead to complex memory management issues if not used carefully.\n",
        "* Might not be suitable for all use cases, especially those involving complex data sharing.\n",
        "\n",
        "\n",
        "##**multiprocessing**\n",
        "\n",
        "* Higher-Level Abstraction: Provides a more user-friendly and portable interface for multiprocessing.\n",
        "* Process Pool: Allows you to create a pool of worker processes to execute tasks concurrently.\n",
        "* Inter-Process Communication (IPC): Offers mechanisms for communication and synchronization between processes, such as queues, pipes, and shared memory.\n",
        "* Platform-Independent: Can be used on both Unix-like systems and Windows.\n",
        "* Easier to Use: Simplifies the process of creating and managing multiple processes.\n",
        "\n",
        "**Usage**\n",
        "\n",
        "**os.fork():**\n",
        "\n",
        "* For simple, low-level process creation tasks.\n",
        "* When you need fine-grained control over process behavior.\n",
        "* When you're working on Unix-like systems and are comfortable with system-level programming.\n",
        "\n",
        "**multiprocessing:**\n",
        "\n",
        "* For most general-purpose multiprocessing tasks.\n",
        "* When you need to distribute tasks across multiple CPU cores.\n",
        "* When you need to share data between processes.\n",
        "* When you want a more portable and user-friendly approach to multiprocessing.\n",
        "\n",
        "In conclusion, while os.fork() provides a low-level approach to process creation, the multiprocessing module offers a more robust and flexible way to implement parallel programming in Python. For most practical use cases, the multiprocessing module is the preferred choice.\n",
        "\n",
        "\n",
        "\n",
        "##**Question-19) What is the importance of closing a file in Python?**\n",
        "##Answe-19)\n",
        "Importance of Closing a File in Python\n",
        "\n",
        "Closing a file in Python is crucial for several reasons:\n",
        "\n",
        "**1. Releasing System Resources:**\n",
        "\n",
        "* When a file is opened, the operating system allocates system resources, such as file handles and memory buffers, to manage the file.\n",
        "* By closing the file, you release these resources back to the system, making them available for other processes.\n",
        "\n",
        "**2. Preventing Resource Leaks:**\n",
        "\n",
        "* If a file is not closed properly, the associated resources may remain allocated, leading to resource leaks.\n",
        "* Over time, these leaks can accumulate and degrade system performance.\n",
        "\n",
        "**3. Ensuring Data Integrity:**\n",
        "\n",
        "* In certain cases, not closing a file properly can lead to data corruption or loss.\n",
        "* For example, if a file is being written to and not closed, the last few bytes of data may not be written to disk, resulting in incomplete data.\n",
        "\n",
        "**4. Security Considerations:**\n",
        "\n",
        "* In some cases, leaving files open can pose security risks.\n",
        "*For example, if a file is opened in write mode and not closed properly, unauthorized users might be able to access or modify the file.\n",
        "\n",
        "**Best Practices for Closing Files:**\n",
        "\n",
        "* Using the with Statement:\n",
        "The with statement is the recommended way to work with files in Python.\n",
        "It automatically closes the file when the code block exits, ensuring proper resource management.\n",
        "\n",
        "Syntax:-\n",
        "with open('file.txt', 'r') as f:\n",
        "\n",
        "\n",
        "\n",
        "\n",
        "##**Question-20)What is the difference between file.read() and file.readline() in Python?**\n",
        "##Answer-20)\n",
        "Both file.read() and file.readline() are methods used to read data from a file in Python, but they differ in how much data they read and how they handle newlines:\n",
        "\n",
        "**file.read()**\n",
        "\n",
        "* Reads Entire File: When you call file.read() without any arguments, it reads the entire content of the file into a single string.\n",
        "* Large Files: If you're dealing with large files, reading everything at once can be inefficient and consume a lot of memory.\n",
        "* Optional Argument: You can specify the number of bytes to read as an argument to file.read(). This can be useful for reading files in chunks.\n",
        "\n",
        "\n",
        "**file.readline()**\n",
        "\n",
        "* Reads Single Line: This method reads a single line from the file, including the newline character (\\n) at the end of the line.\n",
        "* Iterative Reading: If you want to read the entire file line by line, you can use a loop with readline().\n",
        "* Empty String: When the end of the file is reached, readline() returns an empty string.\n",
        "\n",
        "Use file.read() when you need to read the entire contents of the file at once.\n",
        "Use file.readline() when you want to process the file line by line, especially for large files.\n",
        "Consider using other methods like readlines(), which reads all lines into a list, depending on your needs.\n",
        "\n",
        "\n",
        "\n",
        "\n",
        "\n",
        "##**Question-21) What is the logging module in Python used for?**\n",
        "##Answer-21)\n",
        "The logging module in Python is a powerful tool used to record information about a program's execution, including errors, warnings, and informational messages. It helps in:\n",
        "\n",
        "## Debugging and Troubleshooting:\n",
        "\n",
        "* Pinpointing Issues: Logs provide detailed information about the program's execution, making it easier to identify the root cause of errors or unexpected behavior.\n",
        "* Reproducing Errors: Logs can capture the exact state of the program at the time of an error, helping to reproduce the issue and fix it.\n",
        "\n",
        "## Monitoring and Auditing:\n",
        "\n",
        "* Tracking Behavior: Logs can record important events, such as user actions, system errors, and performance metrics.\n",
        "* Security Auditing: Logs can be used to track security-related events, such as failed login attempts or unauthorized access.\n",
        "* Compliance: Logs can help organizations comply with regulatory requirements by providing a detailed record of system activities.\n",
        "\n",
        "## Performance Analysis:\n",
        "\n",
        "* Identifying Bottlenecks: By logging timing information, you can identify performance bottlenecks and optimize your code.\n",
        "* Monitoring Resource Usage: Logs can track resource usage, such as memory consumption and CPU utilization, to identify potential issues.\n",
        "\n",
        "## Facilitating Collaboration:\n",
        "\n",
        "* Shared Understanding: Logs can help developers understand the behavior of a program, especially when working in teams.\n",
        "* Knowledge Transfer: Logs can serve as a valuable resource for knowledge transfer and onboarding new team members.\n",
        "\n",
        "## Error Handling and Recovery:\n",
        "\n",
        "* Graceful Error Handling: Logs can help you implement graceful error handling mechanisms, such as sending error notifications or triggering automated recovery procedures.\n",
        "* Incident Response: Logs can provide crucial information for incident response teams to quickly identify and resolve issues.\n",
        "\n",
        "\n",
        "\n",
        "\n",
        "\n",
        "\n",
        "\n",
        "\n",
        "\n",
        "\n",
        "\n",
        "\n",
        "\n",
        "\n"
      ],
      "metadata": {
        "id": "F4vvJiNHI2OL"
      }
    },
    {
      "cell_type": "markdown",
      "source": [
        "##**Question-22) What is the os module in Python used for in file handling?**\n",
        "##Answer-22)\n",
        "The os module in Python is a standard library module that provides a way to interact with the operating system and perform file and directory operations. It is a powerful tool for managing files and directories, enabling you to work with the file system and perform common file handling tasks. Here are the primary uses of the os module in file handling:\n",
        "\n",
        "**1. File and Directory Operations**\n",
        "\n",
        "**Creating and Removing Directories:**\n",
        "\n",
        "* os.mkdir(path): Creates a new directory at the specified path.\n",
        "* os.makedirs(path): Creates intermediate directories as needed (useful for nested directories).\n",
        "* os.rmdir(path): Removes an empty directory.\n",
        "* os.removedirs(path): Removes directories recursively.\n",
        "\n",
        "**Listing Directory Contents:**\n",
        "\n",
        "os.listdir(path): Returns a list of all files and directories in the specified path.\n",
        "\n",
        "**2. File Path Operations**\n",
        "* Joining Paths:\n",
        "os.path.join(path1, path2, ...): Joins one or more path components intelligently.\n",
        "\n",
        "* os.getcwd(): Get the current working directory.\n",
        "* os.chdir(path): Change the current working directory.\n",
        "\n",
        "**3. Path Manipulation:**\n",
        "\n",
        "* os.path.join(path, *paths): Join one or more path components intelligently.\n",
        "* os.path.basename(path): Get the base name of the file.\n",
        "* os.path.dirname(path): Get the directory name from the path.\n",
        "* os.path.exists(path): Check if the specified path exists.\n",
        "* os.path.isfile(path): Check if the specified path is a file.\n",
        "* os.path.isdir(path): Check if the specified path is a directory.\n",
        "\n",
        "\n",
        "\n",
        "##**Question-23)What are the challenges associated with memory management in Python?**\n",
        "\n",
        "##Answer-23)\n",
        "Challenges Associated with Memory Management in Python\n",
        "\n",
        "While Python's automatic memory management (garbage collection) is a significant advantage, it's not without its challenges:\n",
        "\n",
        "**1. Memory Leaks:**\n",
        "\n",
        "* Cyclic References: When objects reference each other, the garbage collector might not be able to identify them as unused, leading to memory leaks.\n",
        "* Global Variables: Global variables can persist throughout the program's execution, preventing their memory from being reclaimed.\n",
        "* Third-Party Libraries: Some libraries might have memory leaks or inefficient memory usage practices.\n",
        "\n",
        "**2. Performance Overhead:**\n",
        "\n",
        "* Garbage Collection Pause: The garbage collector pauses the program's execution to perform its task. This can impact performance, especially for real-time applications or those with high memory usage.\n",
        "* Memory Fragmentation: Over time, memory allocation and deallocation can lead to fragmented memory, reducing efficiency and potentially causing performance issues.\n",
        "\n",
        "**3. Large Data Structures:**\n",
        "\n",
        "* Memory Consumption: Working with large data structures like lists, dictionaries, or NumPy arrays can consume significant amounts of memory.\n",
        "Inefficient Data Structures: Using inefficient data structures can lead to unnecessary memory usage.\n",
        "\n",
        "**Strategies to Mitigate These Challenges:**\n",
        "\n",
        "**1. Effective Reference Counting:**\n",
        "\n",
        "Break cyclic references by using weak references or setting objects to None when they're no longer needed.\n",
        "Minimize the use of global variables.\n",
        "\n",
        "**2. Optimize Data Structures:**\n",
        "\n",
        "Choose appropriate data structures based on your use case.\n",
        "Use efficient data structures like NumPy arrays for numerical computations.\n",
        "Consider using generators and iterators to process large datasets in chunks.\n",
        "\n",
        "**3. Memory Profiling:**\n",
        "\n",
        "Use tools like memory_profiler to identify memory leaks and inefficient memory usage.\n",
        "Analyze memory usage patterns to optimize code.\n",
        "\n",
        "**4. Third-Party Library Considerations:**\n",
        "\n",
        "Be mindful of the memory usage of third-party libraries.\n",
        "Consider alternatives or custom implementations if necessary.\n",
        "\n",
        "**5. Garbage Collector Tuning:**\n",
        "\n",
        "In some cases, you might be able to tune the garbage collector's behavior to improve performance. However, this requires a deep understanding of Python's memory management internals.\n",
        "By understanding these challenges and employing effective strategies, you can write more efficient and memory-friendly Python code.\n",
        "\n",
        "\n",
        "\n",
        "##**Question-24) How do you raise an exception manually in Python?**\n",
        "##Answer-24)\n",
        "To manually raise an exception in Python, you use the raise keyword followed by the exception type and an optional error message:\n",
        "\n",
        "**Syntax:-**\n",
        "raise ExceptionType(\"Error message\")\n",
        "\n",
        "**1. Exception Type:**\n",
        "\n",
        "You can use any built-in exception type like ValueError, TypeError, ZeroDivisionError, etc.\n",
        "You can also create your own custom exception classes by inheriting from the Exception class.\n",
        "\n",
        "**2. Error Message:**\n",
        "\n",
        "The error message is a string that provides more context about the exception. It's optional but highly recommended for debugging and error handling."
      ],
      "metadata": {
        "id": "8SEUvQDBiAxa"
      }
    },
    {
      "cell_type": "code",
      "source": [
        "def divide(a, b):\n",
        "    if b == 0:\n",
        "        raise ZeroDivisionError(\"Division by zero is not allowed\")\n",
        "    return a / b\n",
        "\n",
        "try:\n",
        "    result = divide(10, 0)\n",
        "except ZeroDivisionError as e:\n",
        "    print(\"Error:\", e)"
      ],
      "metadata": {
        "colab": {
          "base_uri": "https://localhost:8080/"
        },
        "id": "LxGz6t2H1bwl",
        "outputId": "f047508e-9425-4b58-f01c-91cb7491d100"
      },
      "execution_count": null,
      "outputs": [
        {
          "output_type": "stream",
          "name": "stdout",
          "text": [
            "Error: Division by zero is not allowed\n"
          ]
        }
      ]
    },
    {
      "cell_type": "markdown",
      "source": [
        "In this example:\n",
        "\n",
        "The divide function checks if the denominator b is zero.\n",
        "If it is, a ZeroDivisionError is raised with the message \"Division by zero is not allowed\".\n",
        "\n",
        "The try-except block catches the exception and prints the error message."
      ],
      "metadata": {
        "id": "QVDdr_Fs1gto"
      }
    },
    {
      "cell_type": "markdown",
      "source": [
        "##**Question-25) Why is it important to use multithreading in certain applications?**\n",
        "##Answer-25)\n",
        "Multithreading is a powerful technique that allows multiple threads of execution to run concurrently within a single process. This can significantly improve the performance and responsiveness of certain applications. Here are some key reasons why multithreading is important:\n",
        "\n",
        "**Improved Performance:**\n",
        "\n",
        "* Parallel Processing: By dividing tasks into smaller, independent threads, you can leverage multiple CPU cores or processors to execute them simultaneously. This can significantly speed up computationally intensive tasks.\n",
        "* Efficient Resource Utilization: Multithreading allows you to fully utilize system resources, especially in CPU-bound applications.\n",
        "\n",
        "**Enhanced Responsiveness:**\n",
        "\n",
        "* Non-Blocking Operations: Multithreading enables you to perform long-running tasks in the background without blocking the main thread. This keeps the application responsive and prevents user interface freezes.\n",
        "* Asynchronous Operations: By offloading time-consuming tasks to separate threads, you can improve the overall responsiveness of your application.\n",
        "\n",
        "**Scalability:**\n",
        "\n",
        "* Handling Multiple Clients: In server-side applications, multithreading allows you to handle multiple client requests concurrently, improving scalability and throughput.\n",
        "* Distributed Computing: Multithreading can be used to distribute tasks across multiple machines, enabling large-scale parallel processing.\n",
        "\n",
        "**Real-world Applications:**\n",
        "\n",
        "* Web Servers: Multithreading allows web servers to handle multiple client requests simultaneously, improving performance and responsiveness.\n",
        "* Game Development: Multithreading can be used to handle game logic, rendering, and input/output operations concurrently, enhancing the gaming experience.\n",
        "* Data Processing: Multithreading can speed up data processing tasks like data mining, machine learning, and scientific simulations.\n",
        "* Desktop Applications: Multithreading can improve the responsiveness of desktop applications by offloading background tasks to separate threads.\n",
        "\n"
      ],
      "metadata": {
        "id": "b25hWaKn1o4a"
      }
    },
    {
      "cell_type": "markdown",
      "source": [
        "#**Practical questions**\n",
        "\n",
        "\n",
        "##**Question-1) How can you open a file for writing in Python and write a string to it?**\n",
        "##Answer-1)"
      ],
      "metadata": {
        "id": "HUl6o3bo2YUC"
      }
    },
    {
      "cell_type": "code",
      "source": [
        "# Open a file for writing\n",
        "file = open(\"example.txt\", \"w\")\n",
        "\n",
        "# Write a string to the file\n",
        "file.write(\"Hello, this is a test string.\")\n",
        "\n",
        "# Close the file\n",
        "file.close()\n"
      ],
      "metadata": {
        "id": "voh3daQ21c66"
      },
      "execution_count": null,
      "outputs": []
    },
    {
      "cell_type": "markdown",
      "source": [
        "##**Question-2) Write a Python program to read the contents of a file and print each line?**\n",
        "##Answer-2)"
      ],
      "metadata": {
        "id": "URFwHT4n26sj"
      }
    },
    {
      "cell_type": "code",
      "source": [
        "def read_file_lines(filename):\n",
        "    \"\"\"Reads a file and prints each line.\n",
        "\n",
        "    Args:\n",
        "        filename (str): The name of the file to read.\n",
        "    \"\"\"\n",
        "\n",
        "    with open(filename, 'r') as file:\n",
        "        for line in file:\n",
        "            print(line.strip())\n",
        "\n",
        "# Example usage:\n",
        "filename = 'my_file.txt'  # Replace with your actual filename\n",
        "read_file_lines(filename)"
      ],
      "metadata": {
        "id": "eb1bqnkb3Rdk"
      },
      "execution_count": null,
      "outputs": []
    },
    {
      "cell_type": "markdown",
      "source": [
        "##**Question-3) How would you handle a case where the file doesn't exist while trying to open it for reading?**\n",
        "##Answer-3)\n"
      ],
      "metadata": {
        "id": "f7WpJ0Lk3mKL"
      }
    },
    {
      "cell_type": "code",
      "source": [
        "def read_file_safely(filename):\n",
        "    try:\n",
        "        with open(filename, 'r') as file:\n",
        "            for line in file:\n",
        "                print(line.strip())\n",
        "    except FileNotFoundError:\n",
        "        print(f\"Error: File '{filename}' not found.\")\n",
        "\n",
        "# Example usage:\n",
        "filename = 'nonexistent_file.txt'\n",
        "read_file_safely(filename)"
      ],
      "metadata": {
        "id": "hzzSrpB632Zv"
      },
      "execution_count": null,
      "outputs": []
    },
    {
      "cell_type": "markdown",
      "source": [
        "##**Question-4)Write a Python script that reads from one file and writes its content to another file**\n",
        "##Answer-4)"
      ],
      "metadata": {
        "id": "0tkHGVsB3_Um"
      }
    },
    {
      "cell_type": "code",
      "source": [
        "def copy_file(source_file, destination_file):\n",
        "  \"\"\"Copies the contents of one file to another.\n",
        "\n",
        "  Args:\n",
        "    source_file: The path to the source file.\n",
        "    destination_file: The path to the destination file.\n",
        "  \"\"\"\n",
        "\n",
        "  with open(source_file, 'r') as source:\n",
        "    with open(destination_file, 'w') as destination:\n",
        "      for line in source:\n",
        "        destination.write(line)\n",
        "\n",
        "# Example usage:\n",
        "source_file = 'input.txt'\n",
        "destination_file = 'output.txt'\n",
        "\n",
        "copy_file(source_file, destination_file)"
      ],
      "metadata": {
        "id": "0cx9hx744KEe"
      },
      "execution_count": null,
      "outputs": []
    },
    {
      "cell_type": "markdown",
      "source": [
        "##**Question-5)How would you catch and handle division by zero error in Python?**\n",
        "##Answer-5)"
      ],
      "metadata": {
        "id": "gsrsqu2-4QVF"
      }
    },
    {
      "cell_type": "code",
      "source": [
        "def divide(a, b):\n",
        "    try:\n",
        "        result = a / b\n",
        "        print(\"Result:\", result)\n",
        "    except ZeroDivisionError:\n",
        "        print(\"Error: Division by zero\")\n",
        "\n",
        "# Example usage:\n",
        "divide(10, 2)\n",
        "divide(10, 0)"
      ],
      "metadata": {
        "colab": {
          "base_uri": "https://localhost:8080/"
        },
        "id": "cZV-WF-54VWt",
        "outputId": "05067da0-aa8c-443a-f335-6478b945d31b"
      },
      "execution_count": null,
      "outputs": [
        {
          "output_type": "stream",
          "name": "stdout",
          "text": [
            "Result: 5.0\n",
            "Error: Division by zero\n"
          ]
        }
      ]
    },
    {
      "cell_type": "markdown",
      "source": [
        "##**Question-6) Write a Python program that logs an error message to a log file when a division by zero exception occurs**\n",
        "##Answer-6)\n"
      ],
      "metadata": {
        "id": "lSvjlTEV4i4l"
      }
    },
    {
      "cell_type": "code",
      "source": [
        "import logging\n",
        "\n",
        "# Configure logging to write to a file\n",
        "logging.basicConfig(\n",
        "    filename=\"error_log.txt\",\n",
        "    level=logging.ERROR,\n",
        "    format=\"%(asctime)s - %(levelname)s - %(message)s\"\n",
        ")\n",
        "\n",
        "def divide_numbers(numerator, denominator):\n",
        "    try:\n",
        "        result = numerator / denominator\n",
        "        print(f\"Result: {result}\")\n",
        "    except ZeroDivisionError as e:\n",
        "        logging.error(\"Attempted to divide by zero.\")\n",
        "        print(\"Error: Division by zero is not allowed. Please check the log file for details.\")\n",
        "\n",
        "# Test the function\n",
        "divide_numbers(10, 0)\n"
      ],
      "metadata": {
        "colab": {
          "base_uri": "https://localhost:8080/"
        },
        "id": "c6m8xVRm4cwY",
        "outputId": "0b205f26-b2e3-499b-c48c-216b52795015"
      },
      "execution_count": null,
      "outputs": [
        {
          "output_type": "stream",
          "name": "stderr",
          "text": [
            "ERROR:root:Attempted to divide by zero.\n"
          ]
        },
        {
          "output_type": "stream",
          "name": "stdout",
          "text": [
            "Error: Division by zero is not allowed. Please check the log file for details.\n"
          ]
        }
      ]
    },
    {
      "cell_type": "markdown",
      "source": [
        "##**Question-7) How do you log information at different levels (INFO, ERROR, WARNING) in Python using the logging module?**\n",
        "##Answer-7)\n",
        "**Logging Levels in Python:**\n",
        "\n",
        "* DEBUG: Detailed information, useful for diagnosing problems.\n",
        "* INFO: General information about program execution.\n",
        "* WARNING: Indications that something unexpected happened, or an issue might occur.\n",
        "* ERROR: Errors that occurred during program execution.\n",
        "* CRITICAL: Severe errors that might cause the program to stop."
      ],
      "metadata": {
        "id": "_nnK8KEH42S7"
      }
    },
    {
      "cell_type": "code",
      "source": [
        "import logging\n",
        "\n",
        "# Configure logging to write to a file and set the logging level\n",
        "logging.basicConfig(\n",
        "    filename='example_log.txt',  # Log file name\n",
        "    level=logging.DEBUG,  # Minimum level to log messages (DEBUG logs everything)\n",
        "    format='%(asctime)s - %(levelname)s - %(message)s'  # Format for log messages\n",
        ")\n",
        "\n",
        "# Log messages at different levels\n",
        "logging.debug(\"This is a debug message, for debugging purposes.\")\n",
        "logging.info(\"This is an info message, providing general information.\")\n",
        "logging.warning(\"This is a warning message, indicating potential issues.\")\n",
        "logging.error(\"This is an error message, indicating an error occurred.\")\n",
        "logging.critical(\"This is a critical message, indicating a severe problem.\")\n"
      ],
      "metadata": {
        "colab": {
          "base_uri": "https://localhost:8080/"
        },
        "id": "OW5yhnIm4wRb",
        "outputId": "8efb34dd-5310-4b18-c5df-8cd98dfa6826"
      },
      "execution_count": null,
      "outputs": [
        {
          "output_type": "stream",
          "name": "stderr",
          "text": [
            "WARNING:root:This is a warning message, indicating potential issues.\n",
            "ERROR:root:This is an error message, indicating an error occurred.\n",
            "CRITICAL:root:This is a critical message, indicating a severe problem.\n"
          ]
        }
      ]
    },
    {
      "cell_type": "code",
      "source": [
        "# Output in example_log.txt:\n",
        "\n",
        "2024-12-08 15:50:00,123 - DEBUG - This is a debug message, for debugging purposes.\n",
        "2024-12-08 15:50:00,123 - INFO - This is an info message, providing general information.\n",
        "2024-12-08 15:50:00,123 - WARNING - This is a warning message, indicating potential issues.\n",
        "2024-12-08 15:50:00,123 - ERROR - This is an error message, indicating an error occurred.\n",
        "2024-12-08 15:50:00,123 - CRITICAL - This is a critical message, indicating a severe problem.\n"
      ],
      "metadata": {
        "id": "yHg5GZBQ5Uv8"
      },
      "execution_count": null,
      "outputs": []
    },
    {
      "cell_type": "markdown",
      "source": [
        "##**Question-8) Write a program to handle a file opening error using exception handling.**\n",
        "##Answer-8)\n"
      ],
      "metadata": {
        "id": "NF5L_ZIf5ijh"
      }
    },
    {
      "cell_type": "code",
      "source": [
        "def handle_file_opening_error(filename):\n",
        "    try:\n",
        "        with open(filename, 'r') as file:\n",
        "            for line in file:\n",
        "                print(line.strip())\n",
        "    except FileNotFoundError:\n",
        "        print(f\"Error: File '{filename}' not found.\")\n",
        "    except IOError:\n",
        "        print(f\"Error: An I/O error occurred while opening '{filename}'.\")\n",
        "\n",
        "# Example usage:\n",
        "filename = \"nonexistent_file.txt\"\n",
        "handle_file_opening_error(filename)"
      ],
      "metadata": {
        "colab": {
          "base_uri": "https://localhost:8080/"
        },
        "id": "HOpKWiK-5wOS",
        "outputId": "30e6e7de-6ae4-412d-8cea-c6c6798996e8"
      },
      "execution_count": null,
      "outputs": [
        {
          "output_type": "stream",
          "name": "stdout",
          "text": [
            "Error: File 'nonexistent_file.txt' not found.\n"
          ]
        }
      ]
    },
    {
      "cell_type": "markdown",
      "source": [
        "##**Question-9) How can you read a file line by line and store its content in a list in Python?**\n",
        "##Answer-9)"
      ],
      "metadata": {
        "id": "FEdpoROU558W"
      }
    },
    {
      "cell_type": "code",
      "source": [
        "def read_file_into_list(filename):\n",
        "    \"\"\"Reads a file line by line and stores its content in a list.\n",
        "\n",
        "    Args:\n",
        "        filename (str): The name of the file to read.\n",
        "\n",
        "    Returns:\n",
        "        list: A list containing the lines of the file.\n",
        "    \"\"\"\n",
        "\n",
        "    with open(filename, 'r') as file:\n",
        "        lines = file.readlines()\n",
        "        return lines\n",
        "\n",
        "# Example usage:\n",
        "filename = 'my_file.txt'\n",
        "lines = read_file_into_list(filename)\n",
        "\n",
        "for line in lines:\n",
        "    print(line.strip())"
      ],
      "metadata": {
        "id": "C9Ch2GN06Mul"
      },
      "execution_count": null,
      "outputs": []
    },
    {
      "cell_type": "markdown",
      "source": [
        "##**Question-10)How can you append data to an existing file in Python?**\n",
        "##Answer-10)\n",
        "To append data to an existing file in Python, you can use the 'a' mode when opening the file."
      ],
      "metadata": {
        "id": "ruSQvA8L6IL6"
      }
    },
    {
      "cell_type": "code",
      "source": [
        "def append_to_file(filename, text):\n",
        "    \"\"\"Appends text to an existing file.\n",
        "\n",
        "    Args:\n",
        "        filename (str): The name of the file.\n",
        "        text (str): The text to append.\n",
        "    \"\"\"\n",
        "\n",
        "    with open(filename, 'a') as file:\n",
        "        file.write(text + '\\n')\n",
        "\n",
        "# Example usage:\n",
        "filename = 'my_file.txt'\n",
        "text_to_append = \"This is another line of text.\"\n",
        "\n",
        "append_to_file(filename, text_to_append)"
      ],
      "metadata": {
        "id": "KHYSEZ4b6LbF"
      },
      "execution_count": null,
      "outputs": []
    },
    {
      "cell_type": "markdown",
      "source": [
        "##**Question-11) Write a Python program that uses a try-except block to handle an error when attempting to access a dictionary key that doesn't exist?**\n",
        "##Answer-11)"
      ],
      "metadata": {
        "id": "vtR_zH4P61e3"
      }
    },
    {
      "cell_type": "code",
      "source": [
        "def access_dictionary_key(dictionary, key):\n",
        "    try:\n",
        "        value = dictionary[key]\n",
        "        print(f\"Value for key '{key}': {value}\")\n",
        "    except KeyError:\n",
        "        print(f\"Key '{key}' not found in the dictionary.\")\n",
        "\n",
        "# Example usage:\n",
        "my_dict = {'a': 1, 'b': 2}\n",
        "access_dictionary_key(my_dict, 'c')\n",
        "access_dictionary_key(my_dict, 'a')"
      ],
      "metadata": {
        "colab": {
          "base_uri": "https://localhost:8080/"
        },
        "id": "eC0VWosp5w-p",
        "outputId": "1b84fee3-806d-4a6a-cb53-93d71b16d28d"
      },
      "execution_count": null,
      "outputs": [
        {
          "output_type": "stream",
          "name": "stdout",
          "text": [
            "Key 'c' not found in the dictionary.\n",
            "Value for key 'a': 1\n"
          ]
        }
      ]
    },
    {
      "cell_type": "markdown",
      "source": [
        "##**Question-12)Write a program that demonstrates using multiple except blocks to handle different types of exceptions?**\n",
        "##Answer-12)\n"
      ],
      "metadata": {
        "id": "FgwTI1Ju7LSz"
      }
    },
    {
      "cell_type": "code",
      "source": [
        "# Function to demonstrate handling different types of exceptions\n",
        "def divide_numbers(a, b):\n",
        "    try:\n",
        "        # Attempt to divide two numbers\n",
        "        result = a / b\n",
        "        print(f\"Result: {result}\")\n",
        "    except ZeroDivisionError:\n",
        "        # Handle division by zero\n",
        "        print(\"Error: Cannot divide by zero.\")\n",
        "    except TypeError:\n",
        "        # Handle cases where non-numeric types are used\n",
        "        print(\"Error: Invalid input type. Please enter numbers.\")\n",
        "    except Exception as e:\n",
        "        # Handle any other unexpected exceptions\n",
        "        print(f\"An unexpected error occurred: {e}\")\n",
        "\n",
        "# Test cases\n",
        "divide_numbers(10, 2)\n",
        "divide_numbers(10, 0)\n",
        "divide_numbers(10, \"a\")\n",
        "divide_numbers(\"a\", \"b\")\n"
      ],
      "metadata": {
        "colab": {
          "base_uri": "https://localhost:8080/"
        },
        "id": "A9V7Hij87IY1",
        "outputId": "df93ec4c-0442-4739-e8d4-5f7d56bdebe6"
      },
      "execution_count": null,
      "outputs": [
        {
          "output_type": "stream",
          "name": "stdout",
          "text": [
            "Result: 5.0\n",
            "Error: Cannot divide by zero.\n",
            "Error: Invalid input type. Please enter numbers.\n",
            "Error: Invalid input type. Please enter numbers.\n"
          ]
        }
      ]
    },
    {
      "cell_type": "markdown",
      "source": [
        "##**Question-13) How would you check if a file exists before attempting to read it in Python?**\n",
        "##Answer-13)"
      ],
      "metadata": {
        "id": "vy-H8O6o7ijd"
      }
    },
    {
      "cell_type": "code",
      "source": [
        "import os\n",
        "\n",
        "def read_file_if_exists(filename):\n",
        "    if os.path.isfile(filename):\n",
        "        with open(filename, 'r') as file:\n",
        "            for line in file:\n",
        "                print(line.strip())\n",
        "    else:\n",
        "        print(f\"Error: File '{filename}' not found.\")\n",
        "\n",
        "# Example usage:\n",
        "filename = 'my_file.txt'\n",
        "read_file_if_exists(filename)"
      ],
      "metadata": {
        "colab": {
          "base_uri": "https://localhost:8080/"
        },
        "id": "pEsHTjHq7CX4",
        "outputId": "c9ff606b-7973-4152-e864-9131ef3ba673"
      },
      "execution_count": null,
      "outputs": [
        {
          "output_type": "stream",
          "name": "stdout",
          "text": [
            "Error: File 'my_file.txt' not found.\n"
          ]
        }
      ]
    },
    {
      "cell_type": "markdown",
      "source": [
        "##**Question-14) Write a program that uses the logging module to log both informational and error messages.**\n",
        "##Answer-14)\n"
      ],
      "metadata": {
        "id": "YMI_DBy174oc"
      }
    },
    {
      "cell_type": "code",
      "source": [
        "import logging\n",
        "\n",
        "def divide(a, b):\n",
        "    try:\n",
        "        result = a / b\n",
        "        logging.info(f\"Division result: {result}\")\n",
        "    except ZeroDivisionError:\n",
        "        logging.error(\"Error: Division by zero\")\n",
        "\n",
        "# Configure the logger\n",
        "logging.basicConfig(filename='my_log.log', level=logging.INFO,\n",
        "                    format='%(asctime)s - %(levelname)s - %(message)s')\n",
        "\n",
        "# Example usage\n",
        "divide(10, 2)\n",
        "divide(10, 0)"
      ],
      "metadata": {
        "colab": {
          "base_uri": "https://localhost:8080/"
        },
        "id": "YqVudNV27v8E",
        "outputId": "bb7440e5-eaef-4b60-baf0-ef55b70830cb"
      },
      "execution_count": null,
      "outputs": [
        {
          "output_type": "stream",
          "name": "stderr",
          "text": [
            "ERROR:root:Error: Division by zero\n"
          ]
        }
      ]
    },
    {
      "cell_type": "markdown",
      "source": [
        "##**Question-15) Write a Python program that prints the content of a file and handles the case when the file is empty.**\n",
        "##Answer-15)"
      ],
      "metadata": {
        "id": "H7Vr_KPI8M9-"
      }
    },
    {
      "cell_type": "code",
      "source": [
        "def print_file_content(filename):\n",
        "  \"\"\"Prints the content of a file, handling empty files gracefully.\n",
        "\n",
        "  Args:\n",
        "    filename: The name of the file to read.\n",
        "  \"\"\"\n",
        "\n",
        "  try:\n",
        "    with open(filename, 'r') as file:\n",
        "      for line in file:\n",
        "        print(line.strip())\n",
        "  except FileNotFoundError:\n",
        "    print(f\"Error: File '{filename}' not found.\")\n",
        "  except IOError:\n",
        "    print(f\"Error: An I/O error occurred while reading '{filename}'.\")\n",
        "  else:\n",
        "    if not file.readlines():\n",
        "      print(f\"The file '{filename}' is empty.\")\n",
        "\n",
        "# Example usage:\n",
        "filename = \"empty_file.txt\"  # Replace with your actual filename\n",
        "print_file_content(filename)"
      ],
      "metadata": {
        "colab": {
          "base_uri": "https://localhost:8080/"
        },
        "id": "3bh_Y6wn8EP1",
        "outputId": "670918fb-2e66-4435-da5f-a63d94390783"
      },
      "execution_count": null,
      "outputs": [
        {
          "output_type": "stream",
          "name": "stdout",
          "text": [
            "Error: File 'empty_file.txt' not found.\n"
          ]
        }
      ]
    },
    {
      "cell_type": "markdown",
      "source": [
        "##**Question-16)Demonstrate how to use memory profiling to check the memory usage of a small program.**\n",
        "##Answer-16)\n",
        "First memory profiler needs to be installed in the system"
      ],
      "metadata": {
        "id": "s44R_cs98htz"
      }
    },
    {
      "cell_type": "code",
      "source": [
        "# Import the memory profiler module\n",
        "from memory_profiler import profile\n",
        "\n",
        "# Define a function to demonstrate memory usage\n",
        "@profile\n",
        "def my_function():\n",
        "    my_list = [i for i in range(1000000)]  # Create a list of 1 million integers\n",
        "    print(\"List created.\")\n",
        "    total = sum(my_list)\n",
        "    print(f\"Sum of list: {total}\")\n",
        "\n",
        "# Call the function\n",
        "my_function()"
      ],
      "metadata": {
        "id": "7pqhxPyq9jel"
      },
      "execution_count": null,
      "outputs": []
    },
    {
      "cell_type": "code",
      "source": [
        "#running the program\n",
        "\n",
        "python -m memory_profiler my_script.py"
      ],
      "metadata": {
        "id": "yhB7UySe9LLG"
      },
      "execution_count": null,
      "outputs": []
    },
    {
      "cell_type": "code",
      "source": [
        "# this is how the output going to look\n",
        "\n",
        "\n",
        "Line #    Mem usage    Increment  Occurrences   Line Contents\n",
        "============================================================\n",
        "     5     11.2 MiB     11.2 MiB           1   @profile\n",
        "     6     12.8 MiB      1.6 MiB           1   def my_function():\n",
        "     7     14.5 MiB      1.7 MiB           1       my_list = [i for i in range(1000000)]\n",
        "     8     14.5 MiB      0.0 MiB           1       print(\"List created.\")\n",
        "     9     14.5 MiB      0.0 MiB           1       total = sum(my_list)\n",
        "    10     14.5 MiB      0.0 MiB           1       print(f\"Sum of list: {total}\")\n"
      ],
      "metadata": {
        "id": "pUXXubsQ9lKl"
      },
      "execution_count": null,
      "outputs": []
    },
    {
      "cell_type": "markdown",
      "source": [
        "##**Question-17)Write a Python program to create and write a list of numbers to a file, one number per line.**\n",
        "##Answer-17)"
      ],
      "metadata": {
        "id": "xH4U6HeC9xY8"
      }
    },
    {
      "cell_type": "code",
      "source": [
        "def write_numbers_to_file(filename, numbers):\n",
        "  \"\"\"Writes a list of numbers to a file, one number per line.\n",
        "\n",
        "  Args:\n",
        "    filename: The name of the file to write to.\n",
        "    numbers: A list of numbers to write.\n",
        "  \"\"\"\n",
        "\n",
        "  with open(filename, 'w') as file:\n",
        "    for number in numbers:\n",
        "      file.write(str(number) + '\\n')\n",
        "\n",
        "# Example usage:\n",
        "numbers = [1, 2, 3, 4, 5]\n",
        "filename = 'numbers.txt'\n",
        "\n",
        "write_numbers_to_file(filename, numbers)"
      ],
      "metadata": {
        "id": "2gYZn3hV-B1z"
      },
      "execution_count": null,
      "outputs": []
    },
    {
      "cell_type": "markdown",
      "source": [
        "##**Question-18)How would you implement a basic logging setup that logs to a file with rotation after 1MB?**\n",
        "##Answer-18)"
      ],
      "metadata": {
        "id": "IRm3Tmcx-PCX"
      }
    },
    {
      "cell_type": "code",
      "source": [
        "import logging\n",
        "import logging.handlers\n",
        "\n",
        "def setup_logging(log_file):\n",
        "  \"\"\"Sets up basic logging configuration.\n",
        "\n",
        "  Args:\n",
        "    log_file: The path to the log file.\n",
        "  \"\"\"\n",
        "\n",
        "  logger = logging.getLogger(__name__)\n",
        "  logger.setLevel(logging.INFO)\n",
        "\n",
        "  # Create a RotatingFileHandler with a 1MB maximum size and 5 backups\n",
        "  handler = logging.handlers.RotatingFileHandler(log_file, maxBytes=1048576, backupCount=5)\n",
        "  handler.setLevel(logging.INFO)\n",
        "\n",
        "  formatter = logging.Formatter('%(asctime)s - %(levelname)s - %(message)s')\n",
        "  handler.setFormatter(formatter)\n",
        "\n",
        "  logger.addHandler(handler)\n",
        "\n",
        "  return logger\n",
        "\n",
        "# Example usage\n",
        "logger = setup_logging('my_app.log')\n",
        "\n",
        "logger.info('This is an info message')\n",
        "logger.warning('This is a warning message')\n",
        "logger.error('This is an error message')"
      ],
      "metadata": {
        "colab": {
          "base_uri": "https://localhost:8080/"
        },
        "id": "hNsSi_aZ-CrB",
        "outputId": "0084d5be-3f55-43d2-de03-8832570917f3"
      },
      "execution_count": null,
      "outputs": [
        {
          "output_type": "stream",
          "name": "stderr",
          "text": [
            "INFO:__main__:This is an info message\n",
            "WARNING:__main__:This is a warning message\n",
            "ERROR:__main__:This is an error message\n"
          ]
        }
      ]
    },
    {
      "cell_type": "markdown",
      "source": [
        "##**Question-19) Write a program that handles both IndexError and KeyError using a try-except block.**\n",
        "##Answer-19)"
      ],
      "metadata": {
        "id": "T5WfgOdI-tU1"
      }
    },
    {
      "cell_type": "code",
      "source": [
        "def handle_errors():\n",
        "    my_list = [10, 20, 30]\n",
        "    my_dict = {\"a\": 1, \"b\": 2}\n",
        "\n",
        "    try:\n",
        "        # Access an invalid index in the list\n",
        "        print(\"Accessing invalid index in list:\", my_list[5])\n",
        "\n",
        "        # Access a non-existent key in the dictionary\n",
        "        print(\"Accessing non-existent key in dict:\", my_dict[\"z\"])\n",
        "\n",
        "    except IndexError as e:\n",
        "        print(f\"IndexError caught: {e}\")\n",
        "\n",
        "    except KeyError as e:\n",
        "        print(f\"KeyError caught: {e}\")\n",
        "\n",
        "# Call the function\n",
        "handle_errors()\n"
      ],
      "metadata": {
        "id": "2N-C-BjA-dD3",
        "colab": {
          "base_uri": "https://localhost:8080/"
        },
        "outputId": "49eb791e-5aac-4329-f2c4-0313354273db"
      },
      "execution_count": 1,
      "outputs": [
        {
          "output_type": "stream",
          "name": "stdout",
          "text": [
            "IndexError caught: list index out of range\n"
          ]
        }
      ]
    },
    {
      "cell_type": "markdown",
      "source": [
        "##**Question-20)How would you open a file and read its contents using a context manager in Python?**\n",
        "##Answer-20)"
      ],
      "metadata": {
        "id": "sBe9rESJ_UfS"
      }
    },
    {
      "cell_type": "code",
      "source": [
        "def read_file(file_path):\n",
        "    try:\n",
        "        # Open the file using a context manager\n",
        "        with open(file_path, 'r') as file:\n",
        "            # Read the contents of the file\n",
        "            contents = file.read()\n",
        "            print(\"File Contents:\")\n",
        "            print(contents)\n",
        "    except FileNotFoundError as e:\n",
        "        print(f\"Error: File not found - {e}\")\n",
        "    except IOError as e:\n",
        "        print(f\"Error: An I/O error occurred - {e}\")\n",
        "\n",
        "# Call the function with the path to your file\n",
        "read_file(\"example.txt\")\n"
      ],
      "metadata": {
        "colab": {
          "base_uri": "https://localhost:8080/"
        },
        "id": "F4lwUPSh_ASD",
        "outputId": "55b4fb7f-516e-45d4-9ce5-7a5bae25d05f"
      },
      "execution_count": 4,
      "outputs": [
        {
          "output_type": "stream",
          "name": "stdout",
          "text": [
            "File Contents:\n",
            "This is an example file.\n",
            "This example is simple.\n",
            "The word \"example\" is used multiple times.\n"
          ]
        }
      ]
    },
    {
      "cell_type": "markdown",
      "source": [
        "##**Question-21) Write a Python program that reads a file and prints the number of occurrences of a specific word.**\n",
        "##Answer-21)"
      ],
      "metadata": {
        "id": "kH7r0m82_tsO"
      }
    },
    {
      "cell_type": "code",
      "source": [
        "def count_word_occurrences(file_path, target_word):\n",
        "    try:\n",
        "        # Open the file using a context manager\n",
        "        with open(file_path, 'r') as file:\n",
        "            # Read the contents of the file\n",
        "            contents = file.read()\n",
        "\n",
        "            # Count occurrences of the target word\n",
        "            word_count = contents.lower().split().count(target_word.lower())\n",
        "\n",
        "            print(f\"The word '{target_word}' occurs {word_count} times in the file.\")\n",
        "    except FileNotFoundError:\n",
        "        print(f\"Error: The file '{file_path}' was not found.\")\n",
        "    except IOError as e:\n",
        "        print(f\"Error: An I/O error occurred - {e}\")\n",
        "\n",
        "# Example usage\n",
        "file_path = \"example.txt\"  # Replace with your file path\n",
        "target_word = \"example\"    # Replace with the word to count\n",
        "count_word_occurrences(file_path, target_word)\n"
      ],
      "metadata": {
        "colab": {
          "base_uri": "https://localhost:8080/"
        },
        "id": "NUGavQhV_lPG",
        "outputId": "5ffbeae2-1286-49fc-8f26-d92648dc04a6"
      },
      "execution_count": 3,
      "outputs": [
        {
          "output_type": "stream",
          "name": "stdout",
          "text": [
            "The word 'example' occurs 2 times in the file.\n"
          ]
        }
      ]
    },
    {
      "cell_type": "markdown",
      "source": [
        "##**Question-22)How can you check if a file is empty before attempting to read its contents?**\n",
        "##Answer-22)"
      ],
      "metadata": {
        "id": "3soJW69sAsOu"
      }
    },
    {
      "cell_type": "code",
      "source": [
        "import os\n",
        "\n",
        "def is_file_empty(file_path):\n",
        "    # Check if the file exists\n",
        "    if not os.path.exists(file_path):\n",
        "        print(f\"Error: The file '{file_path}' does not exist.\")\n",
        "        return True\n",
        "\n",
        "    # Check the file size\n",
        "    if os.path.getsize(file_path) == 0:\n",
        "        print(f\"The file '{file_path}' is empty.\")\n",
        "        return True\n",
        "\n",
        "    return False\n",
        "\n",
        "def read_file(file_path):\n",
        "    # Check if the file is empty before reading\n",
        "    if is_file_empty(file_path):\n",
        "        return\n",
        "\n",
        "    try:\n",
        "        with open(file_path, 'r') as file:\n",
        "            contents = file.read()\n",
        "            print(\"File Contents:\")\n",
        "            print(contents)\n",
        "    except IOError as e:\n",
        "        print(f\"Error: An I/O error occurred - {e}\")\n",
        "\n",
        "# Example usage\n",
        "file_path = \"example.txt\"  # Replace with your file path\n",
        "read_file(file_path)\n"
      ],
      "metadata": {
        "colab": {
          "base_uri": "https://localhost:8080/"
        },
        "id": "EEwSEkAEAgSn",
        "outputId": "8e2eec64-e2a9-4e2b-d1ef-f99456db08cf"
      },
      "execution_count": 5,
      "outputs": [
        {
          "output_type": "stream",
          "name": "stdout",
          "text": [
            "File Contents:\n",
            "This is an example file.\n",
            "This example is simple.\n",
            "The word \"example\" is used multiple times.\n"
          ]
        }
      ]
    },
    {
      "cell_type": "markdown",
      "source": [
        "##**Question-23)Write a Python program that writes to a log file when an error occurs during file handling.**\n",
        "##Answer-23)"
      ],
      "metadata": {
        "id": "A9OIz-TRBNzM"
      }
    },
    {
      "cell_type": "code",
      "source": [
        "import os\n",
        "from datetime import datetime\n",
        "\n",
        "def log_error(error_message, log_file=\"error_log.txt\"):\n",
        "    \"\"\"\n",
        "    Logs an error message to a log file with a timestamp.\n",
        "    \"\"\"\n",
        "    timestamp = datetime.now().strftime(\"%Y-%m-%d %H:%M:%S\")\n",
        "    with open(log_file, 'a') as log:\n",
        "        log.write(f\"[{timestamp}] {error_message}\\n\")\n",
        "\n",
        "def read_file(file_path, log_file=\"error_log.txt\"):\n",
        "    \"\"\"\n",
        "    Reads a file and logs any errors encountered.\n",
        "    \"\"\"\n",
        "    try:\n",
        "        with open(file_path, 'r') as file:\n",
        "            contents = file.read()\n",
        "            print(\"File Contents:\")\n",
        "            print(contents)\n",
        "    except FileNotFoundError:\n",
        "        error_message = f\"File not found: {file_path}\"\n",
        "        print(error_message)\n",
        "        log_error(error_message, log_file)\n",
        "    except IOError as e:\n",
        "        error_message = f\"I/O error occurred while handling the file '{file_path}': {e}\"\n",
        "        print(error_message)\n",
        "        log_error(error_message, log_file)\n",
        "\n",
        "# Example usage\n",
        "file_path = \"new.txt\"  # Replace with file path\n",
        "read_file(file_path)\n"
      ],
      "metadata": {
        "colab": {
          "base_uri": "https://localhost:8080/"
        },
        "id": "nmVOwpYVBZDv",
        "outputId": "b8e24f94-f1bc-46c3-8d8d-59e691f56c83"
      },
      "execution_count": 10,
      "outputs": [
        {
          "output_type": "stream",
          "name": "stdout",
          "text": [
            "File not found: new.txt\n"
          ]
        }
      ]
    },
    {
      "cell_type": "code",
      "source": [],
      "metadata": {
        "id": "hTKc6iCtBrHl"
      },
      "execution_count": null,
      "outputs": []
    }
  ]
}