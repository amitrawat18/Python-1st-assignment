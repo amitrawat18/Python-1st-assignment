{
  "nbformat": 4,
  "nbformat_minor": 0,
  "metadata": {
    "colab": {
      "provenance": []
    },
    "kernelspec": {
      "name": "python3",
      "display_name": "Python 3"
    },
    "language_info": {
      "name": "python"
    }
  },
  "cells": [
    {
      "cell_type": "markdown",
      "source": [
        "##**Question-1) What is the difference between a function and a method in Python?**\n",
        "**Answer-1)** In Python, both functions and methods are callable objects, but they are used in different contexts and have distinct characteristics:\n",
        "## 1. Function:-\n",
        "* A function is a block of code that performs a specific task. It is defined using the def keyword and can be called independently, not associated with any object or class.\n",
        "\n",
        "* Functions can be global or local, depending on where they are defined.\n",
        "\n",
        "* A function can be called directly by its name, and it can take arguments and return values.\n",
        "\n"
      ],
      "metadata": {
        "id": "YtnHeoUW4V3f"
      }
    },
    {
      "cell_type": "code",
      "execution_count": null,
      "metadata": {
        "colab": {
          "base_uri": "https://localhost:8080/",
          "height": 36
        },
        "id": "0NEEnvp74Tcm",
        "outputId": "1bf1fe49-e019-41b1-e66b-f15d1dfb6a7f"
      },
      "outputs": [
        {
          "output_type": "execute_result",
          "data": {
            "text/plain": [
              "'Hello Ranjana welcome to Python'"
            ],
            "application/vnd.google.colaboratory.intrinsic+json": {
              "type": "string"
            }
          },
          "metadata": {},
          "execution_count": 6
        }
      ],
      "source": [
        "def welcome(name):\n",
        "  return f\"Hello {name} welcome to Python\"\n",
        "welcome(\"Ranjana\")"
      ]
    },
    {
      "cell_type": "markdown",
      "source": [
        "## 2. Method:-\n",
        "* A method is similar to a function but is associated with an object or a class. It is essentially a function that is bound to an instance of a class or the class itself.\n",
        "\n",
        "* A method is called on an object (instance method) or a class (class method).\n",
        "\n",
        "* To call a method, you need an object or class, and the method usually takes at least one parameter, typically self for instance methods, which refers to the object."
      ],
      "metadata": {
        "id": "KVvpN2uA77d1"
      }
    },
    {
      "cell_type": "code",
      "source": [
        "# Basic Python method\n",
        "class class_name\n",
        "\tdef method_name () :\n",
        "\t\t......\n",
        "\t\t# method body\n",
        "\t\t......\n"
      ],
      "metadata": {
        "id": "j6bTB2K77WDr"
      },
      "execution_count": null,
      "outputs": []
    },
    {
      "cell_type": "markdown",
      "source": [
        "## Differences:\n",
        "* Association:- A function is independent and can exist on its own.\n",
        "\n",
        " A method is always associated with an object or class.\n",
        "\n",
        "* Calling:- A function is called by its name (e.g., function_name()).\n",
        "\n",
        "   A method is called on an object or a class (e.g., object.method() or Class.method()).\n",
        "\n",
        "* Parameters:- Methods generally have the self parameter (for instance methods) or cls (for class methods), while functions do not have these unless explicitly defined."
      ],
      "metadata": {
        "id": "1Y8qOn2r8osA"
      }
    },
    {
      "cell_type": "markdown",
      "source": [
        "##**Question-2) Explain the concept of function arguments and parameters in Python.**\n",
        "**Answer-2)** In Python, function arguments and parameters refer to the values passed to a function and the variables used to accept those values within the function.\n",
        "\n",
        "* Parameters:\n",
        "\n",
        "1. A parameter is a variable that is defined in the function signature (the function definition). It acts as a placeholder for the value that will be passed to the function when it is called.\n",
        "\n",
        "2. Parameters appear in the function definition, between the parentheses."
      ],
      "metadata": {
        "id": "DwpiHBNQ9bzM"
      }
    },
    {
      "cell_type": "code",
      "source": [
        "def name(a):\n",
        "  return f\"Hello {a}\"\n",
        "name(\"Ajay\")\n",
        "\n",
        "''' here name is a function meanwhile (a) is a parameter\n",
        "    which will act as a value and it can have any value\n",
        "    passed by us'''"
      ],
      "metadata": {
        "colab": {
          "base_uri": "https://localhost:8080/",
          "height": 36
        },
        "id": "ITiXbsV--nc1",
        "outputId": "c07ceb30-45d7-4326-8064-a81af69c0b00"
      },
      "execution_count": null,
      "outputs": [
        {
          "output_type": "execute_result",
          "data": {
            "text/plain": [
              "'Hello Ajay'"
            ],
            "application/vnd.google.colaboratory.intrinsic+json": {
              "type": "string"
            }
          },
          "metadata": {},
          "execution_count": 8
        }
      ]
    },
    {
      "cell_type": "markdown",
      "source": [
        "* Arguments:\n",
        "\n",
        "1. An argument is the actual value that is passed to a function when it is called. It corresponds to the function's parameters and provides the data the function needs to execute its task.\n",
        "\n",
        "2. Arguments are provided when the function is called."
      ],
      "metadata": {
        "id": "fBGd5U9_BI2v"
      }
    },
    {
      "cell_type": "code",
      "source": [
        "def rank(b):\n",
        "  return f\"My rank is {b}\"\n",
        "rank(\"Lieutenant\")\n",
        "\n",
        "# here lieutenant is a argument because it is a particular\n",
        "# value given by us to it meanwhile b is a parameter"
      ],
      "metadata": {
        "colab": {
          "base_uri": "https://localhost:8080/",
          "height": 36
        },
        "id": "8nXywIeq-2ra",
        "outputId": "fc3e616d-c51b-4076-e5ec-d41d6dafa1c5"
      },
      "execution_count": null,
      "outputs": [
        {
          "output_type": "execute_result",
          "data": {
            "text/plain": [
              "'My rank is Lieutenant'"
            ],
            "application/vnd.google.colaboratory.intrinsic+json": {
              "type": "string"
            }
          },
          "metadata": {},
          "execution_count": 10
        }
      ]
    },
    {
      "cell_type": "markdown",
      "source": [
        "## Types of Function Arguments in Python:\n",
        "**Positional Arguments:**\n",
        "\n",
        "These are arguments passed to the function in the correct order. The first argument is assigned to the first parameter, the second to the second parameter, and so on."
      ],
      "metadata": {
        "id": "DBJVIJCcDhrp"
      }
    },
    {
      "cell_type": "code",
      "source": [
        "def sum(a,b):\n",
        "  return a+b\n",
        "sum(2,3)\n",
        "\n",
        "#In this code a, b are positional arguments and we can put\n",
        "# any value in those and number of values will be equal to number\n",
        "# positional arguments specified"
      ],
      "metadata": {
        "colab": {
          "base_uri": "https://localhost:8080/"
        },
        "id": "la5wyW9pDhLq",
        "outputId": "2c22032b-ef33-4d2b-bab2-f1edb083e2ed"
      },
      "execution_count": null,
      "outputs": [
        {
          "output_type": "execute_result",
          "data": {
            "text/plain": [
              "5"
            ]
          },
          "metadata": {},
          "execution_count": 11
        }
      ]
    },
    {
      "cell_type": "markdown",
      "source": [
        "**Keyword Arguments:**\n",
        "\n",
        "These are arguments passed to the function by explicitly naming the parameter and assigning a value to it. This allows passing arguments in any order."
      ],
      "metadata": {
        "id": "TqJtMrv2EUzB"
      }
    },
    {
      "cell_type": "code",
      "source": [
        "def greet(name , age):\n",
        "  return f\"Hello {name} your age is {age}\"\n",
        "greet(name = \"Aman\" , age = 23)\n",
        "\n",
        "#In this code we have assigned a parameter and also specified\n",
        "# a value to the parameters this is a keyword argument"
      ],
      "metadata": {
        "colab": {
          "base_uri": "https://localhost:8080/",
          "height": 36
        },
        "id": "_EK3g292CWiv",
        "outputId": "2253531a-25c9-405d-eb56-5663061ce308"
      },
      "execution_count": null,
      "outputs": [
        {
          "output_type": "execute_result",
          "data": {
            "text/plain": [
              "'Hello Aman your age is 23'"
            ],
            "application/vnd.google.colaboratory.intrinsic+json": {
              "type": "string"
            }
          },
          "metadata": {},
          "execution_count": 13
        }
      ]
    },
    {
      "cell_type": "markdown",
      "source": [
        "**Default Arguments:**\n",
        "\n",
        "A default argument is a parameter that has a default value. If the argument is not provided when the function is called, the default value is used."
      ],
      "metadata": {
        "id": "fqlye2GrFMuY"
      }
    },
    {
      "cell_type": "code",
      "source": [
        "def multi(a, b=5):\n",
        "  return a*b\n",
        "multi(6)\n",
        "\n",
        "# in the parameter box we have fixed a value of b which is 5\n",
        "# this b is hence, a default argument."
      ],
      "metadata": {
        "colab": {
          "base_uri": "https://localhost:8080/"
        },
        "id": "db8WrKYCErx0",
        "outputId": "54b4f76a-edd1-4563-ac2c-a121ea4d3edd"
      },
      "execution_count": null,
      "outputs": [
        {
          "output_type": "execute_result",
          "data": {
            "text/plain": [
              "30"
            ]
          },
          "metadata": {},
          "execution_count": 16
        }
      ]
    },
    {
      "cell_type": "markdown",
      "source": [
        "**Variable-Length Arguments:**\n",
        "\n",
        "Python allows functions to accept an arbitrary number of arguments using (*args) and (**kwargs) (for keyword arguments).\n",
        "\n",
        " *args Collects additional positional arguments into a tuple."
      ],
      "metadata": {
        "id": "eFLKGKUXF0AK"
      }
    },
    {
      "cell_type": "code",
      "source": [
        "def add_numbers(*args):\n",
        "    return sum(args)\n",
        "\n",
        "print(add_numbers(1, 2, 3, 4))  # Can pass any number of arguments\n"
      ],
      "metadata": {
        "colab": {
          "base_uri": "https://localhost:8080/"
        },
        "id": "XMA1Llz6ahpr",
        "outputId": "9e115272-56f1-432a-a300-e91bbef2d037"
      },
      "execution_count": null,
      "outputs": [
        {
          "output_type": "stream",
          "name": "stdout",
          "text": [
            "10\n"
          ]
        }
      ]
    },
    {
      "cell_type": "markdown",
      "source": [
        "##**Question-3)What are the different ways to define and call a function in Python?**\n",
        "\n",
        "**Answer-3)**  In Python, there are several ways to define and call a function, depending on the use case and the type of arguments you're working with. Below, I'll cover the most common ways to define and call functions in Python.\n",
        "\n",
        "* A basic function in Python is defined using the def keyword followed by a function name, parentheses for parameters, and a colon. The function body follows with an indentation"
      ],
      "metadata": {
        "id": "pXFHXjwZeBvF"
      }
    },
    {
      "cell_type": "code",
      "source": [
        "def name(a):      # this is the syntax of defining a function\n",
        "  return f\"Welcome {a}\"\n",
        "\n",
        "name(\"Amit\") # to call the function we just to write the value in parenthisis"
      ],
      "metadata": {
        "colab": {
          "base_uri": "https://localhost:8080/",
          "height": 36
        },
        "id": "KQb1_z-KajHc",
        "outputId": "1bccfd49-153f-409f-bcb1-67e6981cf41e"
      },
      "execution_count": null,
      "outputs": [
        {
          "output_type": "execute_result",
          "data": {
            "text/plain": [
              "'Welcome Amit'"
            ],
            "application/vnd.google.colaboratory.intrinsic+json": {
              "type": "string"
            }
          },
          "metadata": {},
          "execution_count": 2
        }
      ]
    },
    {
      "cell_type": "markdown",
      "source": [
        " **Function with Multiple Parameters:-**-\n",
        "\n",
        " * Functions can accept multiple parameters. The values passed to these parameters are referred to as arguments"
      ],
      "metadata": {
        "id": "AM3Q9mf2geXi"
      }
    },
    {
      "cell_type": "code",
      "source": [
        "def add(a, b): # this is how we define the function\n",
        "    return a + b\n",
        "result = add(3, 5) # this is how we call the function\n",
        "print(result)\n"
      ],
      "metadata": {
        "colab": {
          "base_uri": "https://localhost:8080/"
        },
        "id": "S5bPNW_re6WK",
        "outputId": "3468da62-2c0c-4811-9d95-ba5cf8c37f28"
      },
      "execution_count": null,
      "outputs": [
        {
          "output_type": "stream",
          "name": "stdout",
          "text": [
            "8\n"
          ]
        }
      ]
    },
    {
      "cell_type": "markdown",
      "source": [
        "**Function with Default Parameters:-**\n",
        "\n",
        "* You can assign default values to function parameters. If the caller doesn't provide a value, the default is used."
      ],
      "metadata": {
        "id": "9yxxfJdvhDS7"
      }
    },
    {
      "cell_type": "code",
      "source": [
        "def greet(name, message=\"Hello\"):\n",
        "    print(f\"{message}, {name}!\")\n",
        "greet(\"Sagar\")         # Uses default message \"Hello\"\n",
        "greet(\"Ajay\", \"Hi\")     # Overrides default with \"Hi\"\n"
      ],
      "metadata": {
        "colab": {
          "base_uri": "https://localhost:8080/"
        },
        "id": "mtRYkeyHg3FQ",
        "outputId": "eb84b429-d300-4d73-ca03-ca978e42377a"
      },
      "execution_count": null,
      "outputs": [
        {
          "output_type": "stream",
          "name": "stdout",
          "text": [
            "Hello, Sagar!\n",
            "Hi, Ajay!\n"
          ]
        }
      ]
    },
    {
      "cell_type": "markdown",
      "source": [
        "**Function with Arbitrary Positional Arguments** (*args)\n",
        "\n",
        "* If you don’t know how many arguments will be passed to the function, you can use *args to handle a variable number of positional arguments. Inside the function, args is a tuple."
      ],
      "metadata": {
        "id": "L4NC7ngBhfmU"
      }
    },
    {
      "cell_type": "code",
      "source": [
        "def sum_numbers(*args):\n",
        "    return sum(args)\n",
        "print(sum_numbers(1, 2, 3))\n",
        "print(sum_numbers(4, 5))\n"
      ],
      "metadata": {
        "colab": {
          "base_uri": "https://localhost:8080/"
        },
        "id": "Me3H4XcQhXxz",
        "outputId": "bf7dbd84-bde5-44b7-81d4-7d91231b58eb"
      },
      "execution_count": null,
      "outputs": [
        {
          "output_type": "stream",
          "name": "stdout",
          "text": [
            "6\n",
            "9\n"
          ]
        }
      ]
    },
    {
      "cell_type": "markdown",
      "source": [
        "**Function with Arbitrary Keyword Arguments** (**kwargs)\n",
        "\n",
        "* **kwargs allows you to pass a variable number of keyword arguments (i.e., arguments in the form of key-value pairs). Inside the function, kwargs is a dictionary."
      ],
      "metadata": {
        "id": "BakZI62dh1Ix"
      }
    },
    {
      "cell_type": "code",
      "source": [
        "def greet(**kwargs):\n",
        "    for key, value in kwargs.items():\n",
        "        print(f\"{key}: {value}\")\n",
        "greet(name=\"Alice\", age=30)\n",
        "\n"
      ],
      "metadata": {
        "colab": {
          "base_uri": "https://localhost:8080/"
        },
        "id": "MqWEmh3Rhv4K",
        "outputId": "edbba404-3b35-45af-841c-9bef8dc44780"
      },
      "execution_count": null,
      "outputs": [
        {
          "output_type": "stream",
          "name": "stdout",
          "text": [
            "name: Alice\n",
            "age: 30\n"
          ]
        }
      ]
    },
    {
      "cell_type": "markdown",
      "source": [
        "**Lambda Functions (Anonymous Functions):-**\n",
        "\n",
        "* A lambda function is a small, anonymous function defined using the lambda keyword. It can have any number of parameters but only one expression"
      ],
      "metadata": {
        "id": "-aOMAm9piJ39"
      }
    },
    {
      "cell_type": "code",
      "source": [
        "multiply = lambda x, y: x * y   # this is the syntax of lambda function\n",
        "result = multiply(4, 5)\n",
        "print(result)\n"
      ],
      "metadata": {
        "colab": {
          "base_uri": "https://localhost:8080/"
        },
        "id": "kJlD3Jc3iJF1",
        "outputId": "b671a2be-2af0-41c4-902d-450a2fa02191"
      },
      "execution_count": null,
      "outputs": [
        {
          "output_type": "stream",
          "name": "stdout",
          "text": [
            "20\n"
          ]
        }
      ]
    },
    {
      "cell_type": "markdown",
      "source": [
        "**Function with Return Statement:-**\n",
        "\n",
        "* Functions can return values using the return keyword. The value returned can be stored in a variable when the function is called."
      ],
      "metadata": {
        "id": "_fvtumF_ieTi"
      }
    },
    {
      "cell_type": "code",
      "source": [
        "def square(x):\n",
        "    return x ** 2\n",
        "result = square(3)\n",
        "print(result)\n"
      ],
      "metadata": {
        "colab": {
          "base_uri": "https://localhost:8080/"
        },
        "id": "dJJTEJkEiEWW",
        "outputId": "82f7b52e-17f7-4ecb-ab03-dc22b2aad05b"
      },
      "execution_count": null,
      "outputs": [
        {
          "output_type": "stream",
          "name": "stdout",
          "text": [
            "9\n"
          ]
        }
      ]
    },
    {
      "cell_type": "markdown",
      "source": [
        "**Recursive Functions**\n",
        "\n",
        "* A recursive function is a function that calls itself. This is useful for problems that can be broken down into smaller sub-problems (e.g., calculating factorials)."
      ],
      "metadata": {
        "id": "CcBBKdc-iwjI"
      }
    },
    {
      "cell_type": "code",
      "source": [
        "# Lets take a example of recursive function\n",
        "\n",
        "def factorial(n):\n",
        "    if n == 0:\n",
        "        return 1\n",
        "    else:\n",
        "        return n * factorial(n - 1)\n",
        "print(factorial(4))\n"
      ],
      "metadata": {
        "colab": {
          "base_uri": "https://localhost:8080/"
        },
        "id": "GUcu0ZCAioVe",
        "outputId": "47744f80-cc6c-460f-9270-afc5b2965f3c"
      },
      "execution_count": null,
      "outputs": [
        {
          "output_type": "stream",
          "name": "stdout",
          "text": [
            "24\n"
          ]
        }
      ]
    },
    {
      "cell_type": "markdown",
      "source": [
        "##**Question-4) What is the purpose of the `return` statement in a Python function?**\n",
        "**Answer-4)**\n",
        "## 1. Returning a Value from a Function:-\n",
        "\n",
        "* The primary purpose of the return statement is to send a result or value back from the function to the calling code. When a function reaches a return statement, it immediately exits the function and returns the specified value to the caller."
      ],
      "metadata": {
        "id": "queEod--jNSs"
      }
    },
    {
      "cell_type": "code",
      "source": [
        "def add(a, b):\n",
        "    return a + b\n",
        "\n",
        "result = add(3, 5)\n",
        "print(result)\n"
      ],
      "metadata": {
        "colab": {
          "base_uri": "https://localhost:8080/"
        },
        "id": "IbU5zZw8i6Kw",
        "outputId": "83bc14ca-e36b-470d-bed8-051666ff2527"
      },
      "execution_count": null,
      "outputs": [
        {
          "output_type": "stream",
          "name": "stdout",
          "text": [
            "8\n"
          ]
        }
      ]
    },
    {
      "cell_type": "markdown",
      "source": [
        "In this example, the return statement sends the sum of a and b back to the calling code. The value 8 is then assigned to the variable result."
      ],
      "metadata": {
        "id": "oSoNgmGSj1qs"
      }
    },
    {
      "cell_type": "markdown",
      "source": [
        "## 2. Exiting the Function Early:-\n",
        "\n",
        "* The return statement also immediately terminates the function's execution. This is particularly useful when a certain condition is met, and there is no need to continue the rest of the function."
      ],
      "metadata": {
        "id": "UdHFT9tbj31m"
      }
    },
    {
      "cell_type": "code",
      "source": [
        "def check_positive(number):\n",
        "    if number <= 0:\n",
        "        return \"Number is negative \"\n",
        "    return \"Number is positive\"\n",
        "\n",
        "print(check_positive(4))\n",
        "print(check_positive(-6))\n"
      ],
      "metadata": {
        "colab": {
          "base_uri": "https://localhost:8080/"
        },
        "id": "7ymZZIjGjyu4",
        "outputId": "386ab924-7c4f-4984-d9f3-99a5ea648dc5"
      },
      "execution_count": null,
      "outputs": [
        {
          "output_type": "stream",
          "name": "stdout",
          "text": [
            "Number is positive\n",
            "Number is negative \n"
          ]
        }
      ]
    },
    {
      "cell_type": "markdown",
      "source": [
        "In this case, the function exits early if the number is less than or equal to zero, and it returns a message accordingly."
      ],
      "metadata": {
        "id": "jTXVjNQykmHs"
      }
    },
    {
      "cell_type": "markdown",
      "source": [
        "## 3.Returning Multiple Values:-\n",
        "\n",
        "* A function can return multiple values using a return statement. When more than one value is returned, Python automatically packages them into a tuple."
      ],
      "metadata": {
        "id": "h5qIK5PLkZPw"
      }
    },
    {
      "cell_type": "code",
      "source": [
        "def calculate(a, b):\n",
        "    sum_result = a + b\n",
        "    difference = a - b\n",
        "    return sum_result, difference\n",
        "\n",
        "result = calculate(10, 5)\n",
        "print(result)\n"
      ],
      "metadata": {
        "colab": {
          "base_uri": "https://localhost:8080/"
        },
        "id": "E4V0YXXKkPXF",
        "outputId": "b69ae3a3-48fb-44b6-efdb-626d86a3fb5c"
      },
      "execution_count": null,
      "outputs": [
        {
          "output_type": "stream",
          "name": "stdout",
          "text": [
            "(15, 5)\n"
          ]
        }
      ]
    },
    {
      "cell_type": "markdown",
      "source": [
        "Here, the function returns two values as a tuple, which can be unpacked by the caller if needed."
      ],
      "metadata": {
        "id": "isQi9Q5ikxXm"
      }
    },
    {
      "cell_type": "markdown",
      "source": [
        "##4. Returning None:-\n",
        "\n",
        "* If a function does not explicitly use a return statement, or the return statement does not provide a value, the function will return None by default. This behavior is implicit and occurs if the return is omitted."
      ],
      "metadata": {
        "id": "A0eMNPhTkzRP"
      }
    },
    {
      "cell_type": "code",
      "source": [
        "def greet(name):\n",
        "  result = greet(\"Ankit\")\n",
        "print(result)\n"
      ],
      "metadata": {
        "colab": {
          "base_uri": "https://localhost:8080/"
        },
        "id": "fwWoLEX-kryx",
        "outputId": "3755d1b2-70a5-4f18-c446-aae48017265e"
      },
      "execution_count": null,
      "outputs": [
        {
          "output_type": "stream",
          "name": "stdout",
          "text": [
            "None\n"
          ]
        }
      ]
    },
    {
      "cell_type": "markdown",
      "source": [
        "In this case, since there is no return statement, the function returns None"
      ],
      "metadata": {
        "id": "7HZcvUVplLOu"
      }
    },
    {
      "cell_type": "markdown",
      "source": [
        "## 5. Ending the Function Execution:-\n",
        "* Once a return statement is executed,\n",
        "the function terminates, and no further code inside the function is executed."
      ],
      "metadata": {
        "id": "US_ckfsRllfg"
      }
    },
    {
      "cell_type": "code",
      "source": [
        "def calculate(a, b):\n",
        "    return a + b\n",
        "    print(\"This line will never be executed\")  # This is unreachable\n",
        "\n",
        "result = calculate(27, 48)\n",
        "print(result)\n"
      ],
      "metadata": {
        "colab": {
          "base_uri": "https://localhost:8080/"
        },
        "id": "i3_FC2GslAt1",
        "outputId": "d6180b6c-f8a3-47ca-a9a7-c76f319e5046"
      },
      "execution_count": null,
      "outputs": [
        {
          "output_type": "stream",
          "name": "stdout",
          "text": [
            "75\n"
          ]
        }
      ]
    },
    {
      "cell_type": "markdown",
      "source": [
        "In this case, the print statement after the return is never executed because the return immediately exits the function."
      ],
      "metadata": {
        "id": "qgrTiLpyl1RX"
      }
    },
    {
      "cell_type": "markdown",
      "source": [
        "##**Question-5)What are iterators in Python and how do they differ from iterables?**\n",
        "##Answer-5)\n",
        "In Python, iterators and iterables are fundamental concepts related to loops and iteration. They both deal with iterating over a collection of elements, but they have distinct characteristics.\n",
        "\n",
        "**1. Iterable:** An iterable is any Python object capable of returning its members one at a time, allowing it to be looped over (iterated). To be considered an iterable, an object must implement the __iter__() method or the __getitem__() method.\n",
        "\n",
        "* Iterable Object: Any object that can return an iterator when passed to iter(). Common examples include lists, tuples, dictionaries, strings, and sets.\n",
        "\n",
        "* An iterable is something you can pass to a for loop or use with the iter() function to get an iterator."
      ],
      "metadata": {
        "id": "KY0cRxFml3wM"
      }
    },
    {
      "cell_type": "code",
      "source": [
        "# A list is an iterable\n",
        "my_list = [1, 2, 3, 4]\n",
        "\n",
        "# We can create an iterator from the iterable\n",
        "iterator = iter(my_list)\n",
        "\n",
        "# Using the iterator to access elements one by one\n",
        "print(next(iterator))\n",
        "print(next(iterator))\n"
      ],
      "metadata": {
        "colab": {
          "base_uri": "https://localhost:8080/"
        },
        "id": "7xv7lxkulvVq",
        "outputId": "e2681096-171d-4f78-bebc-aa1ee43074e5"
      },
      "execution_count": null,
      "outputs": [
        {
          "output_type": "stream",
          "name": "stdout",
          "text": [
            "1\n",
            "2\n"
          ]
        }
      ]
    },
    {
      "cell_type": "markdown",
      "source": [
        "**Key Characteristics of Iterables:**\n",
        "\n",
        "* You can loop through them using a for loop.\n",
        "* They provide an iterator when you call iter().\n",
        "* They don’t necessarily keep track of the current position in the iteration; that's the role of the iterator.\n",
        "\n",
        "\n",
        "\n",
        "\n",
        "\n",
        "**2. Iterator:**\n",
        "An iterator is an object that represents a stream of data. It allows you to traverse through all the elements in an iterable, one element at a time. An iterator keeps track of its current state and position in the iteration. Iterators implement two key methods:\n",
        "\n",
        "* **iter():** Returns the iterator object itself. This method is needed to make an object an iterator (often returns self).\n",
        "\n",
        "* **next**(): Returns the next item in the sequence. If there are no more items, it raises the StopIteration exception."
      ],
      "metadata": {
        "id": "93UJKHCKm7XW"
      }
    },
    {
      "cell_type": "code",
      "source": [
        "# A list is an iterable\n",
        "my_list = [1, 2, 3, 4]\n",
        "\n",
        "# Getting an iterator from the iterable\n",
        "iterator = iter(my_list)\n",
        "\n",
        "# Using next() to iterate through the iterator\n",
        "print(next(iterator))\n",
        "print(next(iterator))\n",
        "\n",
        "# If we call next() again, it will give 3\n"
      ],
      "metadata": {
        "colab": {
          "base_uri": "https://localhost:8080/"
        },
        "id": "z_wQzjkfm0yu",
        "outputId": "f55a6f51-f1bd-40fe-838e-7b2368e878ab"
      },
      "execution_count": null,
      "outputs": [
        {
          "output_type": "stream",
          "name": "stdout",
          "text": [
            "1\n",
            "2\n"
          ]
        }
      ]
    },
    {
      "cell_type": "markdown",
      "source": [
        "If you keep calling next() on the iterator, eventually, it will raise a StopIteration exception when there are no more elements to iterate over.\n",
        "\n",
        "\n",
        "**Example of StopIteration:**\n",
        "\n"
      ],
      "metadata": {
        "id": "9BCUP5N0ntSX"
      }
    },
    {
      "cell_type": "code",
      "source": [
        "iterator = iter(my_list)\n",
        "\n",
        "while True:\n",
        "    try:\n",
        "        print(next(iterator))\n",
        "    except StopIteration:\n",
        "        break\n"
      ],
      "metadata": {
        "colab": {
          "base_uri": "https://localhost:8080/"
        },
        "id": "KSnplduXno72",
        "outputId": "6de6324f-4612-4450-b4a6-e9192981f8c5"
      },
      "execution_count": null,
      "outputs": [
        {
          "output_type": "stream",
          "name": "stdout",
          "text": [
            "1\n",
            "2\n",
            "3\n",
            "4\n"
          ]
        }
      ]
    },
    {
      "cell_type": "markdown",
      "source": [
        "**Key Characteristics of Iterators:**\n",
        "\n",
        "* They represent the current state of iteration through a collection.\n",
        "* They keep track of the current position.\n",
        "* They provide the __next__() method to fetch the next item.\n",
        "* They raise StopIteration when there are no more items to iterate over.\n",
        "Once an iterator is exhausted, it cannot be reused."
      ],
      "metadata": {
        "id": "e5njjAYgoE2q"
      }
    },
    {
      "cell_type": "markdown",
      "source": [
        "##**Question-6) Explain the concept of generators in Python and how they are defined**\n",
        "**Answer-6)**\n",
        "##**Generator:-**\n",
        "A generator is a special type of iterator in Python that allows you to iterate over a sequence of values. The key feature of generators is that they generate items on the fly, instead of storing them all in memory at once like lists or other iterables. This makes generators memory-efficient, especially when dealing with large datasets.\n",
        "\n",
        "Generators are defined using either:\n",
        "\n",
        "* Generator functions (using yield).\n",
        "\n",
        "* Generator expressions (similar to list comprehensions but with parentheses).\n",
        "\n",
        "**Generator Functions:-**\n",
        "A generator function is a regular Python function that uses the yield keyword to produce a sequence of results lazily. When the generator function is called, it returns a generator object, which can be iterated over.\n",
        "\n",
        "* yield: When a function contains yield, it turns into a generator function. Each time the generator's __next__() method is called (e.g., when using next() or in a for loop), the function will execute until it hits a yield statement, at which point it returns the yielded value and pauses execution.\n",
        "\n",
        "* The function can be resumed from where it left off when next() is called again."
      ],
      "metadata": {
        "id": "4Z_y-yYGoOp0"
      }
    },
    {
      "cell_type": "code",
      "source": [
        "def count_up_to(max):\n",
        "    count = 1\n",
        "    while count <= max:\n",
        "        yield count  # Yield pauses and returns the value\n",
        "        count += 1\n",
        "\n",
        "# Create a generator object\n",
        "counter = count_up_to(4)\n",
        "\n",
        "# Iterating through the generator\n",
        "print(next(counter))\n",
        "print(next(counter))\n",
        "print(next(counter))\n"
      ],
      "metadata": {
        "colab": {
          "base_uri": "https://localhost:8080/"
        },
        "id": "TJINLr6ln7vl",
        "outputId": "d96a7705-e1ea-4090-ed92-0393c0b7e511"
      },
      "execution_count": null,
      "outputs": [
        {
          "output_type": "stream",
          "name": "stdout",
          "text": [
            "1\n",
            "2\n",
            "3\n"
          ]
        }
      ]
    },
    {
      "cell_type": "markdown",
      "source": [
        "In this example:\n",
        "\n",
        "* The function count_up_to generates numbers from 1 to max.\n",
        "* Each call to next(counter) resumes the function from the last yield and continues until it reaches the next one.\n",
        "\n",
        "\n",
        "**Using a for Loop with a Generator:**\n",
        "\n",
        "You can also loop through a generator using a for loop, which automatically calls next() until the generator is exhausted."
      ],
      "metadata": {
        "id": "PNFbz4NKpord"
      }
    },
    {
      "cell_type": "code",
      "source": [
        "count=([1,2,3,4,5,6,7,8,9])\n",
        "for num in count:\n",
        "    print(num)"
      ],
      "metadata": {
        "colab": {
          "base_uri": "https://localhost:8080/"
        },
        "id": "r8MP2b3fpd6_",
        "outputId": "fcba01c8-e497-41bf-eb4d-0e53cc2bfabf"
      },
      "execution_count": null,
      "outputs": [
        {
          "output_type": "stream",
          "name": "stdout",
          "text": [
            "1\n",
            "2\n",
            "3\n",
            "4\n",
            "5\n",
            "6\n",
            "7\n",
            "8\n",
            "9\n"
          ]
        }
      ]
    },
    {
      "cell_type": "markdown",
      "source": [
        "**Generator Expressions:-**\n",
        "\n",
        "A generator expression is a concise way to define a generator. It is similar to list comprehensions but uses parentheses () instead of square brackets []."
      ],
      "metadata": {
        "id": "xwvd9WGFqWqY"
      }
    },
    {
      "cell_type": "code",
      "source": [
        "# Generator expression to generate squares of numbers\n",
        "squares = (x * x for x in range(1, 6))\n",
        "\n",
        "# Iterating through the generator\n",
        "for square in squares:\n",
        "    print(square)\n"
      ],
      "metadata": {
        "colab": {
          "base_uri": "https://localhost:8080/"
        },
        "id": "8gYLEvZdp6d2",
        "outputId": "065c4067-2184-4541-9a22-c5cfed51ce90"
      },
      "execution_count": null,
      "outputs": [
        {
          "output_type": "stream",
          "name": "stdout",
          "text": [
            "1\n",
            "4\n",
            "9\n",
            "16\n",
            "25\n"
          ]
        }
      ]
    },
    {
      "cell_type": "markdown",
      "source": [
        "**Benefits of Generators**\n",
        "\n",
        "* Memory Efficient: Since they don’t generate all items at once and don’t store them in memory, they are ideal for working with large data (like processing large files or streams).\n",
        "*Lazy Evaluation: You get values only when needed, which can improve performance in cases where you don’t need to iterate through the entire sequence.\n",
        "\n",
        "* Pipelining: Generators can be used to create pipelines for processing data lazily (e.g., generating data, filtering it, and performing operations without creating intermediate lists)."
      ],
      "metadata": {
        "id": "QQ7kDhdEqqAT"
      }
    },
    {
      "cell_type": "markdown",
      "source": [
        "Infinite Sequences: Generators can represent infinite sequences without running out of memory. For example, generating an infinite sequence of numbers.\n"
      ],
      "metadata": {
        "id": "AFfzQF8Xq3QC"
      }
    },
    {
      "cell_type": "code",
      "source": [
        "def infinite_numbers():\n",
        "    num = 1\n",
        "    while True:\n",
        "        yield num\n",
        "        num += 1\n",
        "\n",
        "infinite_gen = infinite_numbers()\n",
        "print(next(infinite_gen))\n",
        "print(next(infinite_gen))\n"
      ],
      "metadata": {
        "colab": {
          "base_uri": "https://localhost:8080/"
        },
        "id": "KSQyiVL3qhiw",
        "outputId": "b91c141f-46de-403f-8e28-dacd0deee029"
      },
      "execution_count": null,
      "outputs": [
        {
          "output_type": "stream",
          "name": "stdout",
          "text": [
            "1\n",
            "2\n"
          ]
        }
      ]
    },
    {
      "cell_type": "markdown",
      "source": [
        "##**Question-7) What are the advantages of using generators over regular functions?**\n",
        "**Answer-7)** Using generators over regular functions in Python offers several key advantages, particularly when dealing with large datasets or when memory efficiency and performance are critical. Here are the main benefits:\n",
        "\n",
        "# 1. Memory Efficiency\n",
        "Generators are memory-efficient because they do not store all values in memory at once. Instead, they generate each value on-the-fly (lazily), which means only one value is kept in memory at any given time.\n",
        "\n",
        "This is particularly advantageous when working with large datasets, files, or infinite sequences where storing all the data in memory would be impractical or inefficient.\n",
        "\n",
        "Example: If you need to process a huge file line by line, using a generator allows you to work with one line at a time, without having to load the entire file into memory."
      ],
      "metadata": {
        "id": "0uKwcyF7rUmn"
      }
    },
    {
      "cell_type": "code",
      "source": [
        "def files(file_name):\n",
        "    with open(file_name) as f:\n",
        "        for line in f:\n",
        "            yield line.strip()  # Yielding one line at a time\n",
        "\n",
        "for line in files('large_file.txt'):\n",
        "    print(line)\n"
      ],
      "metadata": {
        "id": "a9a8n_n4tvFS"
      },
      "execution_count": null,
      "outputs": []
    },
    {
      "cell_type": "markdown",
      "source": [
        "In contrast, a regular function that returns a list of all lines would require you to load the entire file into memory, which could be inefficient or impractical for large files."
      ],
      "metadata": {
        "id": "ZSwrZZWHtppi"
      }
    },
    {
      "cell_type": "markdown",
      "source": [
        "##2. Lazy Evaluation\n",
        "Generators use lazy evaluation, meaning they generate values only when they are needed, rather than computing all values upfront.\n",
        "\n",
        "This can improve performance, especially in cases where you don’t need to consume all the values at once. For instance, you might only need the first few values of a sequence, and with generators, the computation stops once the required values are obtained.\n",
        "\n",
        "Example: In the case of processing a large dataset, if you're only interested in a subset of the data, you don't need to process the entire dataset."
      ],
      "metadata": {
        "id": "hSpoVzEJtw4D"
      }
    },
    {
      "cell_type": "code",
      "source": [
        "def filter_even_numbers(numbers):\n",
        "    for num in numbers:\n",
        "        if num % 2 == 0:\n",
        "            yield num  # Only yields even numbers\n",
        "\n",
        "numbers = range(1, 20)\n",
        "for even_num in filter_even_numbers(numbers):\n",
        "    print(even_num)  # Stops when no more even numbers are found\n"
      ],
      "metadata": {
        "colab": {
          "base_uri": "https://localhost:8080/"
        },
        "id": "cMZOfLhFtfxv",
        "outputId": "33df7c42-409f-4f3b-a8c8-774f83081735"
      },
      "execution_count": null,
      "outputs": [
        {
          "output_type": "stream",
          "name": "stdout",
          "text": [
            "2\n",
            "4\n",
            "6\n",
            "8\n",
            "10\n",
            "12\n",
            "14\n",
            "16\n",
            "18\n"
          ]
        }
      ]
    },
    {
      "cell_type": "markdown",
      "source": [
        "With a list or regular function that returns all the numbers upfront, you'd end up processing more data than needed, consuming unnecessary time and memory.\n",
        "\n",
        "#3. Simpler Code for Complex Iterations\n",
        "Generators allow you to express complex iteration logic in a simple and readable manner. The logic is implemented in a generator function using the yield statement, avoiding the need for manually managing the iteration state (e.g., using next(), or tracking the loop variable).\n",
        "\n",
        "Example: Instead of writing a function that returns a list and manually manages loop variables or iteration counters, a generator can handle all of that for you.\n",
        "\n",
        "# 4. Pipeline Processing:\n",
        "\n",
        "Generators can be easily combined with other generators or functions to create powerful data pipelines.\n",
        "You can chain multiple generators together to perform complex transformations on data streams.\n"
      ],
      "metadata": {
        "id": "ArkXW7MZuKfm"
      }
    },
    {
      "cell_type": "code",
      "source": [
        "def fibonacci_generator():\n",
        "    a, b = 0, 1\n",
        "    while True:\n",
        "        yield a\n",
        "        a, b = b, a + b\n",
        "\n",
        "# To generate the first 10 Fibonacci numbers:\n",
        "for num in fibonacci_generator():\n",
        "    if num > 100:\n",
        "        break\n",
        "    print(num)"
      ],
      "metadata": {
        "colab": {
          "base_uri": "https://localhost:8080/"
        },
        "id": "tg6zJ5KUt8v_",
        "outputId": "b4ec80c2-895d-4019-f503-2ac7d7f7d07f"
      },
      "execution_count": null,
      "outputs": [
        {
          "output_type": "stream",
          "name": "stdout",
          "text": [
            "0\n",
            "1\n",
            "1\n",
            "2\n",
            "3\n",
            "5\n",
            "8\n",
            "13\n",
            "21\n",
            "34\n",
            "55\n",
            "89\n"
          ]
        }
      ]
    },
    {
      "cell_type": "markdown",
      "source": [
        "# 5. Infinite Sequences\n",
        "\n",
        "Generators can represent infinite sequences or streams of data without ever running out of memory. Since they yield values one by one, there is no need to precompute and store the entire sequence.\n",
        "\n",
        "Example: A generator can produce an infinite sequence of numbers without consuming infinite memory:\n"
      ],
      "metadata": {
        "id": "NTaB3BwWu04U"
      }
    },
    {
      "cell_type": "code",
      "source": [
        "def infinite_numbers():\n",
        "    num = 1\n",
        "    while True:\n",
        "        yield num\n",
        "        num += 1\n",
        "\n",
        "gen = infinite_numbers()\n",
        "for _ in range(10):\n",
        "    print(next(gen))\n"
      ],
      "metadata": {
        "colab": {
          "base_uri": "https://localhost:8080/"
        },
        "id": "murAcE2YurnG",
        "outputId": "f624b1bd-abcc-45cb-df79-a5b10f45920c"
      },
      "execution_count": null,
      "outputs": [
        {
          "output_type": "stream",
          "name": "stdout",
          "text": [
            "1\n",
            "2\n",
            "3\n",
            "4\n",
            "5\n",
            "6\n",
            "7\n",
            "8\n",
            "9\n",
            "10\n"
          ]
        }
      ]
    },
    {
      "cell_type": "markdown",
      "source": [
        "In contrast, generating an infinite sequence with a list or a regular function would require infinite memory, which is not feasible."
      ],
      "metadata": {
        "id": "VUczeuwOvEHJ"
      }
    },
    {
      "cell_type": "markdown",
      "source": [
        "#6. Better Performance for Large Datasets\n",
        "Generators provide better performance when working with large datasets because they avoid the overhead of creating and managing large data structures (like lists or tuples). Since values are generated one by one, you can start processing the data as soon as the first value is available, rather than waiting for the entire dataset to be generated.\n",
        "\n",
        "Example: If you're iterating over large datasets (such as processing a large CSV file), a generator function allows you to begin processing each line immediately without the need to load the entire file into memory\n",
        "\n",
        "\n",
        "**When to Use Generators:**\n",
        "\n",
        "* When working with large datasets that can’t fit entirely in memory.\n",
        "* For processing data streams (e.g., reading large files).\n",
        "* When you only need to process a subset of data at a time.\n",
        "* To represent infinite sequences or complex iteration processes."
      ],
      "metadata": {
        "id": "jS3yLYM_vQau"
      }
    },
    {
      "cell_type": "markdown",
      "source": [
        "#**Question-8)  What is a lambda function in Python and when is it typically used?**\n",
        "**Answer-8)** A lambda function in Python is a small, anonymous function defined using the lambda keyword. Unlike a regular function, which is defined using the def keyword, a lambda function is a one-liner function that can take any number of arguments but can only have one expression. The result of this expression is automatically returned."
      ],
      "metadata": {
        "id": "t7g_0WSMvsnR"
      }
    },
    {
      "cell_type": "code",
      "source": [
        "x= lambda y,z : y+z\n",
        "# this is the syntax of lambda function"
      ],
      "metadata": {
        "id": "fmF_kccLvA5r"
      },
      "execution_count": null,
      "outputs": []
    },
    {
      "cell_type": "markdown",
      "source": [
        "* **Lambda**  is the keyword that indicates it's a lambda function.\n",
        "\n",
        "* **y,z** are the parameters the function takes (it can have zero or more).\n",
        "\n",
        "* **y+z** expression is a single expression that is evaluated and returned by the function. It cannot contain statements or multiple expressions.\n",
        "\n",
        "\n",
        "Example of a Lambda Function:"
      ],
      "metadata": {
        "id": "CZjoYaAHweGk"
      }
    },
    {
      "cell_type": "code",
      "source": [
        "# Lambda function to add two numbers\n",
        "add = lambda x, y: x + y\n",
        "\n",
        "# Call the lambda function\n",
        "result = add(5, 3)\n",
        "print(result)\n"
      ],
      "metadata": {
        "colab": {
          "base_uri": "https://localhost:8080/"
        },
        "id": "oOS8gnjMxDju",
        "outputId": "733503da-0983-4139-9c90-1ead9979d14b"
      },
      "execution_count": null,
      "outputs": [
        {
          "output_type": "stream",
          "name": "stdout",
          "text": [
            "8\n"
          ]
        }
      ]
    },
    {
      "cell_type": "markdown",
      "source": [
        "In this example, the lambda function takes two arguments (x and y) and returns their sum (x + y).\n",
        "\n",
        "**key Characteristics of Lambda Functions:**\n",
        "\n",
        "* Anonymous: Lambda functions do not require a name, though they can be assigned to a variable (like add in the example above).\n",
        "* Single Expression: Lambda functions can only contain a single expression, which is evaluated and returned. No statements or multiple expressions can be used.\n",
        "* Concise: Lambda functions allow you to define small, simple functions inline, making your code more compact and readable in cases where a full def function definition would be unnecessary.\n",
        "\n",
        "**Uses of Lambda function:-**\n",
        "Lambda functions are typically used in situations where:\n",
        "\n",
        "* **Short, Throwaway Functions:** They are perfect when you need a function for a short period and don’t need to define a full function with def. This is particularly useful in functional programming tasks where functions are passed as arguments.\n",
        "\n",
        "* **In Functions like map(), filter(), and reduce():** Lambda functions are commonly used as arguments for higher-order functions (functions that accept other functions as parameters).\n",
        "\n",
        "\n",
        "**Examples:**\n",
        "\n",
        "Using lambda with map():  The map() function applies a given function to all items in an input list (or any iterable) and returns a map object (which is an iterator in Python 3)."
      ],
      "metadata": {
        "id": "RRYI-fMDxJgi"
      }
    },
    {
      "cell_type": "code",
      "source": [
        "numbers = [1, 2, 3, 4]\n",
        "squares = map(lambda x: x * x, numbers)\n",
        "print(list(squares))\n"
      ],
      "metadata": {
        "colab": {
          "base_uri": "https://localhost:8080/"
        },
        "id": "MgBA2fb_xG-W",
        "outputId": "58040c51-3750-4469-da79-2fd316ec5434"
      },
      "execution_count": null,
      "outputs": [
        {
          "output_type": "stream",
          "name": "stdout",
          "text": [
            "[1, 4, 9, 16]\n"
          ]
        }
      ]
    },
    {
      "cell_type": "markdown",
      "source": [
        "Using lambda with filter():  The filter() function filters a sequence of elements, returning only those that satisfy a given condition."
      ],
      "metadata": {
        "id": "ag6VEle5x6l4"
      }
    },
    {
      "cell_type": "code",
      "source": [
        "numbers = [1, 2, 3, 4, 5, 6]\n",
        "even_numbers = filter(lambda x: x % 2 == 0, numbers)\n",
        "print(list(even_numbers))\n"
      ],
      "metadata": {
        "colab": {
          "base_uri": "https://localhost:8080/"
        },
        "id": "tdfIzll6xzcq",
        "outputId": "9b623bff-b187-4903-d11c-0a513ddd8b14"
      },
      "execution_count": null,
      "outputs": [
        {
          "output_type": "stream",
          "name": "stdout",
          "text": [
            "[2, 4, 6]\n"
          ]
        }
      ]
    },
    {
      "cell_type": "markdown",
      "source": [
        "Using lambda with sorted():  Lambda functions can be used to define custom sorting logic."
      ],
      "metadata": {
        "id": "M0d7e1hXyIkP"
      }
    },
    {
      "cell_type": "code",
      "source": [
        "points = [(2, 3), (1, 2), (3, 1)]\n",
        "sorted_points = sorted(points, key=lambda point: point[1])\n",
        "# Sort by the second value\n",
        "print(sorted_points)\n"
      ],
      "metadata": {
        "colab": {
          "base_uri": "https://localhost:8080/"
        },
        "id": "2rg1TsyyyFD4",
        "outputId": "25bad308-9c9b-457f-b03c-4789a88abbaa"
      },
      "execution_count": null,
      "outputs": [
        {
          "output_type": "stream",
          "name": "stdout",
          "text": [
            "[(3, 1), (1, 2), (2, 3)]\n"
          ]
        }
      ]
    },
    {
      "cell_type": "markdown",
      "source": [
        "##Advantages of Lambda Functions:-\n",
        "\n",
        "* **Concise and Clean Code:-** For simple operations, lambda functions allow for cleaner and more concise code compared to defining a full function.\n",
        "* **No Need for a Name:-** Since lambda functions are anonymous, they are often used when you don’t need to reuse the function elsewhere in your code.\n",
        "* **Functional Programming:-** Lambda functions are ideal in functional programming paradigms where you work with higher-order functions (i.e., functions that take other functions as arguments).\n",
        "\n",
        "\n",
        "**Limitations of Lambda Functions:**\n",
        "\n",
        "* Single Expression: Since lambda functions can only have one expression, they are not suitable for more complex logic, especially when you need multiple statements.\n",
        "\n",
        "* Readability: While lambda functions can make code more concise, overuse or complex lambda expressions can reduce readability, especially for people unfamiliar with the code"
      ],
      "metadata": {
        "id": "brDSlPlIyRgc"
      }
    },
    {
      "cell_type": "markdown",
      "source": [
        "##**Question-9) Explain the purpose and usage of the map() function in Python.**\n",
        "**Answer-9)**  The map() function in Python is a built-in function used to apply a given function to all items in an iterable (such as a list, tuple, etc.) and return a map object (an iterator) that produces the results. It allows you to perform transformations or operations on each element of the iterable without using explicit loops.\n",
        "\n",
        "Syntax of map():\n",
        "\n",
        "map(function, iterable, ...)\n",
        "\n",
        "* function: The function to apply to each element of the iterable.\n",
        "* iterable: One or more iterable objects (like a list, tuple, etc.) whose elements will be processed by the function. You can provide multiple iterables, and the function will be applied in a \"parallel\" manner (i.e., corresponding elements from each iterable are passed to the function).\n",
        "\n",
        "The map() function returns a map object, which is an iterator. You can convert it into a list or another iterable type using list(), tuple(), or other container functions.\n",
        "\n",
        "**Working of Map() function:-**\n",
        "\n",
        "* It takes a function and an iterable as input.\n",
        "\n",
        "* It applies the function to each element of the iterable.\n",
        "* It returns an iterator, which produces the results lazily (only as needed)."
      ],
      "metadata": {
        "id": "Gro9e-vHyuEm"
      }
    },
    {
      "cell_type": "code",
      "source": [
        "numbers = [1, 2, 3, 4, 5]\n",
        "\n",
        "# Define a function to square a number\n",
        "def square(x):\n",
        "    return x * x\n",
        "\n",
        "# Use map to apply the square function to each number in the list\n",
        "squared_numbers = map(square, numbers)\n",
        "\n",
        "# Convert the result to a list and print it\n",
        "print(list(squared_numbers))\n"
      ],
      "metadata": {
        "colab": {
          "base_uri": "https://localhost:8080/"
        },
        "id": "GKnsM2FGyMsT",
        "outputId": "403f38d1-6a0f-4205-ae9c-cce66425bd98"
      },
      "execution_count": null,
      "outputs": [
        {
          "output_type": "stream",
          "name": "stdout",
          "text": [
            "[1, 4, 9, 16, 25]\n"
          ]
        }
      ]
    },
    {
      "cell_type": "markdown",
      "source": [
        "The map() function applies the square() function to each element in the numbers list. It returns an iterator, which we convert to a list to see the result."
      ],
      "metadata": {
        "id": "8n_-zADoz1Zd"
      }
    },
    {
      "cell_type": "markdown",
      "source": [
        "**Using Lambda with map():-**\n",
        "Instead of defining a separate function, you can use a lambda function to perform a simple operation inline. Here’s how to use map() with a lambda:"
      ],
      "metadata": {
        "id": "xvYxgU5nz5uB"
      }
    },
    {
      "cell_type": "code",
      "source": [
        "numbers = [1, 2, 3, 4, 5]\n",
        "\n",
        "# Use map with a lambda function to square each number\n",
        "squared_numbers = map(lambda x: x * x, numbers)\n",
        "\n",
        "# Convert the result to a list and print it\n",
        "print(list(squared_numbers))\n"
      ],
      "metadata": {
        "colab": {
          "base_uri": "https://localhost:8080/"
        },
        "id": "KNAsoe61z0NS",
        "outputId": "da317256-9a2a-4ccd-8aa7-e6e93c2fac72"
      },
      "execution_count": null,
      "outputs": [
        {
          "output_type": "stream",
          "name": "stdout",
          "text": [
            "[1, 4, 9, 16, 25]\n"
          ]
        }
      ]
    },
    {
      "cell_type": "markdown",
      "source": [
        "In this case, the lambda function lambda x: x * x is applied to each element of the list numbers."
      ],
      "metadata": {
        "id": "HsvHIwIm0HO8"
      }
    },
    {
      "cell_type": "markdown",
      "source": [
        "**Using Multiple Iterables:-**\n",
        "You can also pass multiple iterables to map(), and the function will be applied to corresponding elements from each iterable. The function must accept the same number of arguments as the number of iterables."
      ],
      "metadata": {
        "id": "rIzFXdEF0IaH"
      }
    },
    {
      "cell_type": "code",
      "source": [
        "a = [1, 2, 3]\n",
        "b = [4, 5, 6]\n",
        "\n",
        "# Use map to add corresponding elements from two lists\n",
        "result = map(lambda x, y: x + y, a, b)\n",
        "\n",
        "# Convert the result to a list and print it\n",
        "print(list(result))\n"
      ],
      "metadata": {
        "colab": {
          "base_uri": "https://localhost:8080/"
        },
        "id": "cijFY67q0DNa",
        "outputId": "e9b151c8-cbe0-4890-b30a-f06a68280636"
      },
      "execution_count": null,
      "outputs": [
        {
          "output_type": "stream",
          "name": "stdout",
          "text": [
            "[5, 7, 9]\n"
          ]
        }
      ]
    },
    {
      "cell_type": "markdown",
      "source": [
        "The map() function takes two lists (a and b) and applies the lambda function to the corresponding elements. The result is a new list with the sums of the corresponding elements.\n",
        "\n",
        "\n",
        "**Key Points About map():**\n",
        "\n",
        "* Lazy Evaluation: The map() function returns an iterator, so the actual computation (applying the function) only happens when the results are needed. This is useful when you want to work with large datasets efficiently.\n",
        "* Multiple Iterables: If multiple iterables are passed, the function is applied to the elements in parallel. If the iterables have different lengths, map() stops when the shortest iterable is exhausted.\n",
        "* Return Type: The result of map() is a map object, which is an iterator. You can convert it to a list, tuple, or another collection type if you need to store or view the results.\n",
        "\n",
        "**Advantages of map():**\n",
        "\n",
        "* Concise Code: map() allows you to apply a function to each item of an iterable without needing a loop, making the code more concise and easier to read.\n",
        "* Improved Performance: Since map() uses lazy evaluation, it doesn’t create intermediate lists (as with a list comprehension), making it more memory-efficient for large datasets.\n",
        "* Parallelism: You can apply a function to multiple iterables at the same time, which is useful for operations involving multiple datasets.\n",
        "\n",
        "**Use of map():**\n",
        "\n",
        "* When you need to apply the same function to each element of an iterable (or multiple iterables).\n",
        "* When you want to avoid writing an explicit loop (like for loops) to perform a transformation or operation.\n",
        "* When dealing with large datasets where you want to take advantage of lazy evaluation.\n",
        "\n",
        "**Comparison with List Comprehensions:**\n",
        "\n",
        "* While both map() and list comprehensions can be used to apply a function to each element of a list, there are differences:\n",
        "\n",
        "* map(): Returns an iterator (which is memory-efficient), and it works well with existing functions or lambda functions. It is often used when you want to apply a function to each element without writing a loop.\n",
        "\n",
        "* List Comprehension: Returns a list and is generally more Pythonic for simple transformations when you want a new list as the result."
      ],
      "metadata": {
        "id": "ipXZT6Rf0ViC"
      }
    },
    {
      "cell_type": "code",
      "source": [
        "# Using map\n",
        "squared_numbers_map = map(lambda x: x * x, numbers)\n",
        "\n",
        "# Using list comprehension\n",
        "squared_numbers_list = [x * x for x in numbers]\n",
        "\n",
        "# Both give the same result but the map version returns an iterator\n",
        "print(list(squared_numbers_map))\n",
        "print(squared_numbers_list)\n"
      ],
      "metadata": {
        "colab": {
          "base_uri": "https://localhost:8080/"
        },
        "id": "_EzlXLzn0SJZ",
        "outputId": "ac631641-6305-4f78-8d16-214d532da8a1"
      },
      "execution_count": null,
      "outputs": [
        {
          "output_type": "stream",
          "name": "stdout",
          "text": [
            "[1, 4, 9, 16, 25]\n",
            "[1, 4, 9, 16, 25]\n"
          ]
        }
      ]
    },
    {
      "cell_type": "markdown",
      "source": [
        "#**Question-10)What is the difference between `map()`, `reduce()`, and `filter()` functions in Python?**\n",
        "**Answer-10)**  In Python, the map(), reduce(), and filter() functions are all higher-order functions used for functional programming. They all take a function as an argument and apply it to one or more iterables, but they differ in how they process the iterables and what they return.\n",
        "##1. map()\n",
        "\n",
        "* Purpose: The map() function applies a given function to all items in an iterable (e.g., a list, tuple, etc.) and returns a new iterable (an iterator in Python 3) with the results.\n",
        "\n",
        "* Input: Takes a function and one or more iterables.\n",
        "\n",
        "* Return: Returns an iterator that applies the function to each element of the iterable(s) and produces the results lazily.\n",
        "\n",
        "Syntax:-\n",
        "\n",
        "map(function, iterable, ...)\n",
        "\n",
        "* function: A function that takes one or more arguments.\n",
        "\n",
        "* iterable: One or more iterables (e.g., lists, tuples) to apply the function to"
      ],
      "metadata": {
        "id": "qOjcXPTZ2AVA"
      }
    },
    {
      "cell_type": "code",
      "source": [
        "numbers = [1, 2, 3, 4]\n",
        "squared = map(lambda x: x**3, numbers)\n",
        "print(list(squared))\n"
      ],
      "metadata": {
        "colab": {
          "base_uri": "https://localhost:8080/"
        },
        "id": "a1FhbEHM1IZY",
        "outputId": "77731172-5c96-4483-e111-a17c1c5ad3bb"
      },
      "execution_count": null,
      "outputs": [
        {
          "output_type": "stream",
          "name": "stdout",
          "text": [
            "[1, 8, 27, 64]\n"
          ]
        }
      ]
    },
    {
      "cell_type": "markdown",
      "source": [
        "The function lambda x: x**3 is applied to each element of the numbers list, resulting in a new list of squared values.\n",
        "\n",
        "\n",
        "## 2. reduce()\n",
        "\n",
        "* Purpose: The reduce() function reduces an iterable to a single cumulative result by applying a binary function (a function that takes two arguments) cumulatively to the items in the iterable. It iteratively applies the function to the elements and accumulates the result.\n",
        "\n",
        "* Input: Takes a binary function and an iterable.\n",
        "\n",
        "* Return: Returns a single cumulative result after applying the function to the entire iterable.\n",
        "\n",
        "Syntax:-\n",
        "\n",
        "from functools import reduce\n",
        "\n",
        "reduce(function, iterable, [initializer])\n",
        "\n",
        "* function: A binary function that takes two arguments.\n",
        "\n",
        "* iterable: The iterable whose elements will be reduced.\n",
        "\n",
        "* initializer: (Optional) An initial value to start the reduction. If not provided, the first element of the iterable is used as the initial value.\n"
      ],
      "metadata": {
        "id": "EVr8gXce24WU"
      }
    },
    {
      "cell_type": "code",
      "source": [
        "from functools import reduce\n",
        "\n",
        "numbers = [1, 2, 3, 4]\n",
        "result = reduce(lambda x, y: x + y, numbers)\n",
        "print(result)\n"
      ],
      "metadata": {
        "colab": {
          "base_uri": "https://localhost:8080/"
        },
        "id": "8LIhk8wt2yH8",
        "outputId": "7496be2e-a400-44f9-9ee1-cd52d8b9702d"
      },
      "execution_count": null,
      "outputs": [
        {
          "output_type": "stream",
          "name": "stdout",
          "text": [
            "10\n"
          ]
        }
      ]
    },
    {
      "cell_type": "markdown",
      "source": [
        "## 3 .filter()\n",
        "\n",
        "* Purpose: The filter() function is used to filter elements from an iterable based on a condition (function) and returns a new iterable containing only the elements that satisfy the condition.\n",
        "\n",
        "* Input: Takes a function and an iterable.\n",
        "\n",
        "* Return: Returns an iterator containing only the elements that evaluate to True when passed to the function.\n",
        "\n",
        "syntax:-\n",
        "filter(function, iterable)"
      ],
      "metadata": {
        "id": "-Vh9lJDB3fUv"
      }
    },
    {
      "cell_type": "code",
      "source": [
        "numbers = [1, 2, 3, 4, 5, 6]\n",
        "even_numbers = filter(lambda x: x % 2 == 0, numbers)\n",
        "print(list(even_numbers))\n"
      ],
      "metadata": {
        "colab": {
          "base_uri": "https://localhost:8080/"
        },
        "id": "8CMt90D63bJn",
        "outputId": "0034fcdc-a1eb-40ac-eb19-5b15917891e4"
      },
      "execution_count": null,
      "outputs": [
        {
          "output_type": "stream",
          "name": "stdout",
          "text": [
            "[2, 4, 6]\n"
          ]
        }
      ]
    },
    {
      "cell_type": "markdown",
      "source": [
        "**Particular use of each functions**\n",
        "\n",
        "**map():**\n",
        "\n",
        "Use when you need to transform or modify each element in an iterable.\n",
        "\n",
        "Example: Squaring each number, converting strings to uppercase, etc.\n",
        "\n",
        "**reduce():**\n",
        "\n",
        "Use when you need to accumulate or combine elements of an iterable into a single value.\n",
        "\n",
        "Example: Summing all elements, finding the product of all numbers, etc.\n",
        "\n",
        "**filter():**\n",
        "\n",
        "Use when you need to select a subset of elements from an iterable that satisfy a certain condition.\n",
        "\n",
        "Example: Filtering out odd numbers, selecting strings that match a certain pattern, etc."
      ],
      "metadata": {
        "id": "dLDcrxav34Ik"
      }
    },
    {
      "cell_type": "markdown",
      "source": [],
      "metadata": {
        "id": "ell-31694Sk9"
      }
    },
    {
      "cell_type": "code",
      "source": [],
      "metadata": {
        "id": "oHhpGj_L3zd6"
      },
      "execution_count": null,
      "outputs": []
    }
  ]
}