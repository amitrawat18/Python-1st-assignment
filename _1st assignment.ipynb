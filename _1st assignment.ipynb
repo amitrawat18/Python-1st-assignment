{
 "cells": [
  {
   "cell_type": "code",
   "execution_count": 125,
   "id": "511b8c09-e2fb-4037-8e6e-14eed8e6dbce",
   "metadata": {},
   "outputs": [
    {
     "data": {
      "text/plain": [
       "7"
      ]
     },
     "execution_count": 125,
     "metadata": {},
     "output_type": "execute_result"
    }
   ],
   "source": [
    "# Question 1)- Explain the key features of Python that make it a popular choice for programming.\n",
    "\n",
    "#Answer:-   Features which make python a popular choice for programming are\n",
    "'''\n",
    "1- Easy to learn and read:- Python is a high level programming language yet it is considered as easiest to learn as it's syntax makes it\n",
    "easy to understand and read, it is like simple english language with no use of semicolon and brackets.\n",
    "2- Huge libraries:- Python has around 137000 libraries which allows programmers to code easily and also enhances the functionality of the application.\n",
    "3- Free and open source:- Python is developed under approved open source license, which makes it completely free  to use for different purposes,\n",
    "   it is also free to download. \n",
    "4-Portable:- Python is also portable as same code can be used in different operatinf systems like MaC, Windows, Linux and we do not rewrite the code \n",
    "            again.\n",
    "5-Extensible:- Python is also extensible as it can be written in other languages such as c++\n",
    "\n",
    "6-Object Oriented- One of the main feature of python is, it offers object oriented approach which allows user in software development and tackle real time \n",
    " and complex problems.\n",
    "7-Interpreted- Python is a interpreted language which means it reads the code line by line and there is no need to compile it, and this makes it \n",
    "easier to debug and code.\n",
    "8-Dynamically typed- This means that we can provide the variables during the rum time of the code unlike other languages where variables need to be \n",
    "specified earlier.\n",
    "9-GUI support- Python allows it users to creat Graphic user Interfaces by using libraries like tkinter, PyQt.\n",
    "10- Large community- Python has become a very popular language and is also more preferable because of which it has attracted a lot of users and helps \n",
    "other people also to connect to them and learn the language easily\n",
    "'''\n",
    "# if want to add 2 numbers we can simply add them for example\n",
    "v=5\n",
    "z=2\n",
    "v+z\n",
    "\n",
    "# answer 7 is simply given by just a simple code"
   ]
  },
  {
   "cell_type": "code",
   "execution_count": 1,
   "id": "284d78da-cc20-407d-a8e8-2d0b35f2b4ed",
   "metadata": {},
   "outputs": [
    {
     "data": {
      "text/plain": [
       "1"
      ]
     },
     "execution_count": 1,
     "metadata": {},
     "output_type": "execute_result"
    }
   ],
   "source": [
    "# Question2)-  Describe the role of predefined keywords in Python and provide examples of how they are used in a program.\n",
    "\n",
    "\n",
    "#Answer2)-\n",
    "#A predefined keyword in python executes a particular function as they are reserved for only one function,\n",
    "#  and also defines the syntax of the code ,they cannot be used as variables or other data types. examples are if, else, elif, True, False and etc\n",
    "\n",
    "#Examples:- True and False- These are predefined keywords which have a particular value that is True= 1 and False= 0\n",
    "\n",
    "a= True\n",
    "b= False\n",
    "a+b\n",
    "# here a+b will give 1 as answer\n"
   ]
  },
  {
   "cell_type": "code",
   "execution_count": 3,
   "id": "8e2014dc-9c06-46f2-b71b-493b1e7a1c0c",
   "metadata": {},
   "outputs": [
    {
     "name": "stdin",
     "output_type": "stream",
     "text": [
      "Please enter the value of a 7\n",
      "Please enter the value of b 6\n"
     ]
    },
    {
     "name": "stdout",
     "output_type": "stream",
     "text": [
      "a is greater than b\n"
     ]
    }
   ],
   "source": [
    "# If and else keywords it is used to solve conditional problems \n",
    "#code:-\n",
    "a=int(input(\"Please enter the value of a\"))\n",
    "b=int(input(\"Please enter the value of b\"))\n",
    "if b>7:\n",
    "    print(\"b is greater than a\")\n",
    "else:\n",
    "    print(\"a is greater than b\")\n",
    "\n",
    "\n",
    "# here we can see that If and Else follows a particular syntax and has a particular function of performing conditional tasks.\n",
    "\n"
   ]
  },
  {
   "cell_type": "code",
   "execution_count": 9,
   "id": "13ab6307-e153-4b22-8cb2-03ff09891ee7",
   "metadata": {},
   "outputs": [
    {
     "name": "stdin",
     "output_type": "stream",
     "text": [
      "Please Enter Your Age 12\n"
     ]
    },
    {
     "name": "stdout",
     "output_type": "stream",
     "text": [
      "You are eligible for children discount\n"
     ]
    }
   ],
   "source": [
    "#Elif is also a predefined keyword used for adding more conditions example is given below\n",
    "\n",
    "age=int(input(\"Please Enter Your Age\"))\n",
    "if 60>age>18:\n",
    "    print(\"You are not eligible for discount\")\n",
    "    \n",
    "    #here another condition is given for that we will use elif keyword\n",
    "elif age<18:\n",
    "    print(\"You are eligible for children discount\")\n",
    "    \n",
    "else:\n",
    "    print(\"You are eligible for senior citizen discount\")\n",
    "\n",
    "    "
   ]
  },
  {
   "cell_type": "code",
   "execution_count": 5,
   "id": "e673f5e5-0a65-4a84-8580-b07c781669f4",
   "metadata": {},
   "outputs": [
    {
     "data": {
      "text/plain": [
       "[1, 4, 2.5, 'Ankit', True]"
      ]
     },
     "execution_count": 5,
     "metadata": {},
     "output_type": "execute_result"
    }
   ],
   "source": [
    "#Question 3)- Compare and contrast mutable and immutable objects in Python with examples.\n",
    "\n",
    "\n",
    "#Answer3)-\n",
    "'''   \n",
    "In Python there are two types of objects that is Mutable and Immutable. \n",
    "Mutable:- This means Changeable, so any object which can be changed from one value to other is known as mutable\n",
    "examples of mutable objects are- List and Dictionaries \n",
    "Let us take a example of list\n",
    "'''\n",
    "a=[1, 4, 2.5, \"Amit\", True]\n",
    "# here the values of list a are given now let's change the value of Amit to Ankit\n",
    "# Position of Amit is 3 in the list\n",
    "a[3]= \"Ankit\"\n",
    "a\n",
    "\n",
    "# here we can see that the value of Amit has changed to Ankit. Now in next cell we will explain Immutable objects."
   ]
  },
  {
   "cell_type": "code",
   "execution_count": 21,
   "id": "88b03adb-feab-4712-bf97-dc81ca9fdd40",
   "metadata": {},
   "outputs": [
    {
     "name": "stdout",
     "output_type": "stream",
     "text": [
      " \n"
     ]
    },
    {
     "data": {
      "text/plain": [
       "False"
      ]
     },
     "execution_count": 21,
     "metadata": {},
     "output_type": "execute_result"
    }
   ],
   "source": [
    "# Immutable objects are those whose values cannot be changed examples of imutable objects are-  String and Tuple\n",
    "# Lets take example of a string \n",
    "g=\" Pwskills\"\n",
    "\n",
    "# now we will try to change value of P in pwskills to Q value of P in pwskills is at 0\n",
    "\n",
    "print(g[0])==\"Q\"\n",
    "\n",
    "# here we can see string object is not mutable\n",
    "\n",
    "\n",
    "\n"
   ]
  },
  {
   "cell_type": "code",
   "execution_count": 11,
   "id": "4ad9239f-044d-43dd-b2e7-77248267d1b4",
   "metadata": {},
   "outputs": [
    {
     "data": {
      "text/plain": [
       "18"
      ]
     },
     "execution_count": 11,
     "metadata": {},
     "output_type": "execute_result"
    }
   ],
   "source": [
    "# Question 4)-Discuss the different types of operators in Python and provide examples of how they are used.\n",
    "\n",
    "#Answer4)-\n",
    "# Operators are special symbols that are used to carry out a specific action on numbers or variables in python\n",
    "# 1)- ARITHMETIC OPERATOR -These are used for calculation purposes exampeles are +,-, /,*.    let us see hoe these works\n",
    "a=15\n",
    "b=3\n",
    "a+b\n",
    "# here the answer will be 18 similarly \n",
    "\n"
   ]
  },
  {
   "cell_type": "code",
   "execution_count": 13,
   "id": "c0dc66ce-2c5a-47b1-84ac-054d48612c5e",
   "metadata": {},
   "outputs": [
    {
     "data": {
      "text/plain": [
       "45"
      ]
     },
     "execution_count": 13,
     "metadata": {},
     "output_type": "execute_result"
    }
   ],
   "source": [
    "#examples of arithmetic operators\n",
    "\n",
    "a*b"
   ]
  },
  {
   "cell_type": "code",
   "execution_count": 15,
   "id": "495f45e9-e919-48da-808f-42c9a5c3640b",
   "metadata": {},
   "outputs": [
    {
     "data": {
      "text/plain": [
       "12"
      ]
     },
     "execution_count": 15,
     "metadata": {},
     "output_type": "execute_result"
    }
   ],
   "source": [
    "a-b"
   ]
  },
  {
   "cell_type": "code",
   "execution_count": 17,
   "id": "9b46a447-f15d-4246-b8e1-869ea711ffe2",
   "metadata": {},
   "outputs": [
    {
     "data": {
      "text/plain": [
       "5.0"
      ]
     },
     "execution_count": 17,
     "metadata": {},
     "output_type": "execute_result"
    }
   ],
   "source": [
    "a/b"
   ]
  },
  {
   "cell_type": "code",
   "execution_count": 21,
   "id": "bd22090a-4213-4e44-a366-7b98c179a3fe",
   "metadata": {},
   "outputs": [
    {
     "data": {
      "text/plain": [
       "1"
      ]
     },
     "execution_count": 21,
     "metadata": {},
     "output_type": "execute_result"
    }
   ],
   "source": [
    "#MODULUS OPERATOR:- This operator is used to give remainder of a divisional operation. it is represented by (%)\n",
    "# Example:-\n",
    "f=82\n",
    "o=9\n",
    "f%o\n",
    "\n",
    "#Here 81 is a multiple of 9 but 82 is one ore than 81 so the answer came as one.\n"
   ]
  },
  {
   "cell_type": "code",
   "execution_count": 23,
   "id": "2ad25de7-a7c6-49cd-ab6a-9fa34629e7be",
   "metadata": {},
   "outputs": [
    {
     "data": {
      "text/plain": [
       "True"
      ]
     },
     "execution_count": 23,
     "metadata": {},
     "output_type": "execute_result"
    }
   ],
   "source": [
    "# COMPARISON OPERATOR- It compares two values and returns boolean values which is true or false, these contains ==,!=.<,>\n",
    "# example:-\n",
    "q=7\n",
    "z=10\n",
    "q<z\n",
    "\n",
    "# here we will get value True as the comparison is correct and value of q is maller than z."
   ]
  },
  {
   "cell_type": "code",
   "execution_count": 25,
   "id": "75ee88a6-64d2-4294-bb66-db8819a265d2",
   "metadata": {},
   "outputs": [
    {
     "data": {
      "text/plain": [
       "True"
      ]
     },
     "execution_count": 25,
     "metadata": {},
     "output_type": "execute_result"
    }
   ],
   "source": [
    "# != this representsnot equal to\n",
    "g=34\n",
    "p=24\n",
    "g!=p\n",
    "\n",
    "# here value of g is not equal to the p so the value stand for true."
   ]
  },
  {
   "cell_type": "code",
   "execution_count": 27,
   "id": "421048e3-49e0-4ef8-8039-3899b93c7f11",
   "metadata": {},
   "outputs": [
    {
     "data": {
      "text/plain": [
       "True"
      ]
     },
     "execution_count": 27,
     "metadata": {},
     "output_type": "execute_result"
    }
   ],
   "source": [
    "# == stands for equal to \n",
    "e=87\n",
    "w=87\n",
    "e==w"
   ]
  },
  {
   "cell_type": "code",
   "execution_count": 29,
   "id": "e280d2ca-9e87-450b-8923-2fb7d74c0a4f",
   "metadata": {},
   "outputs": [
    {
     "data": {
      "text/plain": [
       "False"
      ]
     },
     "execution_count": 29,
     "metadata": {},
     "output_type": "execute_result"
    }
   ],
   "source": [
    "s=45\n",
    "h=46\n",
    "s>h\n",
    "\n",
    "# here value of h is greater than the s so the answer is false."
   ]
  },
  {
   "cell_type": "code",
   "execution_count": 35,
   "id": "c6f8d6f6-3a71-4f4d-b233-3cafa2a5c28b",
   "metadata": {},
   "outputs": [
    {
     "data": {
      "text/plain": [
       "True"
      ]
     },
     "execution_count": 35,
     "metadata": {},
     "output_type": "execute_result"
    }
   ],
   "source": [
    "#LOGICAL OPERATOR\n",
    "'''Now we will study logical operator that are \"and\" , \"or\"\n",
    "these two are part of logical operator\n",
    "AND- this contains 2 values True and False with values 1,0 respectively.\n",
    "for \"and\" results are  1 , 0 = 0\n",
    "                       0 , 1 = 0\n",
    "                       0 , 0 = 0\n",
    "                       1 , 1 = 1\n",
    "                \n",
    "it means for \"and\" operator true value will come only when both values are true\n",
    "'''\n",
    "#example \n",
    "# if we look at examples true value comes only when both the values are true.\n",
    "True and True"
   ]
  },
  {
   "cell_type": "code",
   "execution_count": 37,
   "id": "0821cf18-3e47-4ea3-a4f5-c9ff372921f7",
   "metadata": {},
   "outputs": [
    {
     "data": {
      "text/plain": [
       "False"
      ]
     },
     "execution_count": 37,
     "metadata": {},
     "output_type": "execute_result"
    }
   ],
   "source": [
    "True and False"
   ]
  },
  {
   "cell_type": "code",
   "execution_count": 39,
   "id": "b7b6c6fe-c485-4fc6-9bc8-c8ef41d602be",
   "metadata": {},
   "outputs": [
    {
     "data": {
      "text/plain": [
       "False"
      ]
     },
     "execution_count": 39,
     "metadata": {},
     "output_type": "execute_result"
    }
   ],
   "source": [
    "False and False"
   ]
  },
  {
   "cell_type": "code",
   "execution_count": 41,
   "id": "1800fbd6-d03b-4b29-a9d8-fd2b70ae7a1f",
   "metadata": {},
   "outputs": [
    {
     "data": {
      "text/plain": [
       "False"
      ]
     },
     "execution_count": 41,
     "metadata": {},
     "output_type": "execute_result"
    }
   ],
   "source": [
    "False and True"
   ]
  },
  {
   "cell_type": "code",
   "execution_count": 45,
   "id": "9a317c7f-cf84-4714-9776-276a201fb412",
   "metadata": {},
   "outputs": [
    {
     "data": {
      "text/plain": [
       "True"
      ]
     },
     "execution_count": 45,
     "metadata": {},
     "output_type": "execute_result"
    }
   ],
   "source": [
    "'''OR OPERATOR- in this true values comes always exceot for when both the values are false. 1, 0= 1\n",
    "                                                                                            0, 1= 1\n",
    "                                                                                            1, 1= 1\n",
    "                                                                                            0, 0= 0\n",
    "'''\n",
    "# examples given\n",
    "True or True"
   ]
  },
  {
   "cell_type": "code",
   "execution_count": 47,
   "id": "c637cdb2-7625-4669-b8e6-795437cc9974",
   "metadata": {},
   "outputs": [
    {
     "data": {
      "text/plain": [
       "True"
      ]
     },
     "execution_count": 47,
     "metadata": {},
     "output_type": "execute_result"
    }
   ],
   "source": [
    "True or False"
   ]
  },
  {
   "cell_type": "code",
   "execution_count": 49,
   "id": "75ce0cd6-9787-4c51-9e22-0ed0418ee9fe",
   "metadata": {},
   "outputs": [
    {
     "data": {
      "text/plain": [
       "True"
      ]
     },
     "execution_count": 49,
     "metadata": {},
     "output_type": "execute_result"
    }
   ],
   "source": [
    "False or True"
   ]
  },
  {
   "cell_type": "code",
   "execution_count": 53,
   "id": "be63c315-b565-4f4e-9195-aa7acc9e0db2",
   "metadata": {},
   "outputs": [
    {
     "data": {
      "text/plain": [
       "False"
      ]
     },
     "execution_count": 53,
     "metadata": {},
     "output_type": "execute_result"
    }
   ],
   "source": [
    "False or False"
   ]
  },
  {
   "cell_type": "code",
   "execution_count": 55,
   "id": "8c5a44f7-a47f-44ba-9c9d-728e3ce699cf",
   "metadata": {},
   "outputs": [
    {
     "data": {
      "text/plain": [
       "20"
      ]
     },
     "execution_count": 55,
     "metadata": {},
     "output_type": "execute_result"
    }
   ],
   "source": [
    "#Assignment operator:- It is used to simply assign a value to the variables\n",
    "#example are =, +=, _=, /=, %= and etc\n",
    "n=12\n",
    "c=8\n",
    "b=n+c\n",
    "b\n",
    "\n",
    "# here b is assigned a value of sum of n+c that means b will have value whatever will be the sum of n and c."
   ]
  },
  {
   "cell_type": "code",
   "execution_count": 63,
   "id": "c7d36341-49fb-42a1-9955-9127f5ba7a4b",
   "metadata": {},
   "outputs": [
    {
     "data": {
      "text/plain": [
       "10"
      ]
     },
     "execution_count": 63,
     "metadata": {},
     "output_type": "execute_result"
    }
   ],
   "source": [
    "# now if we use +=\n",
    "\n",
    "a=9\n",
    "b=1\n",
    "# so instead of writing a= a+b we can write\n",
    "a+=b\n",
    "a"
   ]
  },
  {
   "cell_type": "code",
   "execution_count": 25,
   "id": "b47a95f3-75b6-451f-be59-dc60aac8dbc9",
   "metadata": {},
   "outputs": [
    {
     "data": {
      "text/plain": [
       "True"
      ]
     },
     "execution_count": 25,
     "metadata": {},
     "output_type": "execute_result"
    }
   ],
   "source": [
    "#membership operator:- This operator shows the membership of any particular value in an object\n",
    "#example):- Lets take a word and check whether the letter is a member of the word or not\n",
    "\n",
    "\n",
    "a= \"environment\"\n",
    "\"o\"in a\n",
    "\n",
    "# the answer given is true as o is present in the word environmet"
   ]
  },
  {
   "cell_type": "code",
   "execution_count": 27,
   "id": "628eef1d-ab3a-4eac-801c-99b0756d7203",
   "metadata": {},
   "outputs": [
    {
     "data": {
      "text/plain": [
       "False"
      ]
     },
     "execution_count": 27,
     "metadata": {},
     "output_type": "execute_result"
    }
   ],
   "source": [
    "# identity operator\n",
    "# used to compares the location of two variables and checks whether both the variables are same or not\n",
    "# example):-\n",
    "\n",
    "a=2\n",
    "b=3\n",
    "a is b\n",
    "\n",
    "# here a is not equal to b so the answer is false"
   ]
  },
  {
   "cell_type": "code",
   "execution_count": 43,
   "id": "a2389b61-4819-484f-a14e-364d608619a4",
   "metadata": {},
   "outputs": [
    {
     "data": {
      "text/plain": [
       "1"
      ]
     },
     "execution_count": 43,
     "metadata": {},
     "output_type": "execute_result"
    }
   ],
   "source": [
    "# bitwise operator\n",
    "# This is used to perform the calculations in binary form, firstly the integers are converted into binary form and then calculations are done\n",
    "#(&) this represents a bitwise operator\n",
    "#example):- Lets take two binary numbers 8 and 9 and check its bit value\n",
    "\n",
    "a=5\n",
    "b=9\n",
    "a&b\n",
    "\n",
    "# here we can see that the bit value of 5 and 9 is 1"
   ]
  },
  {
   "cell_type": "code",
   "execution_count": 31,
   "id": "6f66aaa9-7461-4427-b319-8068d8b7cf42",
   "metadata": {},
   "outputs": [
    {
     "data": {
      "text/plain": [
       "'0b1000'"
      ]
     },
     "execution_count": 31,
     "metadata": {},
     "output_type": "execute_result"
    }
   ],
   "source": [
    "#this is the binary value of 5\n",
    "bin(5)"
   ]
  },
  {
   "cell_type": "code",
   "execution_count": 33,
   "id": "9b3c5701-c21b-4ca2-8a80-a508466f037d",
   "metadata": {},
   "outputs": [
    {
     "data": {
      "text/plain": [
       "'0b1001'"
      ]
     },
     "execution_count": 33,
     "metadata": {},
     "output_type": "execute_result"
    }
   ],
   "source": [
    "# this is the binary value of 9\n",
    "bin(9)"
   ]
  },
  {
   "cell_type": "code",
   "execution_count": 47,
   "id": "b8adcb61-8a10-4480-aefb-a28dd1877d12",
   "metadata": {},
   "outputs": [
    {
     "data": {
      "text/plain": [
       "'0b1'"
      ]
     },
     "execution_count": 47,
     "metadata": {},
     "output_type": "execute_result"
    }
   ],
   "source": [
    "bin(1)"
   ]
  },
  {
   "cell_type": "code",
   "execution_count": 49,
   "id": "918cc78b-b59f-4e59-b7a4-a6c7eb78e4b3",
   "metadata": {},
   "outputs": [
    {
     "data": {
      "text/plain": [
       "80"
      ]
     },
     "execution_count": 49,
     "metadata": {},
     "output_type": "execute_result"
    }
   ],
   "source": [
    "# shift operator\n",
    "\n",
    "# left shift (<<)\n",
    "# left shift shifts the bit to the left by specified number of position\n",
    "20<< 2\n",
    "\n",
    "# here what happened is that the two number of zeroes were added to the binary value of 20\n"
   ]
  },
  {
   "cell_type": "code",
   "execution_count": 51,
   "id": "17650b0d-01ef-499e-9165-4febb6663c45",
   "metadata": {},
   "outputs": [
    {
     "data": {
      "text/plain": [
       "'0b10100'"
      ]
     },
     "execution_count": 51,
     "metadata": {},
     "output_type": "execute_result"
    }
   ],
   "source": [
    "bin(20)"
   ]
  },
  {
   "cell_type": "code",
   "execution_count": 53,
   "id": "fc4ff391-7ce5-409b-ac49-0f0a8c61dfa5",
   "metadata": {},
   "outputs": [
    {
     "data": {
      "text/plain": [
       "'0b1010000'"
      ]
     },
     "execution_count": 53,
     "metadata": {},
     "output_type": "execute_result"
    }
   ],
   "source": [
    "bin(80)"
   ]
  },
  {
   "cell_type": "code",
   "execution_count": null,
   "id": "770ee6e6-89d3-4254-b757-8e3ff0f35bea",
   "metadata": {},
   "outputs": [],
   "source": [
    "# here we can see that there are two extra zeroes on the left side of the bin value of 20 making it a bin value of 80\n"
   ]
  },
  {
   "cell_type": "code",
   "execution_count": 75,
   "id": "dacf2d90-6252-4946-a3f0-98e21d9fc3b2",
   "metadata": {},
   "outputs": [
    {
     "name": "stdout",
     "output_type": "stream",
     "text": [
      "<class 'int'>\n",
      "<class 'float'>\n"
     ]
    },
    {
     "data": {
      "text/plain": [
       "31.25"
      ]
     },
     "execution_count": 75,
     "metadata": {},
     "output_type": "execute_result"
    }
   ],
   "source": [
    "#Question 5)- Explain the concept of type casting in Python with examples.\n",
    "\n",
    "#Answer5)-\n",
    "'''Type casting is a method in python which is wsed to convert the data type of a variable to another data type.\n",
    "example to convert a float value to integer or  a integer to string\n",
    "There are two types of type casting Implicit and Explicit type casting.\n",
    "In Implicit casting python itself understands and converts the datatype according to the values                                    '''\n",
    "k= 25\n",
    "print(type(a))\n",
    "j= 6.25\n",
    "print(type(j))\n",
    "c=k+j\n",
    "c\n",
    "\n",
    "# here k is a integer and j is a float value and we add both the values we  float value as a answer "
   ]
  },
  {
   "cell_type": "code",
   "execution_count": 79,
   "id": "babb4942-4db0-4a2b-8b12-59675b67049e",
   "metadata": {},
   "outputs": [
    {
     "name": "stdout",
     "output_type": "stream",
     "text": [
      "10.5\n"
     ]
    },
    {
     "data": {
      "text/plain": [
       "float"
      ]
     },
     "execution_count": 79,
     "metadata": {},
     "output_type": "execute_result"
    }
   ],
   "source": [
    "# now comes explicit type casting where we can change values according to our wish to get the desired answer\n",
    "# example \n",
    "x=3.5\n",
    "y=7\n",
    "print(x+y)\n",
    "type(x+y)\n",
    "\n",
    "# here we can see that we got the answer as a float but to get the answer as string we can use type casting"
   ]
  },
  {
   "cell_type": "code",
   "execution_count": 81,
   "id": "7fe1d4fd-ffc6-4503-b285-db538b788d0a",
   "metadata": {},
   "outputs": [
    {
     "name": "stdout",
     "output_type": "stream",
     "text": [
      "10\n"
     ]
    },
    {
     "data": {
      "text/plain": [
       "int"
      ]
     },
     "execution_count": 81,
     "metadata": {},
     "output_type": "execute_result"
    }
   ],
   "source": [
    "x=int(3.5)\n",
    "y=7\n",
    "print(x+y)\n",
    "type(x+y)\n",
    "\n",
    "# here we got the answer as an integer."
   ]
  },
  {
   "cell_type": "code",
   "execution_count": 91,
   "id": "6b589e4d-5a5e-4018-8399-d77a84986438",
   "metadata": {},
   "outputs": [
    {
     "data": {
      "text/plain": [
       "'5'"
      ]
     },
     "execution_count": 91,
     "metadata": {},
     "output_type": "execute_result"
    }
   ],
   "source": [
    "# similarly we can convert a integer to a string and other datatypes as well\n",
    "p=5\n",
    "type(p)\n",
    "# but if we write\n",
    "v=str(p)\n",
    "v"
   ]
  },
  {
   "cell_type": "code",
   "execution_count": 97,
   "id": "085a5766-a1ef-4116-9615-750d3989de3b",
   "metadata": {},
   "outputs": [
    {
     "name": "stdin",
     "output_type": "stream",
     "text": [
      "Please enter the number 25\n"
     ]
    },
    {
     "name": "stdout",
     "output_type": "stream",
     "text": [
      "Integer f is greater than e\n"
     ]
    }
   ],
   "source": [
    "# Question 6)- How do conditional statements work in Python? Illustrate with examples.\n",
    "\n",
    "\n",
    "#Answer6)-\n",
    "''' Conditional statement helps us to to code based on different conditions given to us\n",
    "It's types are \n",
    "1- if \n",
    "2- if-else\n",
    "3- if-elif-else\n",
    "4- nested if-else                                                                                    '''\n",
    "\n",
    "#Example of if \n",
    "e=23\n",
    "f=int(input(\"Please enter the number\"))\n",
    "if f>e:\n",
    "    print(\"Integer f is greater than e\")\n",
    "\n",
    "    # here first programme takes the input then after getting the value it checks the condition and if it finds the condition to be true\n",
    "    # it prints the desired output otherwise if the condition is false it gives no output.\n",
    "    "
   ]
  },
  {
   "cell_type": "code",
   "execution_count": 101,
   "id": "dd009dce-18e4-4130-a7f7-a184d21a1ec7",
   "metadata": {},
   "outputs": [
    {
     "name": "stdin",
     "output_type": "stream",
     "text": [
      "Please enter the desired number 3\n"
     ]
    },
    {
     "name": "stdout",
     "output_type": "stream",
     "text": [
      "Integer Y is greater\n"
     ]
    }
   ],
   "source": [
    "# example of if-else\n",
    "# here else gives another condition in which if a condition is not followed it will print the else statement'\n",
    "y=8\n",
    "i=int(input(\"Please enter the desired number\"))\n",
    "if i>y:\n",
    "    print(\"Integer I is greater \")\n",
    "else:\n",
    "    print(\"Integer Y is greater\")"
   ]
  },
  {
   "cell_type": "code",
   "execution_count": 111,
   "id": "687cec38-2167-4692-8b8e-04d681ab1d3a",
   "metadata": {},
   "outputs": [
    {
     "name": "stdin",
     "output_type": "stream",
     "text": [
      "Please enter your grade 75\n"
     ]
    },
    {
     "name": "stdout",
     "output_type": "stream",
     "text": [
      "You are eligible for 50% scholarship\n"
     ]
    }
   ],
   "source": [
    "# example of if-elif-else:- This is used to add multiple conditions of the programme ,\n",
    "grade=int(input(\"Please enter your grade\"))\n",
    "if grade>90:\n",
    "    print(\"You are eligible for 90% scholarship\")\n",
    "elif 90>grade>80:\n",
    "    print (\"You ar eeligible for 80% scholarship\")\n",
    "elif 80>grade>70:\n",
    "    print(\"You are eligible for 50% scholarship\")\n",
    "else:\n",
    "    print(\"You are not eligible for Scholarship\")\n",
    "\n",
    "\n",
    "# here the programme first takes the input then run it across all the condition and gives output of the condition which satisfies it. "
   ]
  },
  {
   "cell_type": "code",
   "execution_count": 123,
   "id": "d9a0771d-e744-4e77-98e6-c4d18f18c9c5",
   "metadata": {},
   "outputs": [
    {
     "name": "stdin",
     "output_type": "stream",
     "text": [
      "Please enter the number 97\n"
     ]
    },
    {
     "name": "stdout",
     "output_type": "stream",
     "text": [
      "The number is greater than 50\n",
      "The number is odd\n"
     ]
    }
   ],
   "source": [
    "# Example of nested if else:- it is used to multiple condition on a single input \n",
    "r=int(input(\"Please enter the number\"))\n",
    "r\n",
    "# now we will give it a condition to check whether number is greater 50 or not\n",
    "# this is outer if \n",
    "if r>50:\n",
    "    print(\"The number is greater than 50\")\n",
    "    # now we also want to check if the same number is even or not for that we have to put other if statement\n",
    "    # this is inner if \n",
    "    \n",
    "    if r % 2 == 0:\n",
    "        print(\"The number is even\")\n",
    "    else:\n",
    "        print(\"The number is odd\")\n",
    "        \n",
    "        # this else statement was of inner if statement\n",
    "else:\n",
    "    print(\"The number is smaller than 50\")\n",
    "    \n",
    "    # this last else represent the condition of the outer if "
   ]
  },
  {
   "cell_type": "code",
   "execution_count": 9,
   "id": "16e4cf0d-fdcb-4619-b7a8-2840e3b4d8a7",
   "metadata": {},
   "outputs": [
    {
     "name": "stdout",
     "output_type": "stream",
     "text": [
      "1\n",
      "2\n",
      "3\n",
      "4\n",
      "5\n",
      "6\n",
      "7\n",
      "8\n",
      "9\n",
      "10\n",
      "11\n",
      "12\n",
      "13\n",
      "14\n",
      "15\n",
      "16\n",
      "17\n",
      "18\n",
      "19\n",
      "20\n",
      "21\n",
      "22\n",
      "23\n",
      "24\n",
      "25\n"
     ]
    }
   ],
   "source": [
    "# Question 7)-  Describe the different types of loops in Python and their use cases with examples.\n",
    "\n",
    "#Answer7)- There are two types of loops in Python which are While loop and For loop\n",
    "# While loop):- It is a syntax of code which allow us to execute a code in such a way that it repeats itself until the condition provided,\n",
    "# to it is true and as soon as the condition provided gets false it stops executing the code.\n",
    "\n",
    "#example using a code:)- Lets print the counting upto 25 using while loop\n",
    "\n",
    "num=1\n",
    "# here we have described a variable num which represents th numberfrom where the counting will start, now we will apply for loop\n",
    "\n",
    "while num<=25:\n",
    "    print(num)\n",
    "    num+=1\n",
    "\n",
    "''' here while condition states that if the number will be less than equal to 25 it will print it,\n",
    "the programme first checks the condition if it's true then it moves to the condition of num+1\n",
    "and then prints the number, this will stop printing when number goes above 25 and the loop itself stops"
   ]
  },
  {
   "cell_type": "code",
   "execution_count": 19,
   "id": "698d4a5a-c698-4b67-80b5-3b6c90b9e676",
   "metadata": {},
   "outputs": [
    {
     "name": "stdout",
     "output_type": "stream",
     "text": [
      "book\n",
      "box\n",
      "chair\n",
      "table\n"
     ]
    }
   ],
   "source": [
    "# For loop):- This loop repeats itself until it gives the complete sequence of itmes in a particular list, string, tuple or range\n",
    "# example):- Lets create a list of items\n",
    "\n",
    "items=[\"book\",\"box\",\"chair\",\"table\"]\n",
    "# now we will use for loop to print items in the list\n",
    "\n",
    "for item in items:\n",
    "    print(item)\n"
   ]
  },
  {
   "cell_type": "code",
   "execution_count": 23,
   "id": "69deb462-728f-4bc1-845b-ec56a52e20ff",
   "metadata": {},
   "outputs": [
    {
     "name": "stdout",
     "output_type": "stream",
     "text": [
      "D\n",
      "A\n",
      "T\n",
      "A\n",
      " \n",
      "A\n",
      "N\n",
      "A\n",
      "L\n",
      "Y\n",
      "T\n",
      "I\n",
      "C\n",
      "S\n"
     ]
    }
   ],
   "source": [
    "# we can also use this to print letters of a word seperately\n",
    "p=\"DATA ANALYTICS\"\n",
    "for y in p:\n",
    "    print(y)"
   ]
  },
  {
   "cell_type": "code",
   "execution_count": null,
   "id": "f1a9c9ec-e1bb-4fd8-8f60-d271cf7a002e",
   "metadata": {},
   "outputs": [],
   "source": []
  }
 ],
 "metadata": {
  "kernelspec": {
   "display_name": "Python 3 (ipykernel)",
   "language": "python",
   "name": "python3"
  },
  "language_info": {
   "codemirror_mode": {
    "name": "ipython",
    "version": 3
   },
   "file_extension": ".py",
   "mimetype": "text/x-python",
   "name": "python",
   "nbconvert_exporter": "python",
   "pygments_lexer": "ipython3",
   "version": "3.12.7"
  }
 },
 "nbformat": 4,
 "nbformat_minor": 5
}
